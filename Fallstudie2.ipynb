{
 "cells": [
  {
   "cell_type": "code",
   "execution_count": 41,
   "metadata": {},
   "outputs": [],
   "source": [
    "import tweepy\n",
    "key = 'keys.py'"
   ]
  },
  {
   "cell_type": "code",
   "execution_count": 42,
   "metadata": {},
   "outputs": [
    {
     "name": "stdout",
     "output_type": "stream",
     "text": [
      "Writing keys.py\n"
     ]
    }
   ],
   "source": [
    "%%writefile {key}\n",
    "\n",
    "consumer_key= \"O6S9Dqz59HcsTCmWqGt2I2UK0\"\n",
    "consumer_secret= \"P9sXknnuA2qVM1jh38asDlQZadnaBX1xh2Bc2ptQDXQhzpGXUL\"\n",
    "access_token= \"1457401307304706065-txNKnVEyeTJ0wPkNzMLRcWWNEPx8FX\"\n",
    "access_token_secret= \"O4Kz7tEGWIcCDtuvUJbwBOT0C3HznQjwAkwXcmWmRoZ2R\"\n",
    "bearer_token = \"AAAAAAAAAAAAAAAAAAAAAJuHWgEAAAAAZZzGNSewFObbzQNwrjafck36sAg%3DodSUJhWL4dV1kfQnu45S5QYyH08Txq0z15Ttc2PjMHuvSP0OG8\""
   ]
  },
  {
   "cell_type": "code",
   "execution_count": 43,
   "metadata": {},
   "outputs": [],
   "source": [
    "from keys import *"
   ]
  },
  {
   "cell_type": "code",
   "execution_count": 44,
   "metadata": {},
   "outputs": [],
   "source": [
    "import requests\n",
    "\n",
    "client = tweepy.Client( bearer_token=bearer_token, \n",
    "                        consumer_key=consumer_key, \n",
    "                        consumer_secret=consumer_secret, \n",
    "                        access_token=access_token, \n",
    "                        access_token_secret=access_token_secret, \n",
    "                        return_type = requests.Response,\n",
    "                        wait_on_rate_limit=True)"
   ]
  },
  {
   "cell_type": "code",
   "execution_count": 51,
   "metadata": {},
   "outputs": [],
   "source": [
    "# Define query\n",
    "query = 'from:KingJames -is:retweet'\n",
    "\n",
    "# get max. 10 tweets\n",
    "tweets = client.search_recent_tweets(query= 'from:KingJames -is:retweet', \n",
    "                                    tweet_fields=['author_id', 'created_at'],\n",
    "                                     max_results=100)"
   ]
  },
  {
   "cell_type": "code",
   "execution_count": 52,
   "metadata": {},
   "outputs": [],
   "source": [
    "import pandas as pd"
   ]
  },
  {
   "cell_type": "code",
   "execution_count": 54,
   "metadata": {},
   "outputs": [
    {
     "data": {
      "text/html": [
       "<div>\n",
       "<style scoped>\n",
       "    .dataframe tbody tr th:only-of-type {\n",
       "        vertical-align: middle;\n",
       "    }\n",
       "\n",
       "    .dataframe tbody tr th {\n",
       "        vertical-align: top;\n",
       "    }\n",
       "\n",
       "    .dataframe thead th {\n",
       "        text-align: right;\n",
       "    }\n",
       "</style>\n",
       "<table border=\"1\" class=\"dataframe\">\n",
       "  <thead>\n",
       "    <tr style=\"text-align: right;\">\n",
       "      <th></th>\n",
       "      <th>text</th>\n",
       "      <th>id</th>\n",
       "      <th>author_id</th>\n",
       "      <th>created_at</th>\n",
       "    </tr>\n",
       "  </thead>\n",
       "  <tbody>\n",
       "    <tr>\n",
       "      <th>0</th>\n",
       "      <td>Jumping on someone podcast soon. Maybe my own 🤔</td>\n",
       "      <td>1533632259755896832</td>\n",
       "      <td>23083404</td>\n",
       "      <td>2022-06-06T02:09:58.000Z</td>\n",
       "    </tr>\n",
       "    <tr>\n",
       "      <th>1</th>\n",
       "      <td>It's so funny to me how many basketball expert...</td>\n",
       "      <td>1533632033972310016</td>\n",
       "      <td>23083404</td>\n",
       "      <td>2022-06-06T02:09:05.000Z</td>\n",
       "    </tr>\n",
       "    <tr>\n",
       "      <th>2</th>\n",
       "      <td>We need to come together and help do whatever ...</td>\n",
       "      <td>1533599792701378560</td>\n",
       "      <td>23083404</td>\n",
       "      <td>2022-06-06T00:00:58.000Z</td>\n",
       "    </tr>\n",
       "    <tr>\n",
       "      <th>3</th>\n",
       "      <td>Our condolences goes out to the family who los...</td>\n",
       "      <td>1532754469728837633</td>\n",
       "      <td>23083404</td>\n",
       "      <td>2022-06-03T16:01:57.000Z</td>\n",
       "    </tr>\n",
       "    <tr>\n",
       "      <th>4</th>\n",
       "      <td>YES WE DID!!! https://t.co/OiWm2GEt18</td>\n",
       "      <td>1532225483596738560</td>\n",
       "      <td>23083404</td>\n",
       "      <td>2022-06-02T04:59:57.000Z</td>\n",
       "    </tr>\n",
       "    <tr>\n",
       "      <th>5</th>\n",
       "      <td>🤔. “In the face of impossible odds, people who...</td>\n",
       "      <td>1531837452591042561</td>\n",
       "      <td>23083404</td>\n",
       "      <td>2022-06-01T03:18:03.000Z</td>\n",
       "    </tr>\n",
       "    <tr>\n",
       "      <th>6</th>\n",
       "      <td>Congratulations brother!!! 👏🏾👏🏾👏🏾👏🏾 🙏🏾✊🏾🤎👑 htt...</td>\n",
       "      <td>1531784889279795201</td>\n",
       "      <td>23083404</td>\n",
       "      <td>2022-05-31T23:49:11.000Z</td>\n",
       "    </tr>\n",
       "    <tr>\n",
       "      <th>7</th>\n",
       "      <td>Ayyyyyeeee!!!! 😤😤😤 https://t.co/gxj6zf0dHh</td>\n",
       "      <td>1531260582657138688</td>\n",
       "      <td>23083404</td>\n",
       "      <td>2022-05-30T13:05:47.000Z</td>\n",
       "    </tr>\n",
       "  </tbody>\n",
       "</table>\n",
       "</div>"
      ],
      "text/plain": [
       "                                                text                   id  \\\n",
       "0    Jumping on someone podcast soon. Maybe my own 🤔  1533632259755896832   \n",
       "1  It's so funny to me how many basketball expert...  1533632033972310016   \n",
       "2  We need to come together and help do whatever ...  1533599792701378560   \n",
       "3  Our condolences goes out to the family who los...  1532754469728837633   \n",
       "4              YES WE DID!!! https://t.co/OiWm2GEt18  1532225483596738560   \n",
       "5  🤔. “In the face of impossible odds, people who...  1531837452591042561   \n",
       "6  Congratulations brother!!! 👏🏾👏🏾👏🏾👏🏾 🙏🏾✊🏾🤎👑 htt...  1531784889279795201   \n",
       "7         Ayyyyyeeee!!!! 😤😤😤 https://t.co/gxj6zf0dHh  1531260582657138688   \n",
       "\n",
       "  author_id                created_at  \n",
       "0  23083404  2022-06-06T02:09:58.000Z  \n",
       "1  23083404  2022-06-06T02:09:05.000Z  \n",
       "2  23083404  2022-06-06T00:00:58.000Z  \n",
       "3  23083404  2022-06-03T16:01:57.000Z  \n",
       "4  23083404  2022-06-02T04:59:57.000Z  \n",
       "5  23083404  2022-06-01T03:18:03.000Z  \n",
       "6  23083404  2022-05-31T23:49:11.000Z  \n",
       "7  23083404  2022-05-30T13:05:47.000Z  "
      ]
     },
     "execution_count": 54,
     "metadata": {},
     "output_type": "execute_result"
    }
   ],
   "source": [
    "# Save data as dictionary\n",
    "tweets_dict = tweets.json() \n",
    "\n",
    "# Extract \"data\" value from dictionary\n",
    "tweets_data = tweets_dict['data'] \n",
    "\n",
    "# Transform to pandas Dataframe\n",
    "df = pd.json_normalize(tweets_data) \n",
    "\n",
    "df\n",
    "\n"
   ]
  },
  {
   "cell_type": "code",
   "execution_count": 55,
   "metadata": {},
   "outputs": [],
   "source": [
    "# Exportieren der Daten als CSV\n",
    "\n",
    "df.to_csv(\"tweets_Fallstudie.csv\")"
   ]
  },
  {
   "cell_type": "code",
   "execution_count": 57,
   "metadata": {},
   "outputs": [
    {
     "ename": "NameError",
     "evalue": "name 'all_words' is not defined",
     "output_type": "error",
     "traceback": [
      "\u001b[0;31m---------------------------------------------------------------------------\u001b[0m",
      "\u001b[0;31mNameError\u001b[0m                                 Traceback (most recent call last)",
      "\u001b[0;32m<ipython-input-57-85e5f3a53472>\u001b[0m in \u001b[0;36m<module>\u001b[0;34m\u001b[0m\n\u001b[0;32m----> 1\u001b[0;31m \u001b[0mall_words\u001b[0m\u001b[0;34m\u001b[0m\u001b[0;34m\u001b[0m\u001b[0m\n\u001b[0m",
      "\u001b[0;31mNameError\u001b[0m: name 'all_words' is not defined"
     ]
    }
   ],
   "source": []
  }
 ],
 "metadata": {
  "interpreter": {
   "hash": "40d3a090f54c6569ab1632332b64b2c03c39dcf918b08424e98f38b5ae0af88f"
  },
  "kernelspec": {
   "display_name": "Python 3.7.13 ('base')",
   "language": "python",
   "name": "python3"
  },
  "language_info": {
   "codemirror_mode": {
    "name": "ipython",
    "version": 3
   },
   "file_extension": ".py",
   "mimetype": "text/x-python",
   "name": "python",
   "nbconvert_exporter": "python",
   "pygments_lexer": "ipython3",
   "version": "3.7.13"
  },
  "orig_nbformat": 4
 },
 "nbformat": 4,
 "nbformat_minor": 2
}
