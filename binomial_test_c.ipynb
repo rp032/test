{
  "cells": [
    {
      "cell_type": "markdown",
      "metadata": {
        "id": "2WfqudDQqaLQ"
      },
      "source": [
        "# Binomial test"
      ]
    },
    {
      "cell_type": "markdown",
      "metadata": {
        "id": "mixVeSRwqaLV"
      },
      "source": [
        "In this application, we cover the topic of A/B testing for an online site which wants to investigate the effectiveness of different colored buttons to increase the amount of users that sign up for a premium account (this is our conversion). \n",
        "\n",
        "- We test the changes in conversion rates associated with the different colors of a button. \n",
        "\n",
        "**Outline for A/B Tests**\n",
        "\n",
        "- Set up the experiment.\n",
        "- Choose the right statistical test (usually binomial test or t-test)\n",
        "- Run the test and calculate the statistical significance of the difference between conditions A and B."
      ]
    },
    {
      "cell_type": "markdown",
      "metadata": {
        "id": "QlPej3TtqaLW"
      },
      "source": [
        "## Test example\n",
        "\n",
        "Imagine that we split a random sample of 2000 website members into two groups using random assignment. Random assignment ensures that, on average, everything else is held constant between the two groups.\n",
        "\n",
        "\n",
        "Let's formulate a **nullhypothesis ($H_0)$:**\n",
        "\n",
        "- $H_0$ \"__________________.\"\n",
        "\n",
        "Suppose in one condition, we use a red button on our website and sign up 90 out of 1000 randomly selected users who are offered a premium account:\n",
        "\n",
        "- Group A (control group): sees red button\n",
        "- Conversion rate: 9% (90/1000).\n",
        "\n",
        "In the other condition, we use a green button and measure the outcome. We get the following results:\n",
        "\n",
        "- Group B (test group): sees green button\n",
        "- Randomly selected users on our site: 1000\n",
        "- Users who signed up: 106\n",
        "- Conversion rate: 10.6%\n",
        "\n",
        "We then compare the conversion rates between the two groups. To determine wether the 1.6% increase in conversion rate is statistically significant, we need to perform a statistical test. \n",
        "\n",
        "Since we measured a binary event (conversion yes or conversion no), we have a categorical variable. In this situation, we can use the binomialtest. \n",
        "\n",
        "- Null hypothesis ($H_0)$: there is no difference between the two conversion rates\n",
        "- Alternative hypothesis ($H_1)$: there is a difference between the two conversion rates"
      ]
    },
    {
      "cell_type": "code",
      "execution_count": 3,
      "metadata": {
        "id": "5X4VkvtnqaLY",
        "outputId": "3653a887-ba54-48cc-b3a0-0556262c8f7c"
      },
      "outputs": [
        {
          "data": {
            "text/plain": [
              "0.08638821078879608"
            ]
          },
          "execution_count": 3,
          "metadata": {},
          "output_type": "execute_result"
        }
      ],
      "source": [
        "import scipy.stats as stats\n",
        "#106 = response Rate \n",
        "#p = Conversion Rate \n",
        "\n",
        "stats.binom_test(106, n=1000, p=0.09, alternative='two-sided')"
      ]
    },
    {
      "cell_type": "markdown",
      "metadata": {
        "id": "aFBI_WqlqaLa"
      },
      "source": [
        "#Wenn Alpha kleiner ist als unser p-Value dann nehmen wir die Nullhypothese an!\n",
        "\n",
        "- The p-value of 0.086 is __________ than the critical value of alpha = 5%.\n",
        "- The null hypothesis _________ be rejected at the 5% level of significance \n",
        "\n",
        "**Different results**\n",
        "\n",
        "Now, suppose that instead of 106 sign ups, we only received 70 in condition B. Everything else remains the same. "
      ]
    },
    {
      "cell_type": "code",
      "execution_count": 5,
      "metadata": {
        "id": "INxF_P8PqaLb",
        "outputId": "5b4a3651-ba93-4403-c6ac-f08e553bdd7d"
      },
      "outputs": [
        {
          "data": {
            "text/plain": [
              "0.026919752379179443"
            ]
          },
          "execution_count": 5,
          "metadata": {},
          "output_type": "execute_result"
        }
      ],
      "source": [
        "stats.binom_test(70, n=1000, p=0.09, alternative='two-sided')"
      ]
    },
    {
      "cell_type": "markdown",
      "metadata": {
        "id": "frAAJH6kqaLc"
      },
      "source": [
        "- In this case the null hypothesis _______ be rejected at the 5% level of significance because the returned p-value of 0.0269 is _________ than the critical value of 5%. \n",
        "\n",
        "- What kind of difference in conversion rates did we find?"
      ]
    },
    {
      "cell_type": "markdown",
      "metadata": {
        "id": "362Z9K7YqaLd"
      },
      "source": [
        "*Optional further information: Review the [SciPy documention about binomialtests](https://docs.scipy.org/doc/scipy/reference/generated/scipy.stats.binom_test.html) for more information about the test. Note that we always use a two-sided test in A/B-Testing since the estimated value may be more than or less than the reference value.*\n"
      ]
    }
  ],
  "metadata": {
    "colab": {
      "name": "binomial-test-c.ipynb",
      "provenance": []
    },
    "interpreter": {
      "hash": "463226f144cc21b006ce6927bfc93dd00694e52c8bc6857abb6e555b983749e9"
    },
    "kernelspec": {
      "display_name": "Python 3.8.2 64-bit ('base': conda)",
      "name": "python3"
    },
    "language_info": {
      "codemirror_mode": {
        "name": "ipython",
        "version": 3
      },
      "file_extension": ".py",
      "mimetype": "text/x-python",
      "name": "python",
      "nbconvert_exporter": "python",
      "pygments_lexer": "ipython3",
      "version": "3.7.11"
    },
    "toc": {
      "base_numbering": 1,
      "nav_menu": {},
      "number_sections": true,
      "sideBar": true,
      "skip_h1_title": true,
      "title_cell": "Table of Contents",
      "title_sidebar": "Contents",
      "toc_cell": true,
      "toc_position": {},
      "toc_section_display": true,
      "toc_window_display": false
    },
    "varInspector": {
      "cols": {
        "lenName": 16,
        "lenType": 16,
        "lenVar": 40
      },
      "kernels_config": {
        "python": {
          "delete_cmd_postfix": "",
          "delete_cmd_prefix": "del ",
          "library": "var_list.py",
          "varRefreshCmd": "print(var_dic_list())"
        },
        "r": {
          "delete_cmd_postfix": ") ",
          "delete_cmd_prefix": "rm(",
          "library": "var_list.r",
          "varRefreshCmd": "cat(var_dic_list()) "
        }
      },
      "types_to_exclude": [
        "module",
        "function",
        "builtin_function_or_method",
        "instance",
        "_Feature"
      ],
      "window_display": false
    }
  },
  "nbformat": 4,
  "nbformat_minor": 0
}
