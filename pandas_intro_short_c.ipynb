{
  "cells": [
    {
      "cell_type": "markdown",
      "metadata": {
        "id": "YDb9AOnwSn_U"
      },
      "source": [
        "# First steps in pandas\n",
        "\n",
        "*This very short introduction to pandas is mainly based on the excellent [pandas documentation](https://pandas.pydata.org/docs/user_guide/10min.html).*\n",
        "\n",
        "To use this tutorial, I recommend the following procedure:\n",
        "\n",
        "1. On your machine, create a new folder called `pandas`\n",
        "1. Download this tutorial as .ipynb (on the top right of this webpage, select the download button) and move it to your `pandas` folder\n",
        "1. Open Visual Studio Code and select the \"Explorer\" symbol on the top left in the [Activity Bar](https://code.visualstudio.com/docs/getstarted/userinterface)\n",
        "1. Select \"Open Folder\" and choose your folder `pandas`. This folder is now your project directory\n",
        "1. In the Explorer, open the file `pandas-intro-short.ipynb`"
      ]
    },
    {
      "cell_type": "markdown",
      "metadata": {
        "id": "px1r1x4BSn_Z"
      },
      "source": [
        "## Import pandas\n",
        "\n",
        "- To load the pandas package and start working with it, import the package. \n",
        "- The community agreed alias for pandas is `pd`, so loading pandas as pd is assumed standard practice for all of the pandas documentation:"
      ]
    },
    {
      "cell_type": "code",
      "execution_count": 2,
      "metadata": {
        "id": "0oc4HONASn_a"
      },
      "outputs": [],
      "source": [
        "import pandas as pd"
      ]
    },
    {
      "cell_type": "markdown",
      "metadata": {
        "id": "QSQnZROVSn_d"
      },
      "source": [
        "## Data creation"
      ]
    },
    {
      "cell_type": "markdown",
      "metadata": {
        "id": "FAlAxoI9Sn_e"
      },
      "source": [
        "- To manually store data in a table, create a DataFrame:"
      ]
    },
    {
      "cell_type": "code",
      "execution_count": 4,
      "metadata": {
        "id": "QWwcYJ68Sn_e"
      },
      "outputs": [],
      "source": [
        "# create the DataFrame and name it my_df\n",
        "# ADD: gender with male, female and male\n",
        "\n",
        "my_df = pd.DataFrame(\n",
        "    { \n",
        "        'name': [ \"Tom\", \"Lisa\", \"Peter\"],\n",
        "        'height': [1.68, 1.93, 1.72],\n",
        "        'weight': [48.4, 89.8, 84.2],\n",
        "        'gender': [\"male\",\"female\",\"male\"]\n",
        "        }\n",
        ")"
      ]
    },
    {
      "cell_type": "code",
      "execution_count": 6,
      "metadata": {
        "id": "zSE5_fQNSn_f",
        "outputId": "39d02602-22af-4b10-fd03-7c0dcdd95ef4"
      },
      "outputs": [
        {
          "data": {
            "text/html": [
              "<div>\n",
              "<style scoped>\n",
              "    .dataframe tbody tr th:only-of-type {\n",
              "        vertical-align: middle;\n",
              "    }\n",
              "\n",
              "    .dataframe tbody tr th {\n",
              "        vertical-align: top;\n",
              "    }\n",
              "\n",
              "    .dataframe thead th {\n",
              "        text-align: right;\n",
              "    }\n",
              "</style>\n",
              "<table border=\"1\" class=\"dataframe\">\n",
              "  <thead>\n",
              "    <tr style=\"text-align: right;\">\n",
              "      <th></th>\n",
              "      <th>name</th>\n",
              "      <th>height</th>\n",
              "      <th>weight</th>\n",
              "      <th>gender</th>\n",
              "    </tr>\n",
              "  </thead>\n",
              "  <tbody>\n",
              "    <tr>\n",
              "      <th>0</th>\n",
              "      <td>Tom</td>\n",
              "      <td>1.68</td>\n",
              "      <td>48.4</td>\n",
              "      <td>male</td>\n",
              "    </tr>\n",
              "    <tr>\n",
              "      <th>1</th>\n",
              "      <td>Lisa</td>\n",
              "      <td>1.93</td>\n",
              "      <td>89.8</td>\n",
              "      <td>female</td>\n",
              "    </tr>\n",
              "    <tr>\n",
              "      <th>2</th>\n",
              "      <td>Peter</td>\n",
              "      <td>1.72</td>\n",
              "      <td>84.2</td>\n",
              "      <td>male</td>\n",
              "    </tr>\n",
              "  </tbody>\n",
              "</table>\n",
              "</div>"
            ],
            "text/plain": [
              "    name  height  weight  gender\n",
              "0    Tom    1.68    48.4    male\n",
              "1   Lisa    1.93    89.8  female\n",
              "2  Peter    1.72    84.2    male"
            ]
          },
          "execution_count": 6,
          "metadata": {},
          "output_type": "execute_result"
        }
      ],
      "source": [
        "# show my_df\n",
        "my_df"
      ]
    },
    {
      "cell_type": "markdown",
      "metadata": {
        "id": "bnCxqk4kSn_h"
      },
      "source": [
        "## Import data"
      ]
    },
    {
      "cell_type": "markdown",
      "metadata": {
        "id": "1BOSLMImSn_h"
      },
      "source": [
        "![](https://pandas.pydata.org/docs/_images/02_io_readwrite.svg)"
      ]
    },
    {
      "cell_type": "markdown",
      "metadata": {
        "id": "3W-rSODdSn_i"
      },
      "source": [
        "- pandas supports many different file formats or data sources out of the box (csv, excel, sql, json, parquet, …)\n",
        "- each of them import data with the prefix `read_*`\n",
        "- Import data, available as a CSV file in a GitHub repo:"
      ]
    },
    {
      "cell_type": "code",
      "execution_count": 9,
      "metadata": {
        "id": "nETWm57BSn_j",
        "outputId": "43716973-b30b-4c0f-dcbd-44a68e380c0f"
      },
      "outputs": [
        {
          "data": {
            "text/html": [
              "<div>\n",
              "<style scoped>\n",
              "    .dataframe tbody tr th:only-of-type {\n",
              "        vertical-align: middle;\n",
              "    }\n",
              "\n",
              "    .dataframe tbody tr th {\n",
              "        vertical-align: top;\n",
              "    }\n",
              "\n",
              "    .dataframe thead th {\n",
              "        text-align: right;\n",
              "    }\n",
              "</style>\n",
              "<table border=\"1\" class=\"dataframe\">\n",
              "  <thead>\n",
              "    <tr style=\"text-align: right;\">\n",
              "      <th></th>\n",
              "      <th>Name</th>\n",
              "      <th>ID%</th>\n",
              "      <th>Height</th>\n",
              "      <th>Average Height Parents</th>\n",
              "      <th>Gender</th>\n",
              "    </tr>\n",
              "  </thead>\n",
              "  <tbody>\n",
              "    <tr>\n",
              "      <th>0</th>\n",
              "      <td>Stefanie</td>\n",
              "      <td>1</td>\n",
              "      <td>162</td>\n",
              "      <td>161.5</td>\n",
              "      <td>female</td>\n",
              "    </tr>\n",
              "    <tr>\n",
              "      <th>1</th>\n",
              "      <td>Peter</td>\n",
              "      <td>2</td>\n",
              "      <td>163</td>\n",
              "      <td>163.5</td>\n",
              "      <td>male</td>\n",
              "    </tr>\n",
              "    <tr>\n",
              "      <th>2</th>\n",
              "      <td>Stefanie</td>\n",
              "      <td>3</td>\n",
              "      <td>163</td>\n",
              "      <td>163.2</td>\n",
              "      <td>female</td>\n",
              "    </tr>\n",
              "    <tr>\n",
              "      <th>3</th>\n",
              "      <td>Manuela</td>\n",
              "      <td>4</td>\n",
              "      <td>164</td>\n",
              "      <td>165.1</td>\n",
              "      <td>female</td>\n",
              "    </tr>\n",
              "    <tr>\n",
              "      <th>4</th>\n",
              "      <td>Simon</td>\n",
              "      <td>5</td>\n",
              "      <td>164</td>\n",
              "      <td>163.2</td>\n",
              "      <td>male</td>\n",
              "    </tr>\n",
              "  </tbody>\n",
              "</table>\n",
              "</div>"
            ],
            "text/plain": [
              "       Name  ID%  Height  Average Height Parents  Gender\n",
              "0  Stefanie    1     162                   161.5  female\n",
              "1     Peter    2     163                   163.5    male\n",
              "2  Stefanie    3     163                   163.2  female\n",
              "3   Manuela    4     164                   165.1  female\n",
              "4     Simon    5     164                   163.2    male"
            ]
          },
          "execution_count": 9,
          "metadata": {},
          "output_type": "execute_result"
        }
      ],
      "source": [
        " df = pd.read_csv(\"https://raw.githubusercontent.com/kirenz/modern-statistics/main/data/height.csv\")\n",
        "\n",
        "# show head\n",
        "# show tail = Untereste Zeilen \n",
        "df.head()"
      ]
    },
    {
      "cell_type": "code",
      "execution_count": 15,
      "metadata": {
        "id": "Ws0vXo5xSn_j",
        "outputId": "a134e1ae-bd4a-48c1-dcc0-d8ba14733978"
      },
      "outputs": [
        {
          "data": {
            "text/html": [
              "<div>\n",
              "<style scoped>\n",
              "    .dataframe tbody tr th:only-of-type {\n",
              "        vertical-align: middle;\n",
              "    }\n",
              "\n",
              "    .dataframe tbody tr th {\n",
              "        vertical-align: top;\n",
              "    }\n",
              "\n",
              "    .dataframe thead th {\n",
              "        text-align: right;\n",
              "    }\n",
              "</style>\n",
              "<table border=\"1\" class=\"dataframe\">\n",
              "  <thead>\n",
              "    <tr style=\"text-align: right;\">\n",
              "      <th></th>\n",
              "      <th>Name</th>\n",
              "      <th>ID%</th>\n",
              "      <th>Height</th>\n",
              "      <th>Average Height Parents</th>\n",
              "      <th>Gender</th>\n",
              "    </tr>\n",
              "  </thead>\n",
              "  <tbody>\n",
              "    <tr>\n",
              "      <th>0</th>\n",
              "      <td>Stefanie</td>\n",
              "      <td>1</td>\n",
              "      <td>162</td>\n",
              "      <td>161.5</td>\n",
              "      <td>female</td>\n",
              "    </tr>\n",
              "    <tr>\n",
              "      <th>1</th>\n",
              "      <td>Peter</td>\n",
              "      <td>2</td>\n",
              "      <td>163</td>\n",
              "      <td>163.5</td>\n",
              "      <td>male</td>\n",
              "    </tr>\n",
              "    <tr>\n",
              "      <th>2</th>\n",
              "      <td>Stefanie</td>\n",
              "      <td>3</td>\n",
              "      <td>163</td>\n",
              "      <td>163.2</td>\n",
              "      <td>female</td>\n",
              "    </tr>\n",
              "    <tr>\n",
              "      <th>3</th>\n",
              "      <td>Manuela</td>\n",
              "      <td>4</td>\n",
              "      <td>164</td>\n",
              "      <td>165.1</td>\n",
              "      <td>female</td>\n",
              "    </tr>\n",
              "    <tr>\n",
              "      <th>4</th>\n",
              "      <td>Simon</td>\n",
              "      <td>5</td>\n",
              "      <td>164</td>\n",
              "      <td>163.2</td>\n",
              "      <td>male</td>\n",
              "    </tr>\n",
              "  </tbody>\n",
              "</table>\n",
              "</div>"
            ],
            "text/plain": [
              "       Name  ID%  Height  Average Height Parents  Gender\n",
              "0  Stefanie    1     162                   161.5  female\n",
              "1     Peter    2     163                   163.5    male\n",
              "2  Stefanie    3     163                   163.2  female\n",
              "3   Manuela    4     164                   165.1  female\n",
              "4     Simon    5     164                   163.2    male"
            ]
          },
          "execution_count": 15,
          "metadata": {},
          "output_type": "execute_result"
        }
      ],
      "source": [
        "# same import with different style\n",
        "\n",
        "ROOT = \"https://raw.githubusercontent.com/kirenz/modern-statistics/main/data/\"\n",
        "DATA = \"height.csv\"\n",
        "\n",
        "df = pd.read_csv(ROOT + DATA)\n",
        "\n",
        "# show head\n",
        "df.head()"
      ]
    },
    {
      "cell_type": "markdown",
      "metadata": {
        "id": "HqNbXx23Sn_k"
      },
      "source": [
        "## Store data\n",
        "\n",
        "- pandas supports many different file formats (csv, excel, sql, json, parquet, …)\n",
        "- each of them stores data with the prefix `to_*`\n",
        "- The following code will save data as an Excel file in your current directory (you may need to install [OpenPyXL](https://openpyxl.readthedocs.io/en/stable/) first. \n",
        "\n",
        ":::{note}\n",
        "[Anaconda installation of OpenPyXL](https://anaconda.org/anaconda/openpyxl)):\n",
        ":::\n",
        "\n",
        "- In the example here, the `sheet_name` is named people_height instead of the default Sheet1. By setting `index=False` the row index labels are not saved in the spreadsheet:"
      ]
    },
    {
      "cell_type": "code",
      "execution_count": 16,
      "metadata": {
        "id": "E0o5opTCSn_l"
      },
      "outputs": [],
      "source": [
        "df.to_excel(\"height.xlsx\", sheet_name=\"people_height\", index=False)"
      ]
    },
    {
      "cell_type": "markdown",
      "metadata": {
        "id": "wwmNsjTzSn_m"
      },
      "source": [
        "- The equivalent read function `read_excel()` would reload the data to a DataFrame:"
      ]
    },
    {
      "cell_type": "code",
      "execution_count": 17,
      "metadata": {
        "id": "h0K7gmL7Sn_m"
      },
      "outputs": [],
      "source": [
        "# load excel file\n",
        "df_new = pd.read_excel(\"height.xlsx\", sheet_name=\"people_height\")"
      ]
    },
    {
      "cell_type": "markdown",
      "metadata": {
        "id": "7Yp7ZRm1Sn_n"
      },
      "source": [
        "## Viewing data"
      ]
    },
    {
      "cell_type": "markdown",
      "metadata": {
        "id": "rsXLtn7zSn_o"
      },
      "source": [
        "### Overview"
      ]
    },
    {
      "cell_type": "code",
      "execution_count": 43,
      "metadata": {
        "id": "XB98HRMhSn_o",
        "outputId": "41ca3e01-5e49-4caa-9068-b6fb07166c64"
      },
      "outputs": [
        {
          "data": {
            "text/html": [
              "<div>\n",
              "<style scoped>\n",
              "    .dataframe tbody tr th:only-of-type {\n",
              "        vertical-align: middle;\n",
              "    }\n",
              "\n",
              "    .dataframe tbody tr th {\n",
              "        vertical-align: top;\n",
              "    }\n",
              "\n",
              "    .dataframe thead th {\n",
              "        text-align: right;\n",
              "    }\n",
              "</style>\n",
              "<table border=\"1\" class=\"dataframe\">\n",
              "  <thead>\n",
              "    <tr style=\"text-align: right;\">\n",
              "      <th></th>\n",
              "      <th>Name</th>\n",
              "      <th>ID%</th>\n",
              "      <th>Height</th>\n",
              "      <th>Average Height Parents</th>\n",
              "      <th>Gender</th>\n",
              "    </tr>\n",
              "  </thead>\n",
              "  <tbody>\n",
              "    <tr>\n",
              "      <th>0</th>\n",
              "      <td>Stefanie</td>\n",
              "      <td>1</td>\n",
              "      <td>162</td>\n",
              "      <td>161.5</td>\n",
              "      <td>female</td>\n",
              "    </tr>\n",
              "    <tr>\n",
              "      <th>1</th>\n",
              "      <td>Peter</td>\n",
              "      <td>2</td>\n",
              "      <td>163</td>\n",
              "      <td>163.5</td>\n",
              "      <td>male</td>\n",
              "    </tr>\n",
              "    <tr>\n",
              "      <th>2</th>\n",
              "      <td>Stefanie</td>\n",
              "      <td>3</td>\n",
              "      <td>163</td>\n",
              "      <td>163.2</td>\n",
              "      <td>female</td>\n",
              "    </tr>\n",
              "    <tr>\n",
              "      <th>3</th>\n",
              "      <td>Manuela</td>\n",
              "      <td>4</td>\n",
              "      <td>164</td>\n",
              "      <td>165.1</td>\n",
              "      <td>female</td>\n",
              "    </tr>\n",
              "    <tr>\n",
              "      <th>4</th>\n",
              "      <td>Simon</td>\n",
              "      <td>5</td>\n",
              "      <td>164</td>\n",
              "      <td>163.2</td>\n",
              "      <td>male</td>\n",
              "    </tr>\n",
              "    <tr>\n",
              "      <th>5</th>\n",
              "      <td>Sophia</td>\n",
              "      <td>6</td>\n",
              "      <td>164</td>\n",
              "      <td>164.4</td>\n",
              "      <td>female</td>\n",
              "    </tr>\n",
              "    <tr>\n",
              "      <th>6</th>\n",
              "      <td>Ellen</td>\n",
              "      <td>7</td>\n",
              "      <td>164</td>\n",
              "      <td>164.0</td>\n",
              "      <td>female</td>\n",
              "    </tr>\n",
              "    <tr>\n",
              "      <th>7</th>\n",
              "      <td>Emilia</td>\n",
              "      <td>8</td>\n",
              "      <td>165</td>\n",
              "      <td>165.2</td>\n",
              "      <td>female</td>\n",
              "    </tr>\n",
              "    <tr>\n",
              "      <th>8</th>\n",
              "      <td>Lina</td>\n",
              "      <td>9</td>\n",
              "      <td>165</td>\n",
              "      <td>165.2</td>\n",
              "      <td>female</td>\n",
              "    </tr>\n",
              "    <tr>\n",
              "      <th>9</th>\n",
              "      <td>Marie</td>\n",
              "      <td>10</td>\n",
              "      <td>165</td>\n",
              "      <td>165.1</td>\n",
              "      <td>female</td>\n",
              "    </tr>\n",
              "    <tr>\n",
              "      <th>10</th>\n",
              "      <td>Lena</td>\n",
              "      <td>11</td>\n",
              "      <td>165</td>\n",
              "      <td>166.3</td>\n",
              "      <td>female</td>\n",
              "    </tr>\n",
              "    <tr>\n",
              "      <th>11</th>\n",
              "      <td>Mila</td>\n",
              "      <td>12</td>\n",
              "      <td>165</td>\n",
              "      <td>167.4</td>\n",
              "      <td>female</td>\n",
              "    </tr>\n",
              "    <tr>\n",
              "      <th>12</th>\n",
              "      <td>Fin</td>\n",
              "      <td>13</td>\n",
              "      <td>165</td>\n",
              "      <td>165.5</td>\n",
              "      <td>male</td>\n",
              "    </tr>\n",
              "    <tr>\n",
              "      <th>13</th>\n",
              "      <td>Eric</td>\n",
              "      <td>14</td>\n",
              "      <td>166</td>\n",
              "      <td>166.2</td>\n",
              "      <td>male</td>\n",
              "    </tr>\n",
              "    <tr>\n",
              "      <th>14</th>\n",
              "      <td>Pia</td>\n",
              "      <td>15</td>\n",
              "      <td>166</td>\n",
              "      <td>166.1</td>\n",
              "      <td>female</td>\n",
              "    </tr>\n",
              "    <tr>\n",
              "      <th>15</th>\n",
              "      <td>Marc</td>\n",
              "      <td>16</td>\n",
              "      <td>166</td>\n",
              "      <td>166.5</td>\n",
              "      <td>male</td>\n",
              "    </tr>\n",
              "    <tr>\n",
              "      <th>16</th>\n",
              "      <td>Ralph</td>\n",
              "      <td>17</td>\n",
              "      <td>166</td>\n",
              "      <td>166.6</td>\n",
              "      <td>male</td>\n",
              "    </tr>\n",
              "    <tr>\n",
              "      <th>17</th>\n",
              "      <td>Tom</td>\n",
              "      <td>18</td>\n",
              "      <td>167</td>\n",
              "      <td>166.2</td>\n",
              "      <td>male</td>\n",
              "    </tr>\n",
              "    <tr>\n",
              "      <th>18</th>\n",
              "      <td>Steven</td>\n",
              "      <td>19</td>\n",
              "      <td>167</td>\n",
              "      <td>167.3</td>\n",
              "      <td>male</td>\n",
              "    </tr>\n",
              "    <tr>\n",
              "      <th>19</th>\n",
              "      <td>Emanuel</td>\n",
              "      <td>20</td>\n",
              "      <td>168</td>\n",
              "      <td>168.5</td>\n",
              "      <td>male</td>\n",
              "    </tr>\n",
              "  </tbody>\n",
              "</table>\n",
              "</div>"
            ],
            "text/plain": [
              "        Name  ID%  Height  Average Height Parents  Gender\n",
              "0   Stefanie    1     162                   161.5  female\n",
              "1      Peter    2     163                   163.5    male\n",
              "2   Stefanie    3     163                   163.2  female\n",
              "3    Manuela    4     164                   165.1  female\n",
              "4      Simon    5     164                   163.2    male\n",
              "5     Sophia    6     164                   164.4  female\n",
              "6      Ellen    7     164                   164.0  female\n",
              "7     Emilia    8     165                   165.2  female\n",
              "8       Lina    9     165                   165.2  female\n",
              "9      Marie   10     165                   165.1  female\n",
              "10      Lena   11     165                   166.3  female\n",
              "11      Mila   12     165                   167.4  female\n",
              "12       Fin   13     165                   165.5    male\n",
              "13      Eric   14     166                   166.2    male\n",
              "14       Pia   15     166                   166.1  female\n",
              "15      Marc   16     166                   166.5    male\n",
              "16     Ralph   17     166                   166.6    male\n",
              "17       Tom   18     167                   166.2    male\n",
              "18    Steven   19     167                   167.3    male\n",
              "19   Emanuel   20     168                   168.5    male"
            ]
          },
          "execution_count": 43,
          "metadata": {},
          "output_type": "execute_result"
        }
      ],
      "source": [
        "# show df\n",
        "df"
      ]
    },
    {
      "cell_type": "code",
      "execution_count": 21,
      "metadata": {
        "id": "sk7dnBd6Sn_p",
        "outputId": "d204e754-6a44-4559-d5c3-13ac6a8fb0b1"
      },
      "outputs": [
        {
          "data": {
            "text/html": [
              "<div>\n",
              "<style scoped>\n",
              "    .dataframe tbody tr th:only-of-type {\n",
              "        vertical-align: middle;\n",
              "    }\n",
              "\n",
              "    .dataframe tbody tr th {\n",
              "        vertical-align: top;\n",
              "    }\n",
              "\n",
              "    .dataframe thead th {\n",
              "        text-align: right;\n",
              "    }\n",
              "</style>\n",
              "<table border=\"1\" class=\"dataframe\">\n",
              "  <thead>\n",
              "    <tr style=\"text-align: right;\">\n",
              "      <th></th>\n",
              "      <th>Name</th>\n",
              "      <th>ID%</th>\n",
              "      <th>Height</th>\n",
              "      <th>Average Height Parents</th>\n",
              "      <th>Gender</th>\n",
              "    </tr>\n",
              "  </thead>\n",
              "  <tbody>\n",
              "    <tr>\n",
              "      <th>0</th>\n",
              "      <td>Stefanie</td>\n",
              "      <td>1</td>\n",
              "      <td>162</td>\n",
              "      <td>161.5</td>\n",
              "      <td>female</td>\n",
              "    </tr>\n",
              "    <tr>\n",
              "      <th>1</th>\n",
              "      <td>Peter</td>\n",
              "      <td>2</td>\n",
              "      <td>163</td>\n",
              "      <td>163.5</td>\n",
              "      <td>male</td>\n",
              "    </tr>\n",
              "  </tbody>\n",
              "</table>\n",
              "</div>"
            ],
            "text/plain": [
              "       Name  ID%  Height  Average Height Parents  Gender\n",
              "0  Stefanie    1     162                   161.5  female\n",
              "1     Peter    2     163                   163.5    male"
            ]
          },
          "execution_count": 21,
          "metadata": {},
          "output_type": "execute_result"
        }
      ],
      "source": [
        "# show first 2 rows\n",
        "df.head(2)"
      ]
    },
    {
      "cell_type": "code",
      "execution_count": 23,
      "metadata": {
        "id": "C4pLVqklSn_p",
        "outputId": "65ce799a-49c5-4466-bd71-f003db1c4c52"
      },
      "outputs": [
        {
          "data": {
            "text/html": [
              "<div>\n",
              "<style scoped>\n",
              "    .dataframe tbody tr th:only-of-type {\n",
              "        vertical-align: middle;\n",
              "    }\n",
              "\n",
              "    .dataframe tbody tr th {\n",
              "        vertical-align: top;\n",
              "    }\n",
              "\n",
              "    .dataframe thead th {\n",
              "        text-align: right;\n",
              "    }\n",
              "</style>\n",
              "<table border=\"1\" class=\"dataframe\">\n",
              "  <thead>\n",
              "    <tr style=\"text-align: right;\">\n",
              "      <th></th>\n",
              "      <th>Name</th>\n",
              "      <th>ID%</th>\n",
              "      <th>Height</th>\n",
              "      <th>Average Height Parents</th>\n",
              "      <th>Gender</th>\n",
              "    </tr>\n",
              "  </thead>\n",
              "  <tbody>\n",
              "    <tr>\n",
              "      <th>18</th>\n",
              "      <td>Steven</td>\n",
              "      <td>19</td>\n",
              "      <td>167</td>\n",
              "      <td>167.3</td>\n",
              "      <td>male</td>\n",
              "    </tr>\n",
              "    <tr>\n",
              "      <th>19</th>\n",
              "      <td>Emanuel</td>\n",
              "      <td>20</td>\n",
              "      <td>168</td>\n",
              "      <td>168.5</td>\n",
              "      <td>male</td>\n",
              "    </tr>\n",
              "  </tbody>\n",
              "</table>\n",
              "</div>"
            ],
            "text/plain": [
              "       Name  ID%  Height  Average Height Parents  Gender\n",
              "18   Steven   19     167                   167.3    male\n",
              "19  Emanuel   20     168                   168.5    male"
            ]
          },
          "execution_count": 23,
          "metadata": {},
          "output_type": "execute_result"
        }
      ],
      "source": [
        "# show last 2 rows\n",
        "df.tail(2)"
      ]
    },
    {
      "cell_type": "markdown",
      "metadata": {
        "id": "Ti4G8DObSn_q"
      },
      "source": [
        "- The `info()` method prints information about a DataFrame including the index dtype and columns, non-null values and memory usage:"
      ]
    },
    {
      "cell_type": "code",
      "execution_count": 24,
      "metadata": {
        "id": "NQJKCVoZSn_q",
        "outputId": "dd26d921-25ce-4a0e-a2e5-08cd6b52eb6a"
      },
      "outputs": [
        {
          "name": "stdout",
          "output_type": "stream",
          "text": [
            "<class 'pandas.core.frame.DataFrame'>\n",
            "RangeIndex: 20 entries, 0 to 19\n",
            "Data columns (total 5 columns):\n",
            " #   Column                  Non-Null Count  Dtype  \n",
            "---  ------                  --------------  -----  \n",
            " 0   Name                    20 non-null     object \n",
            " 1   ID%                     20 non-null     int64  \n",
            " 2   Height                  20 non-null     int64  \n",
            " 3   Average Height Parents  20 non-null     float64\n",
            " 4    Gender                 20 non-null     object \n",
            "dtypes: float64(1), int64(2), object(2)\n",
            "memory usage: 928.0+ bytes\n"
          ]
        }
      ],
      "source": [
        "df.info()"
      ]
    },
    {
      "cell_type": "markdown",
      "metadata": {
        "id": "t9l2xGMkSn_r"
      },
      "source": [
        "### Column names"
      ]
    },
    {
      "cell_type": "code",
      "execution_count": 26,
      "metadata": {
        "id": "95bZ9379Sn_r",
        "outputId": "91ea2a30-a476-472a-fc84-9e5ffde91cf2"
      },
      "outputs": [
        {
          "data": {
            "text/plain": [
              "Index(['Name', 'ID%', 'Height', 'Average Height Parents', ' Gender'], dtype='object')"
            ]
          },
          "execution_count": 26,
          "metadata": {},
          "output_type": "execute_result"
        }
      ],
      "source": [
        "# Show columns\n",
        "df.columns"
      ]
    },
    {
      "cell_type": "markdown",
      "metadata": {
        "id": "IVfoJHimSn_s"
      },
      "source": [
        "### Data type"
      ]
    },
    {
      "cell_type": "markdown",
      "metadata": {
        "id": "k-PjH6VjSn_s"
      },
      "source": [
        "- Show data types ([dtypes](https://pandas.pydata.org/docs/user_guide/basics.html#basics-dtypes))."
      ]
    },
    {
      "cell_type": "code",
      "execution_count": 28,
      "metadata": {
        "id": "38RUB_yTSn_t",
        "outputId": "abf10ddf-4c3d-4067-eecd-8b92068ec59f"
      },
      "outputs": [
        {
          "data": {
            "text/plain": [
              "Name                       object\n",
              "ID%                         int64\n",
              "Height                      int64\n",
              "Average Height Parents    float64\n",
              " Gender                    object\n",
              "dtype: object"
            ]
          },
          "execution_count": 28,
          "metadata": {},
          "output_type": "execute_result"
        }
      ],
      "source": [
        "df.dtypes"
      ]
    },
    {
      "cell_type": "markdown",
      "metadata": {
        "id": "lbUE7tTQSn_u"
      },
      "source": [
        "- The data types in this DataFrame are integers (int64), floats (float64) and strings (object)."
      ]
    },
    {
      "cell_type": "markdown",
      "metadata": {
        "id": "u3ov2_M1Sn_v"
      },
      "source": [
        "### Index"
      ]
    },
    {
      "cell_type": "code",
      "execution_count": 30,
      "metadata": {
        "id": "tT0k0Nx1Sn_v",
        "outputId": "1ae20431-bb34-4180-9a5e-a0784ccc2cdd"
      },
      "outputs": [
        {
          "data": {
            "text/plain": [
              "RangeIndex(start=0, stop=20, step=1)"
            ]
          },
          "execution_count": 30,
          "metadata": {},
          "output_type": "execute_result"
        }
      ],
      "source": [
        "# Only show index\n",
        "df.index"
      ]
    },
    {
      "cell_type": "markdown",
      "metadata": {
        "id": "DlYmAGmQSn_w"
      },
      "source": [
        "## Change column names\n",
        "\n",
        "- Usually, we prefer to work with columns that have the following proporties:\n",
        "  - no leading or trailing whitespace (`\"name\"` instead of `\" name \"`, `\" name\"` or `\"name \"`)\n",
        "  - all lowercase (`\"name\"` instead of `\"Name\"`)\n",
        "  - now white spaces (`\"my_name\"` instead of `\"my name\"`)"
      ]
    },
    {
      "cell_type": "markdown",
      "metadata": {
        "id": "TJe_UKofSn_x"
      },
      "source": [
        "### Simple rename"
      ]
    },
    {
      "cell_type": "markdown",
      "metadata": {
        "id": "G83MKt2WSn_x"
      },
      "source": [
        "- First, we rename columns by simply using a mapping\n",
        "- We rename `\"Name\"` to `\"name\"` and just print the result (we want to display errors and don't save the changes for now):"
      ]
    },
    {
      "cell_type": "code",
      "execution_count": 66,
      "metadata": {
        "id": "Ur9JZrMSSn_y",
        "outputId": "06e03f7f-9d0f-4875-db75-b6edc270ec31"
      },
      "outputs": [
        {
          "data": {
            "text/html": [
              "<div>\n",
              "<style scoped>\n",
              "    .dataframe tbody tr th:only-of-type {\n",
              "        vertical-align: middle;\n",
              "    }\n",
              "\n",
              "    .dataframe tbody tr th {\n",
              "        vertical-align: top;\n",
              "    }\n",
              "\n",
              "    .dataframe thead th {\n",
              "        text-align: right;\n",
              "    }\n",
              "</style>\n",
              "<table border=\"1\" class=\"dataframe\">\n",
              "  <thead>\n",
              "    <tr style=\"text-align: right;\">\n",
              "      <th></th>\n",
              "      <th>name</th>\n",
              "      <th>ID%</th>\n",
              "      <th>Height</th>\n",
              "      <th>Average Height Parents</th>\n",
              "      <th>Gender</th>\n",
              "    </tr>\n",
              "  </thead>\n",
              "  <tbody>\n",
              "    <tr>\n",
              "      <th>0</th>\n",
              "      <td>Stefanie</td>\n",
              "      <td>1</td>\n",
              "      <td>162</td>\n",
              "      <td>161.5</td>\n",
              "      <td>female</td>\n",
              "    </tr>\n",
              "    <tr>\n",
              "      <th>1</th>\n",
              "      <td>Peter</td>\n",
              "      <td>2</td>\n",
              "      <td>163</td>\n",
              "      <td>163.5</td>\n",
              "      <td>male</td>\n",
              "    </tr>\n",
              "    <tr>\n",
              "      <th>2</th>\n",
              "      <td>Stefanie</td>\n",
              "      <td>3</td>\n",
              "      <td>163</td>\n",
              "      <td>163.2</td>\n",
              "      <td>female</td>\n",
              "    </tr>\n",
              "    <tr>\n",
              "      <th>3</th>\n",
              "      <td>Manuela</td>\n",
              "      <td>4</td>\n",
              "      <td>164</td>\n",
              "      <td>165.1</td>\n",
              "      <td>female</td>\n",
              "    </tr>\n",
              "    <tr>\n",
              "      <th>4</th>\n",
              "      <td>Simon</td>\n",
              "      <td>5</td>\n",
              "      <td>164</td>\n",
              "      <td>163.2</td>\n",
              "      <td>male</td>\n",
              "    </tr>\n",
              "    <tr>\n",
              "      <th>5</th>\n",
              "      <td>Sophia</td>\n",
              "      <td>6</td>\n",
              "      <td>164</td>\n",
              "      <td>164.4</td>\n",
              "      <td>female</td>\n",
              "    </tr>\n",
              "    <tr>\n",
              "      <th>6</th>\n",
              "      <td>Ellen</td>\n",
              "      <td>7</td>\n",
              "      <td>164</td>\n",
              "      <td>164.0</td>\n",
              "      <td>female</td>\n",
              "    </tr>\n",
              "    <tr>\n",
              "      <th>7</th>\n",
              "      <td>Emilia</td>\n",
              "      <td>8</td>\n",
              "      <td>165</td>\n",
              "      <td>165.2</td>\n",
              "      <td>female</td>\n",
              "    </tr>\n",
              "    <tr>\n",
              "      <th>8</th>\n",
              "      <td>Lina</td>\n",
              "      <td>9</td>\n",
              "      <td>165</td>\n",
              "      <td>165.2</td>\n",
              "      <td>female</td>\n",
              "    </tr>\n",
              "    <tr>\n",
              "      <th>9</th>\n",
              "      <td>Marie</td>\n",
              "      <td>10</td>\n",
              "      <td>165</td>\n",
              "      <td>165.1</td>\n",
              "      <td>female</td>\n",
              "    </tr>\n",
              "    <tr>\n",
              "      <th>10</th>\n",
              "      <td>Lena</td>\n",
              "      <td>11</td>\n",
              "      <td>165</td>\n",
              "      <td>166.3</td>\n",
              "      <td>female</td>\n",
              "    </tr>\n",
              "    <tr>\n",
              "      <th>11</th>\n",
              "      <td>Mila</td>\n",
              "      <td>12</td>\n",
              "      <td>165</td>\n",
              "      <td>167.4</td>\n",
              "      <td>female</td>\n",
              "    </tr>\n",
              "    <tr>\n",
              "      <th>12</th>\n",
              "      <td>Fin</td>\n",
              "      <td>13</td>\n",
              "      <td>165</td>\n",
              "      <td>165.5</td>\n",
              "      <td>male</td>\n",
              "    </tr>\n",
              "    <tr>\n",
              "      <th>13</th>\n",
              "      <td>Eric</td>\n",
              "      <td>14</td>\n",
              "      <td>166</td>\n",
              "      <td>166.2</td>\n",
              "      <td>male</td>\n",
              "    </tr>\n",
              "    <tr>\n",
              "      <th>14</th>\n",
              "      <td>Pia</td>\n",
              "      <td>15</td>\n",
              "      <td>166</td>\n",
              "      <td>166.1</td>\n",
              "      <td>female</td>\n",
              "    </tr>\n",
              "    <tr>\n",
              "      <th>15</th>\n",
              "      <td>Marc</td>\n",
              "      <td>16</td>\n",
              "      <td>166</td>\n",
              "      <td>166.5</td>\n",
              "      <td>male</td>\n",
              "    </tr>\n",
              "    <tr>\n",
              "      <th>16</th>\n",
              "      <td>Ralph</td>\n",
              "      <td>17</td>\n",
              "      <td>166</td>\n",
              "      <td>166.6</td>\n",
              "      <td>male</td>\n",
              "    </tr>\n",
              "    <tr>\n",
              "      <th>17</th>\n",
              "      <td>Tom</td>\n",
              "      <td>18</td>\n",
              "      <td>167</td>\n",
              "      <td>166.2</td>\n",
              "      <td>male</td>\n",
              "    </tr>\n",
              "    <tr>\n",
              "      <th>18</th>\n",
              "      <td>Steven</td>\n",
              "      <td>19</td>\n",
              "      <td>167</td>\n",
              "      <td>167.3</td>\n",
              "      <td>male</td>\n",
              "    </tr>\n",
              "    <tr>\n",
              "      <th>19</th>\n",
              "      <td>Emanuel</td>\n",
              "      <td>20</td>\n",
              "      <td>168</td>\n",
              "      <td>168.5</td>\n",
              "      <td>male</td>\n",
              "    </tr>\n",
              "  </tbody>\n",
              "</table>\n",
              "</div>"
            ],
            "text/plain": [
              "        name  ID%  Height  Average Height Parents  Gender\n",
              "0   Stefanie    1     162                   161.5  female\n",
              "1      Peter    2     163                   163.5    male\n",
              "2   Stefanie    3     163                   163.2  female\n",
              "3    Manuela    4     164                   165.1  female\n",
              "4      Simon    5     164                   163.2    male\n",
              "5     Sophia    6     164                   164.4  female\n",
              "6      Ellen    7     164                   164.0  female\n",
              "7     Emilia    8     165                   165.2  female\n",
              "8       Lina    9     165                   165.2  female\n",
              "9      Marie   10     165                   165.1  female\n",
              "10      Lena   11     165                   166.3  female\n",
              "11      Mila   12     165                   167.4  female\n",
              "12       Fin   13     165                   165.5    male\n",
              "13      Eric   14     166                   166.2    male\n",
              "14       Pia   15     166                   166.1  female\n",
              "15      Marc   16     166                   166.5    male\n",
              "16     Ralph   17     166                   166.6    male\n",
              "17       Tom   18     167                   166.2    male\n",
              "18    Steven   19     167                   167.3    male\n",
              "19   Emanuel   20     168                   168.5    male"
            ]
          },
          "execution_count": 66,
          "metadata": {},
          "output_type": "execute_result"
        }
      ],
      "source": [
        "df.rename(columns={\"Name\": \"name\"}, errors=\"raise\")\n"
      ]
    },
    {
      "cell_type": "markdown",
      "metadata": {
        "id": "EpJWAMJ2Sn_0"
      },
      "source": [
        "- Let`s rename Gender to gender\n",
        "- Again, we just want to display the result (without saving it).\n",
        "- Remove the # and run the following code:"
      ]
    },
    {
      "cell_type": "code",
      "execution_count": 70,
      "metadata": {
        "id": "lZXCBXLESn_1"
      },
      "outputs": [
        {
          "data": {
            "text/html": [
              "<div>\n",
              "<style scoped>\n",
              "    .dataframe tbody tr th:only-of-type {\n",
              "        vertical-align: middle;\n",
              "    }\n",
              "\n",
              "    .dataframe tbody tr th {\n",
              "        vertical-align: top;\n",
              "    }\n",
              "\n",
              "    .dataframe thead th {\n",
              "        text-align: right;\n",
              "    }\n",
              "</style>\n",
              "<table border=\"1\" class=\"dataframe\">\n",
              "  <thead>\n",
              "    <tr style=\"text-align: right;\">\n",
              "      <th></th>\n",
              "      <th>Name</th>\n",
              "      <th>ID%</th>\n",
              "      <th>Height</th>\n",
              "      <th>Average Height Parents</th>\n",
              "      <th>gender</th>\n",
              "    </tr>\n",
              "  </thead>\n",
              "  <tbody>\n",
              "    <tr>\n",
              "      <th>0</th>\n",
              "      <td>Stefanie</td>\n",
              "      <td>1</td>\n",
              "      <td>162</td>\n",
              "      <td>161.5</td>\n",
              "      <td>female</td>\n",
              "    </tr>\n",
              "    <tr>\n",
              "      <th>1</th>\n",
              "      <td>Peter</td>\n",
              "      <td>2</td>\n",
              "      <td>163</td>\n",
              "      <td>163.5</td>\n",
              "      <td>male</td>\n",
              "    </tr>\n",
              "    <tr>\n",
              "      <th>2</th>\n",
              "      <td>Stefanie</td>\n",
              "      <td>3</td>\n",
              "      <td>163</td>\n",
              "      <td>163.2</td>\n",
              "      <td>female</td>\n",
              "    </tr>\n",
              "    <tr>\n",
              "      <th>3</th>\n",
              "      <td>Manuela</td>\n",
              "      <td>4</td>\n",
              "      <td>164</td>\n",
              "      <td>165.1</td>\n",
              "      <td>female</td>\n",
              "    </tr>\n",
              "    <tr>\n",
              "      <th>4</th>\n",
              "      <td>Simon</td>\n",
              "      <td>5</td>\n",
              "      <td>164</td>\n",
              "      <td>163.2</td>\n",
              "      <td>male</td>\n",
              "    </tr>\n",
              "    <tr>\n",
              "      <th>5</th>\n",
              "      <td>Sophia</td>\n",
              "      <td>6</td>\n",
              "      <td>164</td>\n",
              "      <td>164.4</td>\n",
              "      <td>female</td>\n",
              "    </tr>\n",
              "    <tr>\n",
              "      <th>6</th>\n",
              "      <td>Ellen</td>\n",
              "      <td>7</td>\n",
              "      <td>164</td>\n",
              "      <td>164.0</td>\n",
              "      <td>female</td>\n",
              "    </tr>\n",
              "    <tr>\n",
              "      <th>7</th>\n",
              "      <td>Emilia</td>\n",
              "      <td>8</td>\n",
              "      <td>165</td>\n",
              "      <td>165.2</td>\n",
              "      <td>female</td>\n",
              "    </tr>\n",
              "    <tr>\n",
              "      <th>8</th>\n",
              "      <td>Lina</td>\n",
              "      <td>9</td>\n",
              "      <td>165</td>\n",
              "      <td>165.2</td>\n",
              "      <td>female</td>\n",
              "    </tr>\n",
              "    <tr>\n",
              "      <th>9</th>\n",
              "      <td>Marie</td>\n",
              "      <td>10</td>\n",
              "      <td>165</td>\n",
              "      <td>165.1</td>\n",
              "      <td>female</td>\n",
              "    </tr>\n",
              "    <tr>\n",
              "      <th>10</th>\n",
              "      <td>Lena</td>\n",
              "      <td>11</td>\n",
              "      <td>165</td>\n",
              "      <td>166.3</td>\n",
              "      <td>female</td>\n",
              "    </tr>\n",
              "    <tr>\n",
              "      <th>11</th>\n",
              "      <td>Mila</td>\n",
              "      <td>12</td>\n",
              "      <td>165</td>\n",
              "      <td>167.4</td>\n",
              "      <td>female</td>\n",
              "    </tr>\n",
              "    <tr>\n",
              "      <th>12</th>\n",
              "      <td>Fin</td>\n",
              "      <td>13</td>\n",
              "      <td>165</td>\n",
              "      <td>165.5</td>\n",
              "      <td>male</td>\n",
              "    </tr>\n",
              "    <tr>\n",
              "      <th>13</th>\n",
              "      <td>Eric</td>\n",
              "      <td>14</td>\n",
              "      <td>166</td>\n",
              "      <td>166.2</td>\n",
              "      <td>male</td>\n",
              "    </tr>\n",
              "    <tr>\n",
              "      <th>14</th>\n",
              "      <td>Pia</td>\n",
              "      <td>15</td>\n",
              "      <td>166</td>\n",
              "      <td>166.1</td>\n",
              "      <td>female</td>\n",
              "    </tr>\n",
              "    <tr>\n",
              "      <th>15</th>\n",
              "      <td>Marc</td>\n",
              "      <td>16</td>\n",
              "      <td>166</td>\n",
              "      <td>166.5</td>\n",
              "      <td>male</td>\n",
              "    </tr>\n",
              "    <tr>\n",
              "      <th>16</th>\n",
              "      <td>Ralph</td>\n",
              "      <td>17</td>\n",
              "      <td>166</td>\n",
              "      <td>166.6</td>\n",
              "      <td>male</td>\n",
              "    </tr>\n",
              "    <tr>\n",
              "      <th>17</th>\n",
              "      <td>Tom</td>\n",
              "      <td>18</td>\n",
              "      <td>167</td>\n",
              "      <td>166.2</td>\n",
              "      <td>male</td>\n",
              "    </tr>\n",
              "    <tr>\n",
              "      <th>18</th>\n",
              "      <td>Steven</td>\n",
              "      <td>19</td>\n",
              "      <td>167</td>\n",
              "      <td>167.3</td>\n",
              "      <td>male</td>\n",
              "    </tr>\n",
              "    <tr>\n",
              "      <th>19</th>\n",
              "      <td>Emanuel</td>\n",
              "      <td>20</td>\n",
              "      <td>168</td>\n",
              "      <td>168.5</td>\n",
              "      <td>male</td>\n",
              "    </tr>\n",
              "  </tbody>\n",
              "</table>\n",
              "</div>"
            ],
            "text/plain": [
              "        Name  ID%  Height  Average Height Parents  gender\n",
              "0   Stefanie    1     162                   161.5  female\n",
              "1      Peter    2     163                   163.5    male\n",
              "2   Stefanie    3     163                   163.2  female\n",
              "3    Manuela    4     164                   165.1  female\n",
              "4      Simon    5     164                   163.2    male\n",
              "5     Sophia    6     164                   164.4  female\n",
              "6      Ellen    7     164                   164.0  female\n",
              "7     Emilia    8     165                   165.2  female\n",
              "8       Lina    9     165                   165.2  female\n",
              "9      Marie   10     165                   165.1  female\n",
              "10      Lena   11     165                   166.3  female\n",
              "11      Mila   12     165                   167.4  female\n",
              "12       Fin   13     165                   165.5    male\n",
              "13      Eric   14     166                   166.2    male\n",
              "14       Pia   15     166                   166.1  female\n",
              "15      Marc   16     166                   166.5    male\n",
              "16     Ralph   17     166                   166.6    male\n",
              "17       Tom   18     167                   166.2    male\n",
              "18    Steven   19     167                   167.3    male\n",
              "19   Emanuel   20     168                   168.5    male"
            ]
          },
          "execution_count": 70,
          "metadata": {},
          "output_type": "execute_result"
        }
      ],
      "source": [
        "df.rename(columns={\" Gender\": \"gender\"}, errors=\"raise\")"
      ]
    },
    {
      "cell_type": "markdown",
      "metadata": {
        "id": "bfVT299hSn_1"
      },
      "source": [
        "- This raises an error. Can you spot the problem? (take a look at the end of the error statement)\n",
        "- The KeyError statement tells us that `\"['Gender'] not found in axis\"`\n",
        "- This is because variable Gender has a white space at the beginning: `[ Gender]`\n",
        "- We could fix this problem by typing `\" Gender\"` instead of `\"Gender\"`\n",
        "- However, there are useful functions (regular expressions) to deal with this kind of problems"
      ]
    },
    {
      "cell_type": "markdown",
      "metadata": {
        "id": "X74CvsrwSn_2"
      },
      "source": [
        "### Trailing and leading spaces (with regex)"
      ]
    },
    {
      "cell_type": "markdown",
      "metadata": {
        "id": "q0RUZaZrSn_3"
      },
      "source": [
        "- We use regular expressions to deal with whitespaces\n",
        "- To change multiple column names at once, we use the method `.columns.str` \n",
        "- To replace the spaces, we use `.replace()` with `regex=True`\n",
        "- In the following function, we search for leading (line start and spaces) and trailing (spaces and line end) spaces and replace them with an empty string:"
      ]
    },
    {
      "cell_type": "code",
      "execution_count": 73,
      "metadata": {
        "id": "kZhHZnStSn_3"
      },
      "outputs": [],
      "source": [
        "# replace r\"this pattern\" with empty string r\"\"\n",
        "df.columns = df.columns.str.replace(r\" \", r\"\", regex=True)"
      ]
    },
    {
      "cell_type": "markdown",
      "metadata": {
        "id": "wcDKzsqYSn_4"
      },
      "source": [
        "Explanation for the regex (see also [Stackoverflow](https://stackoverflow.com/a/67466222)):\n",
        "\n",
        "- we start with `r` (for raw) which tells Python to treat all following input as raw text (without interpreting it)\n",
        "- \"`^`\": is line start\n",
        "- \"` +`\": (space and plus) is one or more spaces\n",
        "- \"`|`\": is or\n",
        "- \"`$`\": is line end"
      ]
    },
    {
      "cell_type": "markdown",
      "metadata": {
        "id": "uLmi4SweSn_4"
      },
      "source": [
        "\n",
        "To learn more about regular expressions (\"regex\"), visit the following sites:\n",
        "\n",
        "- [regular expression basics](https://www.w3schools.com/python/python_regex.asp).\n",
        "- [interactive regular expressions tool](https://regex101.com/)"
      ]
    },
    {
      "cell_type": "markdown",
      "metadata": {
        "id": "ib_CI1S4Sn_5"
      },
      "source": [
        "### Replace special characters\n",
        "\n",
        "- Again, we use regular expressions to deal with special characters (like %, &, $ etc.)"
      ]
    },
    {
      "cell_type": "code",
      "execution_count": 74,
      "metadata": {
        "id": "_G-dTSsRSn_6",
        "outputId": "a1f942ee-4d91-4fe0-907d-8f3c9ee1bd88"
      },
      "outputs": [
        {
          "data": {
            "text/plain": [
              "Index(['Name', 'ID%', 'Height', 'AverageHeightParents', 'Gender'], dtype='object')"
            ]
          },
          "execution_count": 74,
          "metadata": {},
          "output_type": "execute_result"
        }
      ],
      "source": [
        "# replace r\" % \" with empty string r\"\"\n",
        "df.columns = df.columns.str.replace(r\" \", r\"\", regex=True)\n",
        "\n",
        "df.columns"
      ]
    },
    {
      "cell_type": "markdown",
      "metadata": {
        "id": "i0HsKC7FSn_6"
      },
      "source": [
        "### Lowercase and whitespace\n",
        "\n",
        "- We can use two simple methods to convert all columns to lowercase and replace white spaces with underscores (\"_\"):"
      ]
    },
    {
      "cell_type": "code",
      "execution_count": 80,
      "metadata": {
        "id": "qBgNZoTFSn_6",
        "outputId": "8dae3155-9e96-4088-d905-ae4e60351616"
      },
      "outputs": [
        {
          "data": {
            "text/plain": [
              "Index(['name', 'id%', 'height', 'averageheightparents', 'gender'], dtype='object')"
            ]
          },
          "execution_count": 80,
          "metadata": {},
          "output_type": "execute_result"
        }
      ],
      "source": [
        "df.columns = df.columns.str.lower().str.replace(' ', '_')\n",
        "\n",
        "df.columns"
      ]
    },
    {
      "cell_type": "code",
      "execution_count": 85,
      "metadata": {},
      "outputs": [
        {
          "data": {
            "text/plain": [
              "Index(['name', 'id', 'height', 'averageheightparents', 'gender'], dtype='object')"
            ]
          },
          "execution_count": 85,
          "metadata": {},
          "output_type": "execute_result"
        }
      ],
      "source": [
        "df.columns = df.columns.str.replace(\"%\",\"\")\n",
        "df.columns"
      ]
    },
    {
      "cell_type": "markdown",
      "metadata": {
        "id": "D68upc1pSn_7"
      },
      "source": [
        "## Change data type\n",
        "\n",
        "- There are several methods to [change data types in pandas](https://pandas.pydata.org/docs/reference/api/pandas.DataFrame.astype.html):\n",
        "\n",
        "  - `.astype()`: Convert to a specific type (like \"int32\", \"float\" or \"catgeory\")\n",
        "  - `to_datetime`: Convert argument to datetime.\n",
        "  - `to_timedelta`: Convert argument to timedelta.\n",
        "  - `to_numeric`: Convert argument to a numeric type.\n",
        "  - `numpy.ndarray.astype`: Cast a numpy array to a specified type."
      ]
    },
    {
      "cell_type": "markdown",
      "metadata": {
        "id": "e-2yUbGcSn_7"
      },
      "source": [
        "### Categorical data\n",
        "\n",
        "- Categoricals are a pandas data type corresponding to categorical variables in statistics. \n",
        "\n",
        "- A categorical variable takes on a limited, and usually fixed, number of possible values (categories). Examples are gender, social class, blood type, country affiliation, observation time or rating via Likert scales.\n",
        "\n",
        "- Converting an existing column to a category dtype:"
      ]
    },
    {
      "cell_type": "code",
      "execution_count": 87,
      "metadata": {
        "id": "ixhRvAXVSn_7",
        "outputId": "5e891982-aba7-4283-c067-deeaa8c4a17e"
      },
      "outputs": [
        {
          "data": {
            "text/plain": [
              "name                      object\n",
              "id                         int64\n",
              "height                     int64\n",
              "averageheightparents     float64\n",
              "gender                  category\n",
              "dtype: object"
            ]
          },
          "execution_count": 87,
          "metadata": {},
          "output_type": "execute_result"
        }
      ],
      "source": [
        "df[\"gender\"] = df[\"gender\"].astype(\"category\")\n",
        "\n",
        "df.dtypes"
      ]
    },
    {
      "cell_type": "markdown",
      "metadata": {
        "id": "MqD76-OKSn_8"
      },
      "source": [
        "### String data\n",
        "\n",
        "- In our example, id is not a number (we can't perform calculations with it)\n",
        "- It is just a unique identifier so we should transform it to a simple string (object)"
      ]
    },
    {
      "cell_type": "code",
      "execution_count": 90,
      "metadata": {
        "id": "OLpaf2P_Sn_8",
        "outputId": "d82119d8-662c-4ced-df8e-4ca5f8658e21"
      },
      "outputs": [
        {
          "data": {
            "text/plain": [
              "name                      object\n",
              "id                        object\n",
              "height                     int64\n",
              "averageheightparents     float64\n",
              "gender                  category\n",
              "dtype: object"
            ]
          },
          "execution_count": 90,
          "metadata": {},
          "output_type": "execute_result"
        }
      ],
      "source": [
        "df['id'] = df['id'].astype(object)\n",
        "\n",
        "df.dtypes"
      ]
    },
    {
      "cell_type": "markdown",
      "metadata": {
        "id": "dRdDCG22Sn_9"
      },
      "source": [
        "## Add new columns"
      ]
    },
    {
      "cell_type": "markdown",
      "metadata": {
        "id": "YGMZX3OOSn_9"
      },
      "source": [
        "### Constant"
      ]
    },
    {
      "cell_type": "code",
      "execution_count": 92,
      "metadata": {
        "id": "LHTkgQIiSn_9",
        "outputId": "6c7dca74-b0bf-4633-9002-328e83f76610"
      },
      "outputs": [
        {
          "data": {
            "text/html": [
              "<div>\n",
              "<style scoped>\n",
              "    .dataframe tbody tr th:only-of-type {\n",
              "        vertical-align: middle;\n",
              "    }\n",
              "\n",
              "    .dataframe tbody tr th {\n",
              "        vertical-align: top;\n",
              "    }\n",
              "\n",
              "    .dataframe thead th {\n",
              "        text-align: right;\n",
              "    }\n",
              "</style>\n",
              "<table border=\"1\" class=\"dataframe\">\n",
              "  <thead>\n",
              "    <tr style=\"text-align: right;\">\n",
              "      <th></th>\n",
              "      <th>name</th>\n",
              "      <th>id</th>\n",
              "      <th>height</th>\n",
              "      <th>averageheightparents</th>\n",
              "      <th>gender</th>\n",
              "      <th>number</th>\n",
              "    </tr>\n",
              "  </thead>\n",
              "  <tbody>\n",
              "    <tr>\n",
              "      <th>0</th>\n",
              "      <td>Stefanie</td>\n",
              "      <td>1</td>\n",
              "      <td>162</td>\n",
              "      <td>161.5</td>\n",
              "      <td>female</td>\n",
              "      <td>2</td>\n",
              "    </tr>\n",
              "    <tr>\n",
              "      <th>1</th>\n",
              "      <td>Peter</td>\n",
              "      <td>2</td>\n",
              "      <td>163</td>\n",
              "      <td>163.5</td>\n",
              "      <td>male</td>\n",
              "      <td>2</td>\n",
              "    </tr>\n",
              "    <tr>\n",
              "      <th>2</th>\n",
              "      <td>Stefanie</td>\n",
              "      <td>3</td>\n",
              "      <td>163</td>\n",
              "      <td>163.2</td>\n",
              "      <td>female</td>\n",
              "      <td>2</td>\n",
              "    </tr>\n",
              "  </tbody>\n",
              "</table>\n",
              "</div>"
            ],
            "text/plain": [
              "       name id  height  averageheightparents  gender  number\n",
              "0  Stefanie  1     162                 161.5  female       2\n",
              "1     Peter  2     163                 163.5    male       2\n",
              "2  Stefanie  3     163                 163.2  female       2"
            ]
          },
          "execution_count": 92,
          "metadata": {},
          "output_type": "execute_result"
        }
      ],
      "source": [
        "# add a constant to all rows\n",
        "df[\"number\"] = 2\n",
        "\n",
        "df.head(3)"
      ]
    },
    {
      "cell_type": "markdown",
      "metadata": {
        "id": "9fGxhiIJSn_-"
      },
      "source": [
        "### From existing\n",
        "\n",
        " - Create new column from existing columns"
      ]
    },
    {
      "cell_type": "code",
      "execution_count": 98,
      "metadata": {
        "id": "7BAzCaTjSn_-"
      },
      "outputs": [
        {
          "data": {
            "text/html": [
              "<div>\n",
              "<style scoped>\n",
              "    .dataframe tbody tr th:only-of-type {\n",
              "        vertical-align: middle;\n",
              "    }\n",
              "\n",
              "    .dataframe tbody tr th {\n",
              "        vertical-align: top;\n",
              "    }\n",
              "\n",
              "    .dataframe thead th {\n",
              "        text-align: right;\n",
              "    }\n",
              "</style>\n",
              "<table border=\"1\" class=\"dataframe\">\n",
              "  <thead>\n",
              "    <tr style=\"text-align: right;\">\n",
              "      <th></th>\n",
              "      <th>name</th>\n",
              "      <th>id</th>\n",
              "      <th>height</th>\n",
              "      <th>averageheightparents</th>\n",
              "      <th>gender</th>\n",
              "      <th>number</th>\n",
              "      <th>height_m</th>\n",
              "      <th>weight</th>\n",
              "      <th>bmi</th>\n",
              "    </tr>\n",
              "  </thead>\n",
              "  <tbody>\n",
              "    <tr>\n",
              "      <th>0</th>\n",
              "      <td>Stefanie</td>\n",
              "      <td>1</td>\n",
              "      <td>162</td>\n",
              "      <td>161.5</td>\n",
              "      <td>female</td>\n",
              "      <td>2</td>\n",
              "      <td>1.62</td>\n",
              "      <td>90.07</td>\n",
              "      <td>34.32</td>\n",
              "    </tr>\n",
              "    <tr>\n",
              "      <th>1</th>\n",
              "      <td>Peter</td>\n",
              "      <td>2</td>\n",
              "      <td>163</td>\n",
              "      <td>163.5</td>\n",
              "      <td>male</td>\n",
              "      <td>2</td>\n",
              "      <td>1.63</td>\n",
              "      <td>71.53</td>\n",
              "      <td>26.92</td>\n",
              "    </tr>\n",
              "    <tr>\n",
              "      <th>2</th>\n",
              "      <td>Stefanie</td>\n",
              "      <td>3</td>\n",
              "      <td>163</td>\n",
              "      <td>163.2</td>\n",
              "      <td>female</td>\n",
              "      <td>2</td>\n",
              "      <td>1.63</td>\n",
              "      <td>78.31</td>\n",
              "      <td>29.47</td>\n",
              "    </tr>\n",
              "    <tr>\n",
              "      <th>3</th>\n",
              "      <td>Manuela</td>\n",
              "      <td>4</td>\n",
              "      <td>164</td>\n",
              "      <td>165.1</td>\n",
              "      <td>female</td>\n",
              "      <td>2</td>\n",
              "      <td>1.64</td>\n",
              "      <td>65.02</td>\n",
              "      <td>24.17</td>\n",
              "    </tr>\n",
              "    <tr>\n",
              "      <th>4</th>\n",
              "      <td>Simon</td>\n",
              "      <td>5</td>\n",
              "      <td>164</td>\n",
              "      <td>163.2</td>\n",
              "      <td>male</td>\n",
              "      <td>2</td>\n",
              "      <td>1.64</td>\n",
              "      <td>71.56</td>\n",
              "      <td>26.61</td>\n",
              "    </tr>\n",
              "    <tr>\n",
              "      <th>5</th>\n",
              "      <td>Sophia</td>\n",
              "      <td>6</td>\n",
              "      <td>164</td>\n",
              "      <td>164.4</td>\n",
              "      <td>female</td>\n",
              "      <td>2</td>\n",
              "      <td>1.64</td>\n",
              "      <td>82.21</td>\n",
              "      <td>30.57</td>\n",
              "    </tr>\n",
              "    <tr>\n",
              "      <th>6</th>\n",
              "      <td>Ellen</td>\n",
              "      <td>7</td>\n",
              "      <td>164</td>\n",
              "      <td>164.0</td>\n",
              "      <td>female</td>\n",
              "      <td>2</td>\n",
              "      <td>1.64</td>\n",
              "      <td>87.86</td>\n",
              "      <td>32.67</td>\n",
              "    </tr>\n",
              "    <tr>\n",
              "      <th>7</th>\n",
              "      <td>Emilia</td>\n",
              "      <td>8</td>\n",
              "      <td>165</td>\n",
              "      <td>165.2</td>\n",
              "      <td>female</td>\n",
              "      <td>2</td>\n",
              "      <td>1.65</td>\n",
              "      <td>66.48</td>\n",
              "      <td>24.42</td>\n",
              "    </tr>\n",
              "    <tr>\n",
              "      <th>8</th>\n",
              "      <td>Lina</td>\n",
              "      <td>9</td>\n",
              "      <td>165</td>\n",
              "      <td>165.2</td>\n",
              "      <td>female</td>\n",
              "      <td>2</td>\n",
              "      <td>1.65</td>\n",
              "      <td>85.03</td>\n",
              "      <td>31.23</td>\n",
              "    </tr>\n",
              "    <tr>\n",
              "      <th>9</th>\n",
              "      <td>Marie</td>\n",
              "      <td>10</td>\n",
              "      <td>165</td>\n",
              "      <td>165.1</td>\n",
              "      <td>female</td>\n",
              "      <td>2</td>\n",
              "      <td>1.65</td>\n",
              "      <td>73.83</td>\n",
              "      <td>27.12</td>\n",
              "    </tr>\n",
              "    <tr>\n",
              "      <th>10</th>\n",
              "      <td>Lena</td>\n",
              "      <td>11</td>\n",
              "      <td>165</td>\n",
              "      <td>166.3</td>\n",
              "      <td>female</td>\n",
              "      <td>2</td>\n",
              "      <td>1.65</td>\n",
              "      <td>74.35</td>\n",
              "      <td>27.31</td>\n",
              "    </tr>\n",
              "    <tr>\n",
              "      <th>11</th>\n",
              "      <td>Mila</td>\n",
              "      <td>12</td>\n",
              "      <td>165</td>\n",
              "      <td>167.4</td>\n",
              "      <td>female</td>\n",
              "      <td>2</td>\n",
              "      <td>1.65</td>\n",
              "      <td>79.23</td>\n",
              "      <td>29.10</td>\n",
              "    </tr>\n",
              "    <tr>\n",
              "      <th>12</th>\n",
              "      <td>Fin</td>\n",
              "      <td>13</td>\n",
              "      <td>165</td>\n",
              "      <td>165.5</td>\n",
              "      <td>male</td>\n",
              "      <td>2</td>\n",
              "      <td>1.65</td>\n",
              "      <td>86.64</td>\n",
              "      <td>31.82</td>\n",
              "    </tr>\n",
              "    <tr>\n",
              "      <th>13</th>\n",
              "      <td>Eric</td>\n",
              "      <td>14</td>\n",
              "      <td>166</td>\n",
              "      <td>166.2</td>\n",
              "      <td>male</td>\n",
              "      <td>2</td>\n",
              "      <td>1.66</td>\n",
              "      <td>74.22</td>\n",
              "      <td>26.93</td>\n",
              "    </tr>\n",
              "    <tr>\n",
              "      <th>14</th>\n",
              "      <td>Pia</td>\n",
              "      <td>15</td>\n",
              "      <td>166</td>\n",
              "      <td>166.1</td>\n",
              "      <td>female</td>\n",
              "      <td>2</td>\n",
              "      <td>1.66</td>\n",
              "      <td>64.14</td>\n",
              "      <td>23.28</td>\n",
              "    </tr>\n",
              "    <tr>\n",
              "      <th>15</th>\n",
              "      <td>Marc</td>\n",
              "      <td>16</td>\n",
              "      <td>166</td>\n",
              "      <td>166.5</td>\n",
              "      <td>male</td>\n",
              "      <td>2</td>\n",
              "      <td>1.66</td>\n",
              "      <td>73.18</td>\n",
              "      <td>26.56</td>\n",
              "    </tr>\n",
              "    <tr>\n",
              "      <th>16</th>\n",
              "      <td>Ralph</td>\n",
              "      <td>17</td>\n",
              "      <td>166</td>\n",
              "      <td>166.6</td>\n",
              "      <td>male</td>\n",
              "      <td>2</td>\n",
              "      <td>1.66</td>\n",
              "      <td>74.12</td>\n",
              "      <td>26.90</td>\n",
              "    </tr>\n",
              "    <tr>\n",
              "      <th>17</th>\n",
              "      <td>Tom</td>\n",
              "      <td>18</td>\n",
              "      <td>167</td>\n",
              "      <td>166.2</td>\n",
              "      <td>male</td>\n",
              "      <td>2</td>\n",
              "      <td>1.67</td>\n",
              "      <td>81.14</td>\n",
              "      <td>29.09</td>\n",
              "    </tr>\n",
              "    <tr>\n",
              "      <th>18</th>\n",
              "      <td>Steven</td>\n",
              "      <td>19</td>\n",
              "      <td>167</td>\n",
              "      <td>167.3</td>\n",
              "      <td>male</td>\n",
              "      <td>2</td>\n",
              "      <td>1.67</td>\n",
              "      <td>78.06</td>\n",
              "      <td>27.99</td>\n",
              "    </tr>\n",
              "    <tr>\n",
              "      <th>19</th>\n",
              "      <td>Emanuel</td>\n",
              "      <td>20</td>\n",
              "      <td>168</td>\n",
              "      <td>168.5</td>\n",
              "      <td>male</td>\n",
              "      <td>2</td>\n",
              "      <td>1.68</td>\n",
              "      <td>74.48</td>\n",
              "      <td>26.39</td>\n",
              "    </tr>\n",
              "  </tbody>\n",
              "</table>\n",
              "</div>"
            ],
            "text/plain": [
              "        name  id  height  averageheightparents  gender  number  height_m  \\\n",
              "0   Stefanie   1     162                 161.5  female       2      1.62   \n",
              "1      Peter   2     163                 163.5    male       2      1.63   \n",
              "2   Stefanie   3     163                 163.2  female       2      1.63   \n",
              "3    Manuela   4     164                 165.1  female       2      1.64   \n",
              "4      Simon   5     164                 163.2    male       2      1.64   \n",
              "5     Sophia   6     164                 164.4  female       2      1.64   \n",
              "6      Ellen   7     164                 164.0  female       2      1.64   \n",
              "7     Emilia   8     165                 165.2  female       2      1.65   \n",
              "8       Lina   9     165                 165.2  female       2      1.65   \n",
              "9      Marie  10     165                 165.1  female       2      1.65   \n",
              "10      Lena  11     165                 166.3  female       2      1.65   \n",
              "11      Mila  12     165                 167.4  female       2      1.65   \n",
              "12       Fin  13     165                 165.5    male       2      1.65   \n",
              "13      Eric  14     166                 166.2    male       2      1.66   \n",
              "14       Pia  15     166                 166.1  female       2      1.66   \n",
              "15      Marc  16     166                 166.5    male       2      1.66   \n",
              "16     Ralph  17     166                 166.6    male       2      1.66   \n",
              "17       Tom  18     167                 166.2    male       2      1.67   \n",
              "18    Steven  19     167                 167.3    male       2      1.67   \n",
              "19   Emanuel  20     168                 168.5    male       2      1.68   \n",
              "\n",
              "    weight    bmi  \n",
              "0    90.07  34.32  \n",
              "1    71.53  26.92  \n",
              "2    78.31  29.47  \n",
              "3    65.02  24.17  \n",
              "4    71.56  26.61  \n",
              "5    82.21  30.57  \n",
              "6    87.86  32.67  \n",
              "7    66.48  24.42  \n",
              "8    85.03  31.23  \n",
              "9    73.83  27.12  \n",
              "10   74.35  27.31  \n",
              "11   79.23  29.10  \n",
              "12   86.64  31.82  \n",
              "13   74.22  26.93  \n",
              "14   64.14  23.28  \n",
              "15   73.18  26.56  \n",
              "16   74.12  26.90  \n",
              "17   81.14  29.09  \n",
              "18   78.06  27.99  \n",
              "19   74.48  26.39  "
            ]
          },
          "execution_count": 98,
          "metadata": {},
          "output_type": "execute_result"
        }
      ],
      "source": [
        "import numpy as np\n",
        "\n",
        "# calculate height in m (from cm)\n",
        "df['height_m'] = df.height/100\n",
        "\n",
        "# add some random numbers\n",
        "df['weight'] = round(np.random.normal(45, 5, 20) * df['height_m'],2)\n",
        "\n",
        "# calculate body mass index\n",
        "df['bmi'] = round(df.weight / (df.height_m * df.height_m),2)\n",
        "\n",
        "df"
      ]
    },
    {
      "cell_type": "markdown",
      "metadata": {
        "id": "QDT41HbESn__"
      },
      "source": [
        "### Date"
      ]
    },
    {
      "cell_type": "markdown",
      "metadata": {
        "id": "hIo6f7sRSn__"
      },
      "source": [
        "- To add a date, we can use datetime and [strftime](https://strftime.org):"
      ]
    },
    {
      "cell_type": "code",
      "execution_count": 100,
      "metadata": {
        "id": "wh8x5RI-Sn__",
        "outputId": "2d7e3a75-dfb7-43bb-9043-6211d70a7a8e"
      },
      "outputs": [
        {
          "data": {
            "text/html": [
              "<div>\n",
              "<style scoped>\n",
              "    .dataframe tbody tr th:only-of-type {\n",
              "        vertical-align: middle;\n",
              "    }\n",
              "\n",
              "    .dataframe tbody tr th {\n",
              "        vertical-align: top;\n",
              "    }\n",
              "\n",
              "    .dataframe thead th {\n",
              "        text-align: right;\n",
              "    }\n",
              "</style>\n",
              "<table border=\"1\" class=\"dataframe\">\n",
              "  <thead>\n",
              "    <tr style=\"text-align: right;\">\n",
              "      <th></th>\n",
              "      <th>name</th>\n",
              "      <th>id</th>\n",
              "      <th>height</th>\n",
              "      <th>averageheightparents</th>\n",
              "      <th>gender</th>\n",
              "      <th>number</th>\n",
              "      <th>height_m</th>\n",
              "      <th>weight</th>\n",
              "      <th>bmi</th>\n",
              "      <th>date</th>\n",
              "    </tr>\n",
              "  </thead>\n",
              "  <tbody>\n",
              "    <tr>\n",
              "      <th>0</th>\n",
              "      <td>Stefanie</td>\n",
              "      <td>1</td>\n",
              "      <td>162</td>\n",
              "      <td>161.5</td>\n",
              "      <td>female</td>\n",
              "      <td>2</td>\n",
              "      <td>1.62</td>\n",
              "      <td>90.07</td>\n",
              "      <td>34.32</td>\n",
              "      <td>2022-03-30</td>\n",
              "    </tr>\n",
              "    <tr>\n",
              "      <th>1</th>\n",
              "      <td>Peter</td>\n",
              "      <td>2</td>\n",
              "      <td>163</td>\n",
              "      <td>163.5</td>\n",
              "      <td>male</td>\n",
              "      <td>2</td>\n",
              "      <td>1.63</td>\n",
              "      <td>71.53</td>\n",
              "      <td>26.92</td>\n",
              "      <td>2022-03-30</td>\n",
              "    </tr>\n",
              "    <tr>\n",
              "      <th>2</th>\n",
              "      <td>Stefanie</td>\n",
              "      <td>3</td>\n",
              "      <td>163</td>\n",
              "      <td>163.2</td>\n",
              "      <td>female</td>\n",
              "      <td>2</td>\n",
              "      <td>1.63</td>\n",
              "      <td>78.31</td>\n",
              "      <td>29.47</td>\n",
              "      <td>2022-03-30</td>\n",
              "    </tr>\n",
              "  </tbody>\n",
              "</table>\n",
              "</div>"
            ],
            "text/plain": [
              "       name id  height  averageheightparents  gender  number  height_m  \\\n",
              "0  Stefanie  1     162                 161.5  female       2      1.62   \n",
              "1     Peter  2     163                 163.5    male       2      1.63   \n",
              "2  Stefanie  3     163                 163.2  female       2      1.63   \n",
              "\n",
              "   weight    bmi        date  \n",
              "0   90.07  34.32  2022-03-30  \n",
              "1   71.53  26.92  2022-03-30  \n",
              "2   78.31  29.47  2022-03-30  "
            ]
          },
          "execution_count": 100,
          "metadata": {},
          "output_type": "execute_result"
        }
      ],
      "source": [
        "# add date\n",
        "from datetime import datetime\n",
        "\n",
        "df[\"date\"] = datetime.today().strftime('%Y-%m-%d')\n",
        "\n",
        "df.head(3)"
      ]
    },
    {
      "cell_type": "markdown",
      "metadata": {
        "id": "BufT15eNSn__"
      },
      "source": [
        "## Summary statistics"
      ]
    },
    {
      "cell_type": "markdown",
      "metadata": {
        "id": "cS4swEQSSoAA"
      },
      "source": [
        "### Numeric data"
      ]
    },
    {
      "cell_type": "markdown",
      "metadata": {
        "id": "57WHbsYISoAA"
      },
      "source": [
        "- [describe()](https://pandas.pydata.org/docs/reference/api/pandas.DataFrame.describe.html#pandas.DataFrame.describe) shows a quick statistic summary of your numerical data.\n",
        "- We transpose the data (with `.T`) to make it more readable: "
      ]
    },
    {
      "cell_type": "code",
      "execution_count": 103,
      "metadata": {
        "id": "ejSm9DlySoAA",
        "outputId": "24438a6b-cae4-4cbe-a81a-7ca4b797ad8f"
      },
      "outputs": [
        {
          "data": {
            "text/html": [
              "<div>\n",
              "<style scoped>\n",
              "    .dataframe tbody tr th:only-of-type {\n",
              "        vertical-align: middle;\n",
              "    }\n",
              "\n",
              "    .dataframe tbody tr th {\n",
              "        vertical-align: top;\n",
              "    }\n",
              "\n",
              "    .dataframe thead th {\n",
              "        text-align: right;\n",
              "    }\n",
              "</style>\n",
              "<table border=\"1\" class=\"dataframe\">\n",
              "  <thead>\n",
              "    <tr style=\"text-align: right;\">\n",
              "      <th></th>\n",
              "      <th>count</th>\n",
              "      <th>mean</th>\n",
              "      <th>std</th>\n",
              "      <th>min</th>\n",
              "      <th>25%</th>\n",
              "      <th>50%</th>\n",
              "      <th>75%</th>\n",
              "      <th>max</th>\n",
              "    </tr>\n",
              "  </thead>\n",
              "  <tbody>\n",
              "    <tr>\n",
              "      <th>height</th>\n",
              "      <td>20.0</td>\n",
              "      <td>165.0000</td>\n",
              "      <td>1.486784</td>\n",
              "      <td>162.00</td>\n",
              "      <td>164.0000</td>\n",
              "      <td>165.000</td>\n",
              "      <td>166.0000</td>\n",
              "      <td>168.00</td>\n",
              "    </tr>\n",
              "    <tr>\n",
              "      <th>averageheightparents</th>\n",
              "      <td>20.0</td>\n",
              "      <td>165.3500</td>\n",
              "      <td>1.687883</td>\n",
              "      <td>161.50</td>\n",
              "      <td>164.3000</td>\n",
              "      <td>165.350</td>\n",
              "      <td>166.3500</td>\n",
              "      <td>168.50</td>\n",
              "    </tr>\n",
              "    <tr>\n",
              "      <th>number</th>\n",
              "      <td>20.0</td>\n",
              "      <td>2.0000</td>\n",
              "      <td>0.000000</td>\n",
              "      <td>2.00</td>\n",
              "      <td>2.0000</td>\n",
              "      <td>2.000</td>\n",
              "      <td>2.0000</td>\n",
              "      <td>2.00</td>\n",
              "    </tr>\n",
              "    <tr>\n",
              "      <th>height_m</th>\n",
              "      <td>20.0</td>\n",
              "      <td>1.6500</td>\n",
              "      <td>0.014868</td>\n",
              "      <td>1.62</td>\n",
              "      <td>1.6400</td>\n",
              "      <td>1.650</td>\n",
              "      <td>1.6600</td>\n",
              "      <td>1.68</td>\n",
              "    </tr>\n",
              "    <tr>\n",
              "      <th>weight</th>\n",
              "      <td>20.0</td>\n",
              "      <td>76.5730</td>\n",
              "      <td>7.354721</td>\n",
              "      <td>64.14</td>\n",
              "      <td>72.7750</td>\n",
              "      <td>74.415</td>\n",
              "      <td>81.4075</td>\n",
              "      <td>90.07</td>\n",
              "    </tr>\n",
              "    <tr>\n",
              "      <th>bmi</th>\n",
              "      <td>20.0</td>\n",
              "      <td>28.1435</td>\n",
              "      <td>2.889746</td>\n",
              "      <td>23.28</td>\n",
              "      <td>26.5975</td>\n",
              "      <td>27.215</td>\n",
              "      <td>29.7450</td>\n",
              "      <td>34.32</td>\n",
              "    </tr>\n",
              "  </tbody>\n",
              "</table>\n",
              "</div>"
            ],
            "text/plain": [
              "                      count      mean       std     min       25%      50%  \\\n",
              "height                 20.0  165.0000  1.486784  162.00  164.0000  165.000   \n",
              "averageheightparents   20.0  165.3500  1.687883  161.50  164.3000  165.350   \n",
              "number                 20.0    2.0000  0.000000    2.00    2.0000    2.000   \n",
              "height_m               20.0    1.6500  0.014868    1.62    1.6400    1.650   \n",
              "weight                 20.0   76.5730  7.354721   64.14   72.7750   74.415   \n",
              "bmi                    20.0   28.1435  2.889746   23.28   26.5975   27.215   \n",
              "\n",
              "                           75%     max  \n",
              "height                166.0000  168.00  \n",
              "averageheightparents  166.3500  168.50  \n",
              "number                  2.0000    2.00  \n",
              "height_m                1.6600    1.68  \n",
              "weight                 81.4075   90.07  \n",
              "bmi                    29.7450   34.32  "
            ]
          },
          "execution_count": 103,
          "metadata": {},
          "output_type": "execute_result"
        }
      ],
      "source": [
        "df.describe().T\n",
        "\n",
        "#.T transponiert den Zeilennamen nach oben (von der Seite)"
      ]
    },
    {
      "cell_type": "markdown",
      "metadata": {
        "id": "QfhLAcPxSoAA"
      },
      "source": [
        "- Obtain summary statistics for different groups (categorical data)"
      ]
    },
    {
      "cell_type": "code",
      "execution_count": 107,
      "metadata": {
        "id": "RGA4YbNUSoAB",
        "outputId": "623af6e9-999e-4cc7-89d2-9e5afe357e90"
      },
      "outputs": [
        {
          "data": {
            "text/html": [
              "<div>\n",
              "<style scoped>\n",
              "    .dataframe tbody tr th:only-of-type {\n",
              "        vertical-align: middle;\n",
              "    }\n",
              "\n",
              "    .dataframe tbody tr th {\n",
              "        vertical-align: top;\n",
              "    }\n",
              "\n",
              "    .dataframe thead th {\n",
              "        text-align: right;\n",
              "    }\n",
              "</style>\n",
              "<table border=\"1\" class=\"dataframe\">\n",
              "  <thead>\n",
              "    <tr style=\"text-align: right;\">\n",
              "      <th></th>\n",
              "      <th>gender</th>\n",
              "      <th>female</th>\n",
              "      <th>male</th>\n",
              "    </tr>\n",
              "  </thead>\n",
              "  <tbody>\n",
              "    <tr>\n",
              "      <th rowspan=\"8\" valign=\"top\">height</th>\n",
              "      <th>count</th>\n",
              "      <td>11.000000</td>\n",
              "      <td>9.000000</td>\n",
              "    </tr>\n",
              "    <tr>\n",
              "      <th>mean</th>\n",
              "      <td>164.363636</td>\n",
              "      <td>165.777778</td>\n",
              "    </tr>\n",
              "    <tr>\n",
              "      <th>std</th>\n",
              "      <td>1.120065</td>\n",
              "      <td>1.563472</td>\n",
              "    </tr>\n",
              "    <tr>\n",
              "      <th>min</th>\n",
              "      <td>162.000000</td>\n",
              "      <td>163.000000</td>\n",
              "    </tr>\n",
              "    <tr>\n",
              "      <th>25%</th>\n",
              "      <td>164.000000</td>\n",
              "      <td>165.000000</td>\n",
              "    </tr>\n",
              "    <tr>\n",
              "      <th>50%</th>\n",
              "      <td>165.000000</td>\n",
              "      <td>166.000000</td>\n",
              "    </tr>\n",
              "    <tr>\n",
              "      <th>75%</th>\n",
              "      <td>165.000000</td>\n",
              "      <td>167.000000</td>\n",
              "    </tr>\n",
              "    <tr>\n",
              "      <th>max</th>\n",
              "      <td>166.000000</td>\n",
              "      <td>168.000000</td>\n",
              "    </tr>\n",
              "    <tr>\n",
              "      <th rowspan=\"8\" valign=\"top\">averageheightparents</th>\n",
              "      <th>count</th>\n",
              "      <td>11.000000</td>\n",
              "      <td>9.000000</td>\n",
              "    </tr>\n",
              "    <tr>\n",
              "      <th>mean</th>\n",
              "      <td>164.863636</td>\n",
              "      <td>165.944444</td>\n",
              "    </tr>\n",
              "    <tr>\n",
              "      <th>std</th>\n",
              "      <td>1.593909</td>\n",
              "      <td>1.693451</td>\n",
              "    </tr>\n",
              "    <tr>\n",
              "      <th>min</th>\n",
              "      <td>161.500000</td>\n",
              "      <td>163.200000</td>\n",
              "    </tr>\n",
              "    <tr>\n",
              "      <th>25%</th>\n",
              "      <td>164.200000</td>\n",
              "      <td>165.500000</td>\n",
              "    </tr>\n",
              "    <tr>\n",
              "      <th>50%</th>\n",
              "      <td>165.100000</td>\n",
              "      <td>166.200000</td>\n",
              "    </tr>\n",
              "    <tr>\n",
              "      <th>75%</th>\n",
              "      <td>165.650000</td>\n",
              "      <td>166.600000</td>\n",
              "    </tr>\n",
              "    <tr>\n",
              "      <th>max</th>\n",
              "      <td>167.400000</td>\n",
              "      <td>168.500000</td>\n",
              "    </tr>\n",
              "    <tr>\n",
              "      <th rowspan=\"8\" valign=\"top\">number</th>\n",
              "      <th>count</th>\n",
              "      <td>11.000000</td>\n",
              "      <td>9.000000</td>\n",
              "    </tr>\n",
              "    <tr>\n",
              "      <th>mean</th>\n",
              "      <td>2.000000</td>\n",
              "      <td>2.000000</td>\n",
              "    </tr>\n",
              "    <tr>\n",
              "      <th>std</th>\n",
              "      <td>0.000000</td>\n",
              "      <td>0.000000</td>\n",
              "    </tr>\n",
              "    <tr>\n",
              "      <th>min</th>\n",
              "      <td>2.000000</td>\n",
              "      <td>2.000000</td>\n",
              "    </tr>\n",
              "    <tr>\n",
              "      <th>25%</th>\n",
              "      <td>2.000000</td>\n",
              "      <td>2.000000</td>\n",
              "    </tr>\n",
              "    <tr>\n",
              "      <th>50%</th>\n",
              "      <td>2.000000</td>\n",
              "      <td>2.000000</td>\n",
              "    </tr>\n",
              "    <tr>\n",
              "      <th>75%</th>\n",
              "      <td>2.000000</td>\n",
              "      <td>2.000000</td>\n",
              "    </tr>\n",
              "    <tr>\n",
              "      <th>max</th>\n",
              "      <td>2.000000</td>\n",
              "      <td>2.000000</td>\n",
              "    </tr>\n",
              "    <tr>\n",
              "      <th rowspan=\"8\" valign=\"top\">height_m</th>\n",
              "      <th>count</th>\n",
              "      <td>11.000000</td>\n",
              "      <td>9.000000</td>\n",
              "    </tr>\n",
              "    <tr>\n",
              "      <th>mean</th>\n",
              "      <td>1.643636</td>\n",
              "      <td>1.657778</td>\n",
              "    </tr>\n",
              "    <tr>\n",
              "      <th>std</th>\n",
              "      <td>0.011201</td>\n",
              "      <td>0.015635</td>\n",
              "    </tr>\n",
              "    <tr>\n",
              "      <th>min</th>\n",
              "      <td>1.620000</td>\n",
              "      <td>1.630000</td>\n",
              "    </tr>\n",
              "    <tr>\n",
              "      <th>25%</th>\n",
              "      <td>1.640000</td>\n",
              "      <td>1.650000</td>\n",
              "    </tr>\n",
              "    <tr>\n",
              "      <th>50%</th>\n",
              "      <td>1.650000</td>\n",
              "      <td>1.660000</td>\n",
              "    </tr>\n",
              "    <tr>\n",
              "      <th>75%</th>\n",
              "      <td>1.650000</td>\n",
              "      <td>1.670000</td>\n",
              "    </tr>\n",
              "    <tr>\n",
              "      <th>max</th>\n",
              "      <td>1.660000</td>\n",
              "      <td>1.680000</td>\n",
              "    </tr>\n",
              "    <tr>\n",
              "      <th rowspan=\"8\" valign=\"top\">weight</th>\n",
              "      <th>count</th>\n",
              "      <td>11.000000</td>\n",
              "      <td>9.000000</td>\n",
              "    </tr>\n",
              "    <tr>\n",
              "      <th>mean</th>\n",
              "      <td>76.957273</td>\n",
              "      <td>76.103333</td>\n",
              "    </tr>\n",
              "    <tr>\n",
              "      <th>std</th>\n",
              "      <td>9.075793</td>\n",
              "      <td>5.005457</td>\n",
              "    </tr>\n",
              "    <tr>\n",
              "      <th>min</th>\n",
              "      <td>64.140000</td>\n",
              "      <td>71.530000</td>\n",
              "    </tr>\n",
              "    <tr>\n",
              "      <th>25%</th>\n",
              "      <td>70.155000</td>\n",
              "      <td>73.180000</td>\n",
              "    </tr>\n",
              "    <tr>\n",
              "      <th>50%</th>\n",
              "      <td>78.310000</td>\n",
              "      <td>74.220000</td>\n",
              "    </tr>\n",
              "    <tr>\n",
              "      <th>75%</th>\n",
              "      <td>83.620000</td>\n",
              "      <td>78.060000</td>\n",
              "    </tr>\n",
              "    <tr>\n",
              "      <th>max</th>\n",
              "      <td>90.070000</td>\n",
              "      <td>86.640000</td>\n",
              "    </tr>\n",
              "    <tr>\n",
              "      <th rowspan=\"8\" valign=\"top\">bmi</th>\n",
              "      <th>count</th>\n",
              "      <td>11.000000</td>\n",
              "      <td>9.000000</td>\n",
              "    </tr>\n",
              "    <tr>\n",
              "      <th>mean</th>\n",
              "      <td>28.514545</td>\n",
              "      <td>27.690000</td>\n",
              "    </tr>\n",
              "    <tr>\n",
              "      <th>std</th>\n",
              "      <td>3.609181</td>\n",
              "      <td>1.768997</td>\n",
              "    </tr>\n",
              "    <tr>\n",
              "      <th>min</th>\n",
              "      <td>23.280000</td>\n",
              "      <td>26.390000</td>\n",
              "    </tr>\n",
              "    <tr>\n",
              "      <th>25%</th>\n",
              "      <td>25.770000</td>\n",
              "      <td>26.610000</td>\n",
              "    </tr>\n",
              "    <tr>\n",
              "      <th>50%</th>\n",
              "      <td>29.100000</td>\n",
              "      <td>26.920000</td>\n",
              "    </tr>\n",
              "    <tr>\n",
              "      <th>75%</th>\n",
              "      <td>30.900000</td>\n",
              "      <td>27.990000</td>\n",
              "    </tr>\n",
              "    <tr>\n",
              "      <th>max</th>\n",
              "      <td>34.320000</td>\n",
              "      <td>31.820000</td>\n",
              "    </tr>\n",
              "  </tbody>\n",
              "</table>\n",
              "</div>"
            ],
            "text/plain": [
              "gender                          female        male\n",
              "height               count   11.000000    9.000000\n",
              "                     mean   164.363636  165.777778\n",
              "                     std      1.120065    1.563472\n",
              "                     min    162.000000  163.000000\n",
              "                     25%    164.000000  165.000000\n",
              "                     50%    165.000000  166.000000\n",
              "                     75%    165.000000  167.000000\n",
              "                     max    166.000000  168.000000\n",
              "averageheightparents count   11.000000    9.000000\n",
              "                     mean   164.863636  165.944444\n",
              "                     std      1.593909    1.693451\n",
              "                     min    161.500000  163.200000\n",
              "                     25%    164.200000  165.500000\n",
              "                     50%    165.100000  166.200000\n",
              "                     75%    165.650000  166.600000\n",
              "                     max    167.400000  168.500000\n",
              "number               count   11.000000    9.000000\n",
              "                     mean     2.000000    2.000000\n",
              "                     std      0.000000    0.000000\n",
              "                     min      2.000000    2.000000\n",
              "                     25%      2.000000    2.000000\n",
              "                     50%      2.000000    2.000000\n",
              "                     75%      2.000000    2.000000\n",
              "                     max      2.000000    2.000000\n",
              "height_m             count   11.000000    9.000000\n",
              "                     mean     1.643636    1.657778\n",
              "                     std      0.011201    0.015635\n",
              "                     min      1.620000    1.630000\n",
              "                     25%      1.640000    1.650000\n",
              "                     50%      1.650000    1.660000\n",
              "                     75%      1.650000    1.670000\n",
              "                     max      1.660000    1.680000\n",
              "weight               count   11.000000    9.000000\n",
              "                     mean    76.957273   76.103333\n",
              "                     std      9.075793    5.005457\n",
              "                     min     64.140000   71.530000\n",
              "                     25%     70.155000   73.180000\n",
              "                     50%     78.310000   74.220000\n",
              "                     75%     83.620000   78.060000\n",
              "                     max     90.070000   86.640000\n",
              "bmi                  count   11.000000    9.000000\n",
              "                     mean    28.514545   27.690000\n",
              "                     std      3.609181    1.768997\n",
              "                     min     23.280000   26.390000\n",
              "                     25%     25.770000   26.610000\n",
              "                     50%     29.100000   26.920000\n",
              "                     75%     30.900000   27.990000\n",
              "                     max     34.320000   31.820000"
            ]
          },
          "execution_count": 107,
          "metadata": {},
          "output_type": "execute_result"
        }
      ],
      "source": [
        "df.groupby(['gender']).describe().T"
      ]
    },
    {
      "cell_type": "markdown",
      "metadata": {
        "id": "QeNyivY-SoAB"
      },
      "source": [
        "### Categorical data"
      ]
    },
    {
      "cell_type": "markdown",
      "metadata": {
        "id": "41EZ3wD_SoAB"
      },
      "source": [
        "- we can also use `describe()` for categorical data"
      ]
    },
    {
      "cell_type": "code",
      "execution_count": 108,
      "metadata": {
        "id": "8ujfH4d8SoAB",
        "outputId": "5b98f5ad-60df-4a6a-9635-83f815b755a5"
      },
      "outputs": [
        {
          "data": {
            "text/html": [
              "<div>\n",
              "<style scoped>\n",
              "    .dataframe tbody tr th:only-of-type {\n",
              "        vertical-align: middle;\n",
              "    }\n",
              "\n",
              "    .dataframe tbody tr th {\n",
              "        vertical-align: top;\n",
              "    }\n",
              "\n",
              "    .dataframe thead th {\n",
              "        text-align: right;\n",
              "    }\n",
              "</style>\n",
              "<table border=\"1\" class=\"dataframe\">\n",
              "  <thead>\n",
              "    <tr style=\"text-align: right;\">\n",
              "      <th></th>\n",
              "      <th>count</th>\n",
              "      <th>unique</th>\n",
              "      <th>top</th>\n",
              "      <th>freq</th>\n",
              "    </tr>\n",
              "  </thead>\n",
              "  <tbody>\n",
              "    <tr>\n",
              "      <th>gender</th>\n",
              "      <td>20</td>\n",
              "      <td>2</td>\n",
              "      <td>female</td>\n",
              "      <td>11</td>\n",
              "    </tr>\n",
              "  </tbody>\n",
              "</table>\n",
              "</div>"
            ],
            "text/plain": [
              "       count unique     top freq\n",
              "gender    20      2  female   11"
            ]
          },
          "execution_count": 108,
          "metadata": {},
          "output_type": "execute_result"
        }
      ],
      "source": [
        "df.describe(include=\"category\").T"
      ]
    },
    {
      "cell_type": "markdown",
      "metadata": {
        "id": "aBTJmyjASoAC"
      },
      "source": [
        "- Show unique levels and count with `value_counts()`"
      ]
    },
    {
      "cell_type": "code",
      "execution_count": 111,
      "metadata": {
        "id": "BIOnV39ASoAC",
        "outputId": "da5893bb-a799-40c0-f12a-96bbdacf7bb6"
      },
      "outputs": [
        {
          "data": {
            "text/plain": [
              "female    11\n",
              "male       9\n",
              "Name: gender, dtype: int64"
            ]
          },
          "execution_count": 111,
          "metadata": {},
          "output_type": "execute_result"
        }
      ],
      "source": [
        "df['gender'].value_counts()"
      ]
    },
    {
      "cell_type": "markdown",
      "metadata": {
        "id": "gZWSQsg3SoAC"
      },
      "source": [
        "## Sorting"
      ]
    },
    {
      "cell_type": "markdown",
      "metadata": {
        "id": "IYlG-zBnSoAC"
      },
      "source": [
        "Sorting by values:"
      ]
    },
    {
      "cell_type": "code",
      "execution_count": 112,
      "metadata": {
        "id": "bNAL1IuxSoAD",
        "outputId": "28960e0e-9091-47bc-e89f-257bdc69bcdc"
      },
      "outputs": [
        {
          "data": {
            "text/html": [
              "<div>\n",
              "<style scoped>\n",
              "    .dataframe tbody tr th:only-of-type {\n",
              "        vertical-align: middle;\n",
              "    }\n",
              "\n",
              "    .dataframe tbody tr th {\n",
              "        vertical-align: top;\n",
              "    }\n",
              "\n",
              "    .dataframe thead th {\n",
              "        text-align: right;\n",
              "    }\n",
              "</style>\n",
              "<table border=\"1\" class=\"dataframe\">\n",
              "  <thead>\n",
              "    <tr style=\"text-align: right;\">\n",
              "      <th></th>\n",
              "      <th>name</th>\n",
              "      <th>id</th>\n",
              "      <th>height</th>\n",
              "      <th>averageheightparents</th>\n",
              "      <th>gender</th>\n",
              "      <th>number</th>\n",
              "      <th>height_m</th>\n",
              "      <th>weight</th>\n",
              "      <th>bmi</th>\n",
              "      <th>date</th>\n",
              "    </tr>\n",
              "  </thead>\n",
              "  <tbody>\n",
              "    <tr>\n",
              "      <th>0</th>\n",
              "      <td>Stefanie</td>\n",
              "      <td>1</td>\n",
              "      <td>162</td>\n",
              "      <td>161.5</td>\n",
              "      <td>female</td>\n",
              "      <td>2</td>\n",
              "      <td>1.62</td>\n",
              "      <td>90.07</td>\n",
              "      <td>34.32</td>\n",
              "      <td>2022-03-30</td>\n",
              "    </tr>\n",
              "    <tr>\n",
              "      <th>1</th>\n",
              "      <td>Peter</td>\n",
              "      <td>2</td>\n",
              "      <td>163</td>\n",
              "      <td>163.5</td>\n",
              "      <td>male</td>\n",
              "      <td>2</td>\n",
              "      <td>1.63</td>\n",
              "      <td>71.53</td>\n",
              "      <td>26.92</td>\n",
              "      <td>2022-03-30</td>\n",
              "    </tr>\n",
              "    <tr>\n",
              "      <th>2</th>\n",
              "      <td>Stefanie</td>\n",
              "      <td>3</td>\n",
              "      <td>163</td>\n",
              "      <td>163.2</td>\n",
              "      <td>female</td>\n",
              "      <td>2</td>\n",
              "      <td>1.63</td>\n",
              "      <td>78.31</td>\n",
              "      <td>29.47</td>\n",
              "      <td>2022-03-30</td>\n",
              "    </tr>\n",
              "    <tr>\n",
              "      <th>3</th>\n",
              "      <td>Manuela</td>\n",
              "      <td>4</td>\n",
              "      <td>164</td>\n",
              "      <td>165.1</td>\n",
              "      <td>female</td>\n",
              "      <td>2</td>\n",
              "      <td>1.64</td>\n",
              "      <td>65.02</td>\n",
              "      <td>24.17</td>\n",
              "      <td>2022-03-30</td>\n",
              "    </tr>\n",
              "    <tr>\n",
              "      <th>4</th>\n",
              "      <td>Simon</td>\n",
              "      <td>5</td>\n",
              "      <td>164</td>\n",
              "      <td>163.2</td>\n",
              "      <td>male</td>\n",
              "      <td>2</td>\n",
              "      <td>1.64</td>\n",
              "      <td>71.56</td>\n",
              "      <td>26.61</td>\n",
              "      <td>2022-03-30</td>\n",
              "    </tr>\n",
              "    <tr>\n",
              "      <th>5</th>\n",
              "      <td>Sophia</td>\n",
              "      <td>6</td>\n",
              "      <td>164</td>\n",
              "      <td>164.4</td>\n",
              "      <td>female</td>\n",
              "      <td>2</td>\n",
              "      <td>1.64</td>\n",
              "      <td>82.21</td>\n",
              "      <td>30.57</td>\n",
              "      <td>2022-03-30</td>\n",
              "    </tr>\n",
              "    <tr>\n",
              "      <th>6</th>\n",
              "      <td>Ellen</td>\n",
              "      <td>7</td>\n",
              "      <td>164</td>\n",
              "      <td>164.0</td>\n",
              "      <td>female</td>\n",
              "      <td>2</td>\n",
              "      <td>1.64</td>\n",
              "      <td>87.86</td>\n",
              "      <td>32.67</td>\n",
              "      <td>2022-03-30</td>\n",
              "    </tr>\n",
              "    <tr>\n",
              "      <th>12</th>\n",
              "      <td>Fin</td>\n",
              "      <td>13</td>\n",
              "      <td>165</td>\n",
              "      <td>165.5</td>\n",
              "      <td>male</td>\n",
              "      <td>2</td>\n",
              "      <td>1.65</td>\n",
              "      <td>86.64</td>\n",
              "      <td>31.82</td>\n",
              "      <td>2022-03-30</td>\n",
              "    </tr>\n",
              "    <tr>\n",
              "      <th>11</th>\n",
              "      <td>Mila</td>\n",
              "      <td>12</td>\n",
              "      <td>165</td>\n",
              "      <td>167.4</td>\n",
              "      <td>female</td>\n",
              "      <td>2</td>\n",
              "      <td>1.65</td>\n",
              "      <td>79.23</td>\n",
              "      <td>29.10</td>\n",
              "      <td>2022-03-30</td>\n",
              "    </tr>\n",
              "    <tr>\n",
              "      <th>10</th>\n",
              "      <td>Lena</td>\n",
              "      <td>11</td>\n",
              "      <td>165</td>\n",
              "      <td>166.3</td>\n",
              "      <td>female</td>\n",
              "      <td>2</td>\n",
              "      <td>1.65</td>\n",
              "      <td>74.35</td>\n",
              "      <td>27.31</td>\n",
              "      <td>2022-03-30</td>\n",
              "    </tr>\n",
              "    <tr>\n",
              "      <th>9</th>\n",
              "      <td>Marie</td>\n",
              "      <td>10</td>\n",
              "      <td>165</td>\n",
              "      <td>165.1</td>\n",
              "      <td>female</td>\n",
              "      <td>2</td>\n",
              "      <td>1.65</td>\n",
              "      <td>73.83</td>\n",
              "      <td>27.12</td>\n",
              "      <td>2022-03-30</td>\n",
              "    </tr>\n",
              "    <tr>\n",
              "      <th>8</th>\n",
              "      <td>Lina</td>\n",
              "      <td>9</td>\n",
              "      <td>165</td>\n",
              "      <td>165.2</td>\n",
              "      <td>female</td>\n",
              "      <td>2</td>\n",
              "      <td>1.65</td>\n",
              "      <td>85.03</td>\n",
              "      <td>31.23</td>\n",
              "      <td>2022-03-30</td>\n",
              "    </tr>\n",
              "    <tr>\n",
              "      <th>7</th>\n",
              "      <td>Emilia</td>\n",
              "      <td>8</td>\n",
              "      <td>165</td>\n",
              "      <td>165.2</td>\n",
              "      <td>female</td>\n",
              "      <td>2</td>\n",
              "      <td>1.65</td>\n",
              "      <td>66.48</td>\n",
              "      <td>24.42</td>\n",
              "      <td>2022-03-30</td>\n",
              "    </tr>\n",
              "    <tr>\n",
              "      <th>13</th>\n",
              "      <td>Eric</td>\n",
              "      <td>14</td>\n",
              "      <td>166</td>\n",
              "      <td>166.2</td>\n",
              "      <td>male</td>\n",
              "      <td>2</td>\n",
              "      <td>1.66</td>\n",
              "      <td>74.22</td>\n",
              "      <td>26.93</td>\n",
              "      <td>2022-03-30</td>\n",
              "    </tr>\n",
              "    <tr>\n",
              "      <th>14</th>\n",
              "      <td>Pia</td>\n",
              "      <td>15</td>\n",
              "      <td>166</td>\n",
              "      <td>166.1</td>\n",
              "      <td>female</td>\n",
              "      <td>2</td>\n",
              "      <td>1.66</td>\n",
              "      <td>64.14</td>\n",
              "      <td>23.28</td>\n",
              "      <td>2022-03-30</td>\n",
              "    </tr>\n",
              "    <tr>\n",
              "      <th>15</th>\n",
              "      <td>Marc</td>\n",
              "      <td>16</td>\n",
              "      <td>166</td>\n",
              "      <td>166.5</td>\n",
              "      <td>male</td>\n",
              "      <td>2</td>\n",
              "      <td>1.66</td>\n",
              "      <td>73.18</td>\n",
              "      <td>26.56</td>\n",
              "      <td>2022-03-30</td>\n",
              "    </tr>\n",
              "    <tr>\n",
              "      <th>16</th>\n",
              "      <td>Ralph</td>\n",
              "      <td>17</td>\n",
              "      <td>166</td>\n",
              "      <td>166.6</td>\n",
              "      <td>male</td>\n",
              "      <td>2</td>\n",
              "      <td>1.66</td>\n",
              "      <td>74.12</td>\n",
              "      <td>26.90</td>\n",
              "      <td>2022-03-30</td>\n",
              "    </tr>\n",
              "    <tr>\n",
              "      <th>17</th>\n",
              "      <td>Tom</td>\n",
              "      <td>18</td>\n",
              "      <td>167</td>\n",
              "      <td>166.2</td>\n",
              "      <td>male</td>\n",
              "      <td>2</td>\n",
              "      <td>1.67</td>\n",
              "      <td>81.14</td>\n",
              "      <td>29.09</td>\n",
              "      <td>2022-03-30</td>\n",
              "    </tr>\n",
              "    <tr>\n",
              "      <th>18</th>\n",
              "      <td>Steven</td>\n",
              "      <td>19</td>\n",
              "      <td>167</td>\n",
              "      <td>167.3</td>\n",
              "      <td>male</td>\n",
              "      <td>2</td>\n",
              "      <td>1.67</td>\n",
              "      <td>78.06</td>\n",
              "      <td>27.99</td>\n",
              "      <td>2022-03-30</td>\n",
              "    </tr>\n",
              "    <tr>\n",
              "      <th>19</th>\n",
              "      <td>Emanuel</td>\n",
              "      <td>20</td>\n",
              "      <td>168</td>\n",
              "      <td>168.5</td>\n",
              "      <td>male</td>\n",
              "      <td>2</td>\n",
              "      <td>1.68</td>\n",
              "      <td>74.48</td>\n",
              "      <td>26.39</td>\n",
              "      <td>2022-03-30</td>\n",
              "    </tr>\n",
              "  </tbody>\n",
              "</table>\n",
              "</div>"
            ],
            "text/plain": [
              "        name  id  height  averageheightparents  gender  number  height_m  \\\n",
              "0   Stefanie   1     162                 161.5  female       2      1.62   \n",
              "1      Peter   2     163                 163.5    male       2      1.63   \n",
              "2   Stefanie   3     163                 163.2  female       2      1.63   \n",
              "3    Manuela   4     164                 165.1  female       2      1.64   \n",
              "4      Simon   5     164                 163.2    male       2      1.64   \n",
              "5     Sophia   6     164                 164.4  female       2      1.64   \n",
              "6      Ellen   7     164                 164.0  female       2      1.64   \n",
              "12       Fin  13     165                 165.5    male       2      1.65   \n",
              "11      Mila  12     165                 167.4  female       2      1.65   \n",
              "10      Lena  11     165                 166.3  female       2      1.65   \n",
              "9      Marie  10     165                 165.1  female       2      1.65   \n",
              "8       Lina   9     165                 165.2  female       2      1.65   \n",
              "7     Emilia   8     165                 165.2  female       2      1.65   \n",
              "13      Eric  14     166                 166.2    male       2      1.66   \n",
              "14       Pia  15     166                 166.1  female       2      1.66   \n",
              "15      Marc  16     166                 166.5    male       2      1.66   \n",
              "16     Ralph  17     166                 166.6    male       2      1.66   \n",
              "17       Tom  18     167                 166.2    male       2      1.67   \n",
              "18    Steven  19     167                 167.3    male       2      1.67   \n",
              "19   Emanuel  20     168                 168.5    male       2      1.68   \n",
              "\n",
              "    weight    bmi        date  \n",
              "0    90.07  34.32  2022-03-30  \n",
              "1    71.53  26.92  2022-03-30  \n",
              "2    78.31  29.47  2022-03-30  \n",
              "3    65.02  24.17  2022-03-30  \n",
              "4    71.56  26.61  2022-03-30  \n",
              "5    82.21  30.57  2022-03-30  \n",
              "6    87.86  32.67  2022-03-30  \n",
              "12   86.64  31.82  2022-03-30  \n",
              "11   79.23  29.10  2022-03-30  \n",
              "10   74.35  27.31  2022-03-30  \n",
              "9    73.83  27.12  2022-03-30  \n",
              "8    85.03  31.23  2022-03-30  \n",
              "7    66.48  24.42  2022-03-30  \n",
              "13   74.22  26.93  2022-03-30  \n",
              "14   64.14  23.28  2022-03-30  \n",
              "15   73.18  26.56  2022-03-30  \n",
              "16   74.12  26.90  2022-03-30  \n",
              "17   81.14  29.09  2022-03-30  \n",
              "18   78.06  27.99  2022-03-30  \n",
              "19   74.48  26.39  2022-03-30  "
            ]
          },
          "execution_count": 112,
          "metadata": {},
          "output_type": "execute_result"
        }
      ],
      "source": [
        "df.sort_values(by=\"height_m\")"
      ]
    },
    {
      "cell_type": "markdown",
      "metadata": {
        "id": "ZlN4Q_c5SoAD"
      },
      "source": [
        "## Selection\n",
        "\n",
        "### Getting []\n",
        "\n",
        "Selecting a single column (equivalent to `df.height`):"
      ]
    },
    {
      "cell_type": "code",
      "execution_count": null,
      "metadata": {
        "id": "MVUYwFZySoAD",
        "outputId": "93d0f9ab-fdf7-4b6d-f4b1-c4a6c6f0afef"
      },
      "outputs": [
        {
          "data": {
            "text/plain": [
              "0     162\n",
              "1     163\n",
              "2     163\n",
              "3     164\n",
              "4     164\n",
              "5     164\n",
              "6     164\n",
              "7     165\n",
              "8     165\n",
              "9     165\n",
              "10    165\n",
              "11    165\n",
              "12    165\n",
              "13    166\n",
              "14    166\n",
              "15    166\n",
              "16    166\n",
              "17    167\n",
              "18    167\n",
              "19    168\n",
              "Name: height, dtype: int64"
            ]
          },
          "execution_count": 134,
          "metadata": {},
          "output_type": "execute_result"
        }
      ],
      "source": [
        "df[\"___\"]"
      ]
    },
    {
      "cell_type": "markdown",
      "metadata": {
        "id": "v0DK7DFlSoAD"
      },
      "source": [
        "Selecting via [], which slices the rows (endpoint is not included).\n"
      ]
    },
    {
      "cell_type": "code",
      "execution_count": null,
      "metadata": {
        "id": "sq6GTugBSoAE",
        "outputId": "14cdabbc-954d-40bc-84e1-4a0bfe472374"
      },
      "outputs": [
        {
          "data": {
            "text/html": [
              "<div>\n",
              "<style scoped>\n",
              "    .dataframe tbody tr th:only-of-type {\n",
              "        vertical-align: middle;\n",
              "    }\n",
              "\n",
              "    .dataframe tbody tr th {\n",
              "        vertical-align: top;\n",
              "    }\n",
              "\n",
              "    .dataframe thead th {\n",
              "        text-align: right;\n",
              "    }\n",
              "</style>\n",
              "<table border=\"1\" class=\"dataframe\">\n",
              "  <thead>\n",
              "    <tr style=\"text-align: right;\">\n",
              "      <th></th>\n",
              "      <th>name</th>\n",
              "      <th>id</th>\n",
              "      <th>height</th>\n",
              "      <th>average_height_parents</th>\n",
              "      <th>gender</th>\n",
              "      <th>number</th>\n",
              "      <th>height_m</th>\n",
              "      <th>weight</th>\n",
              "      <th>bmi</th>\n",
              "      <th>date</th>\n",
              "    </tr>\n",
              "  </thead>\n",
              "  <tbody>\n",
              "    <tr>\n",
              "      <th>0</th>\n",
              "      <td>Stefanie</td>\n",
              "      <td>1</td>\n",
              "      <td>162</td>\n",
              "      <td>161.5</td>\n",
              "      <td>female</td>\n",
              "      <td>42</td>\n",
              "      <td>1.62</td>\n",
              "      <td>78.85</td>\n",
              "      <td>30.04</td>\n",
              "      <td>2022-03-25</td>\n",
              "    </tr>\n",
              "  </tbody>\n",
              "</table>\n",
              "</div>"
            ],
            "text/plain": [
              "       name id  height  average_height_parents  gender  number  height_m  \\\n",
              "0  Stefanie  1     162                   161.5  female      42      1.62   \n",
              "\n",
              "   weight    bmi        date  \n",
              "0   78.85  30.04  2022-03-25  "
            ]
          },
          "execution_count": 135,
          "metadata": {},
          "output_type": "execute_result"
        }
      ],
      "source": [
        "df[___:___]"
      ]
    },
    {
      "cell_type": "markdown",
      "metadata": {
        "id": "PDHGnpn9SoAF"
      },
      "source": [
        "### By label .loc\n",
        "\n",
        "The `.loc` attribute is the primary access method. The following are valid inputs:\n",
        "\n",
        "For getting a cross section using a label:"
      ]
    },
    {
      "cell_type": "code",
      "execution_count": null,
      "metadata": {
        "id": "cnl9hRpMSoAF",
        "outputId": "946bd1b7-137a-443c-b26d-86e31b9f2886"
      },
      "outputs": [
        {
          "data": {
            "text/html": [
              "<div>\n",
              "<style scoped>\n",
              "    .dataframe tbody tr th:only-of-type {\n",
              "        vertical-align: middle;\n",
              "    }\n",
              "\n",
              "    .dataframe tbody tr th {\n",
              "        vertical-align: top;\n",
              "    }\n",
              "\n",
              "    .dataframe thead th {\n",
              "        text-align: right;\n",
              "    }\n",
              "</style>\n",
              "<table border=\"1\" class=\"dataframe\">\n",
              "  <thead>\n",
              "    <tr style=\"text-align: right;\">\n",
              "      <th></th>\n",
              "      <th>name</th>\n",
              "      <th>id</th>\n",
              "      <th>height</th>\n",
              "      <th>average_height_parents</th>\n",
              "      <th>gender</th>\n",
              "      <th>number</th>\n",
              "      <th>height_m</th>\n",
              "      <th>weight</th>\n",
              "      <th>bmi</th>\n",
              "      <th>date</th>\n",
              "    </tr>\n",
              "  </thead>\n",
              "  <tbody>\n",
              "    <tr>\n",
              "      <th>0</th>\n",
              "      <td>Stefanie</td>\n",
              "      <td>1</td>\n",
              "      <td>162</td>\n",
              "      <td>161.5</td>\n",
              "      <td>female</td>\n",
              "      <td>42</td>\n",
              "      <td>1.62</td>\n",
              "      <td>78.85</td>\n",
              "      <td>30.04</td>\n",
              "      <td>2022-03-25</td>\n",
              "    </tr>\n",
              "  </tbody>\n",
              "</table>\n",
              "</div>"
            ],
            "text/plain": [
              "       name id  height  average_height_parents  gender  number  height_m  \\\n",
              "0  Stefanie  1     162                   161.5  female      42      1.62   \n",
              "\n",
              "   weight    bmi        date  \n",
              "0   78.85  30.04  2022-03-25  "
            ]
          },
          "execution_count": 136,
          "metadata": {},
          "output_type": "execute_result"
        }
      ],
      "source": [
        "df.loc[[___]]"
      ]
    },
    {
      "cell_type": "markdown",
      "metadata": {
        "id": "4bRzUfasSoAF"
      },
      "source": [
        "Selecting on a multi-axis by label:"
      ]
    },
    {
      "cell_type": "code",
      "execution_count": null,
      "metadata": {
        "id": "T2GYlfOVSoAF",
        "outputId": "3590ba85-2537-4cc1-eda0-dc97e41b2d4d"
      },
      "outputs": [
        {
          "data": {
            "text/html": [
              "<div>\n",
              "<style scoped>\n",
              "    .dataframe tbody tr th:only-of-type {\n",
              "        vertical-align: middle;\n",
              "    }\n",
              "\n",
              "    .dataframe tbody tr th {\n",
              "        vertical-align: top;\n",
              "    }\n",
              "\n",
              "    .dataframe thead th {\n",
              "        text-align: right;\n",
              "    }\n",
              "</style>\n",
              "<table border=\"1\" class=\"dataframe\">\n",
              "  <thead>\n",
              "    <tr style=\"text-align: right;\">\n",
              "      <th></th>\n",
              "      <th>name</th>\n",
              "      <th>height</th>\n",
              "    </tr>\n",
              "  </thead>\n",
              "  <tbody>\n",
              "    <tr>\n",
              "      <th>0</th>\n",
              "      <td>Stefanie</td>\n",
              "      <td>162</td>\n",
              "    </tr>\n",
              "    <tr>\n",
              "      <th>1</th>\n",
              "      <td>Peter</td>\n",
              "      <td>163</td>\n",
              "    </tr>\n",
              "    <tr>\n",
              "      <th>2</th>\n",
              "      <td>Stefanie</td>\n",
              "      <td>163</td>\n",
              "    </tr>\n",
              "    <tr>\n",
              "      <th>3</th>\n",
              "      <td>Manuela</td>\n",
              "      <td>164</td>\n",
              "    </tr>\n",
              "    <tr>\n",
              "      <th>4</th>\n",
              "      <td>Simon</td>\n",
              "      <td>164</td>\n",
              "    </tr>\n",
              "    <tr>\n",
              "      <th>5</th>\n",
              "      <td>Sophia</td>\n",
              "      <td>164</td>\n",
              "    </tr>\n",
              "    <tr>\n",
              "      <th>6</th>\n",
              "      <td>Ellen</td>\n",
              "      <td>164</td>\n",
              "    </tr>\n",
              "    <tr>\n",
              "      <th>7</th>\n",
              "      <td>Emilia</td>\n",
              "      <td>165</td>\n",
              "    </tr>\n",
              "    <tr>\n",
              "      <th>8</th>\n",
              "      <td>Lina</td>\n",
              "      <td>165</td>\n",
              "    </tr>\n",
              "    <tr>\n",
              "      <th>9</th>\n",
              "      <td>Marie</td>\n",
              "      <td>165</td>\n",
              "    </tr>\n",
              "    <tr>\n",
              "      <th>10</th>\n",
              "      <td>Lena</td>\n",
              "      <td>165</td>\n",
              "    </tr>\n",
              "    <tr>\n",
              "      <th>11</th>\n",
              "      <td>Mila</td>\n",
              "      <td>165</td>\n",
              "    </tr>\n",
              "    <tr>\n",
              "      <th>12</th>\n",
              "      <td>Fin</td>\n",
              "      <td>165</td>\n",
              "    </tr>\n",
              "    <tr>\n",
              "      <th>13</th>\n",
              "      <td>Eric</td>\n",
              "      <td>166</td>\n",
              "    </tr>\n",
              "    <tr>\n",
              "      <th>14</th>\n",
              "      <td>Pia</td>\n",
              "      <td>166</td>\n",
              "    </tr>\n",
              "    <tr>\n",
              "      <th>15</th>\n",
              "      <td>Marc</td>\n",
              "      <td>166</td>\n",
              "    </tr>\n",
              "    <tr>\n",
              "      <th>16</th>\n",
              "      <td>Ralph</td>\n",
              "      <td>166</td>\n",
              "    </tr>\n",
              "    <tr>\n",
              "      <th>17</th>\n",
              "      <td>Tom</td>\n",
              "      <td>167</td>\n",
              "    </tr>\n",
              "    <tr>\n",
              "      <th>18</th>\n",
              "      <td>Steven</td>\n",
              "      <td>167</td>\n",
              "    </tr>\n",
              "    <tr>\n",
              "      <th>19</th>\n",
              "      <td>Emanuel</td>\n",
              "      <td>168</td>\n",
              "    </tr>\n",
              "  </tbody>\n",
              "</table>\n",
              "</div>"
            ],
            "text/plain": [
              "        name  height\n",
              "0   Stefanie     162\n",
              "1      Peter     163\n",
              "2   Stefanie     163\n",
              "3    Manuela     164\n",
              "4      Simon     164\n",
              "5     Sophia     164\n",
              "6      Ellen     164\n",
              "7     Emilia     165\n",
              "8       Lina     165\n",
              "9      Marie     165\n",
              "10      Lena     165\n",
              "11      Mila     165\n",
              "12       Fin     165\n",
              "13      Eric     166\n",
              "14       Pia     166\n",
              "15      Marc     166\n",
              "16     Ralph     166\n",
              "17       Tom     167\n",
              "18    Steven     167\n",
              "19   Emanuel     168"
            ]
          },
          "execution_count": 137,
          "metadata": {},
          "output_type": "execute_result"
        }
      ],
      "source": [
        "df.loc[ : , [\"___\", \"___\"]]"
      ]
    },
    {
      "cell_type": "markdown",
      "metadata": {
        "id": "PjrDG8ppSoAG"
      },
      "source": [
        "Showing label slicing, both endpoints are included:"
      ]
    },
    {
      "cell_type": "code",
      "execution_count": null,
      "metadata": {
        "id": "_Fs3YwZRSoAG",
        "outputId": "07f29cdc-797e-4e12-e68e-34eba49c9951"
      },
      "outputs": [
        {
          "data": {
            "text/html": [
              "<div>\n",
              "<style scoped>\n",
              "    .dataframe tbody tr th:only-of-type {\n",
              "        vertical-align: middle;\n",
              "    }\n",
              "\n",
              "    .dataframe tbody tr th {\n",
              "        vertical-align: top;\n",
              "    }\n",
              "\n",
              "    .dataframe thead th {\n",
              "        text-align: right;\n",
              "    }\n",
              "</style>\n",
              "<table border=\"1\" class=\"dataframe\">\n",
              "  <thead>\n",
              "    <tr style=\"text-align: right;\">\n",
              "      <th></th>\n",
              "      <th>name</th>\n",
              "      <th>height</th>\n",
              "    </tr>\n",
              "  </thead>\n",
              "  <tbody>\n",
              "    <tr>\n",
              "      <th>0</th>\n",
              "      <td>Stefanie</td>\n",
              "      <td>162</td>\n",
              "    </tr>\n",
              "    <tr>\n",
              "      <th>1</th>\n",
              "      <td>Peter</td>\n",
              "      <td>163</td>\n",
              "    </tr>\n",
              "  </tbody>\n",
              "</table>\n",
              "</div>"
            ],
            "text/plain": [
              "       name  height\n",
              "0  Stefanie     162\n",
              "1     Peter     163"
            ]
          },
          "execution_count": 138,
          "metadata": {},
          "output_type": "execute_result"
        }
      ],
      "source": [
        "df.loc[___:___, [\"___\", \"___\"]]"
      ]
    },
    {
      "cell_type": "markdown",
      "metadata": {
        "id": "p36rG6WDSoAG"
      },
      "source": [
        "Reduction in the dimensions of the returned object:"
      ]
    },
    {
      "cell_type": "code",
      "execution_count": null,
      "metadata": {
        "id": "L0Vj9nR6SoAG",
        "outputId": "0da6e6d7-bea1-43d7-b8e8-9f6b46d2eab9"
      },
      "outputs": [
        {
          "data": {
            "text/plain": [
              "name      Stefanie\n",
              "height         162\n",
              "Name: 0, dtype: object"
            ]
          },
          "execution_count": 139,
          "metadata": {},
          "output_type": "execute_result"
        }
      ],
      "source": [
        "df.loc[0, [\"name\", \"height\"]]"
      ]
    },
    {
      "cell_type": "markdown",
      "metadata": {
        "id": "5GO0QFhgSoAH"
      },
      "source": [
        "For getting a scalar value:"
      ]
    },
    {
      "cell_type": "code",
      "execution_count": null,
      "metadata": {
        "id": "N8d7FKP2SoAH",
        "outputId": "827bd647-20b6-4b43-fcc7-8898b16226b2"
      },
      "outputs": [
        {
          "data": {
            "text/plain": [
              "0    162\n",
              "Name: height, dtype: int64"
            ]
          },
          "execution_count": 140,
          "metadata": {},
          "output_type": "execute_result"
        }
      ],
      "source": [
        "df.loc[[0], \"height\"]"
      ]
    },
    {
      "cell_type": "markdown",
      "metadata": {
        "id": "G7Ds0c_2SoAH"
      },
      "source": [
        "### By position .iloc\n",
        "\n",
        "pandas provides a suite of methods in order to get purely integer based indexing. Here, the .iloc attribute is the primary access method. "
      ]
    },
    {
      "cell_type": "code",
      "execution_count": null,
      "metadata": {
        "id": "TohjTV8LSoAH",
        "outputId": "eeb6aa0c-5925-4577-ee4e-aaba351c2e06"
      },
      "outputs": [
        {
          "data": {
            "text/plain": [
              "name                        Stefanie\n",
              "id                                 1\n",
              "height                           162\n",
              "average_height_parents         161.5\n",
              "gender                        female\n",
              "number                            42\n",
              "height_m                        1.62\n",
              "weight                         78.85\n",
              "bmi                            30.04\n",
              "date                      2022-03-25\n",
              "Name: 0, dtype: object"
            ]
          },
          "execution_count": 141,
          "metadata": {},
          "output_type": "execute_result"
        }
      ],
      "source": [
        "df.iloc[0]"
      ]
    },
    {
      "cell_type": "markdown",
      "metadata": {
        "id": "v7loOfMqSoAI"
      },
      "source": [
        "By integer slices:"
      ]
    },
    {
      "cell_type": "code",
      "execution_count": null,
      "metadata": {
        "id": "GiyTseOcSoAI",
        "outputId": "36cd5056-2028-4f97-e908-e55b160f7ea7"
      },
      "outputs": [
        {
          "data": {
            "text/html": [
              "<div>\n",
              "<style scoped>\n",
              "    .dataframe tbody tr th:only-of-type {\n",
              "        vertical-align: middle;\n",
              "    }\n",
              "\n",
              "    .dataframe tbody tr th {\n",
              "        vertical-align: top;\n",
              "    }\n",
              "\n",
              "    .dataframe thead th {\n",
              "        text-align: right;\n",
              "    }\n",
              "</style>\n",
              "<table border=\"1\" class=\"dataframe\">\n",
              "  <thead>\n",
              "    <tr style=\"text-align: right;\">\n",
              "      <th></th>\n",
              "      <th>name</th>\n",
              "      <th>id</th>\n",
              "    </tr>\n",
              "  </thead>\n",
              "  <tbody>\n",
              "    <tr>\n",
              "      <th>0</th>\n",
              "      <td>Stefanie</td>\n",
              "      <td>1</td>\n",
              "    </tr>\n",
              "    <tr>\n",
              "      <th>1</th>\n",
              "      <td>Peter</td>\n",
              "      <td>2</td>\n",
              "    </tr>\n",
              "  </tbody>\n",
              "</table>\n",
              "</div>"
            ],
            "text/plain": [
              "       name id\n",
              "0  Stefanie  1\n",
              "1     Peter  2"
            ]
          },
          "execution_count": 142,
          "metadata": {},
          "output_type": "execute_result"
        }
      ],
      "source": [
        "df.iloc[0:2, 0:2]"
      ]
    },
    {
      "cell_type": "markdown",
      "metadata": {
        "id": "Wy0Aj9UQSoAJ"
      },
      "source": [
        "By lists of integer position locations:"
      ]
    },
    {
      "cell_type": "code",
      "execution_count": null,
      "metadata": {
        "id": "T5G_lA8WSoAJ",
        "outputId": "22dfb10b-a213-436c-ff3f-34e48a240008"
      },
      "outputs": [
        {
          "data": {
            "text/html": [
              "<div>\n",
              "<style scoped>\n",
              "    .dataframe tbody tr th:only-of-type {\n",
              "        vertical-align: middle;\n",
              "    }\n",
              "\n",
              "    .dataframe tbody tr th {\n",
              "        vertical-align: top;\n",
              "    }\n",
              "\n",
              "    .dataframe thead th {\n",
              "        text-align: right;\n",
              "    }\n",
              "</style>\n",
              "<table border=\"1\" class=\"dataframe\">\n",
              "  <thead>\n",
              "    <tr style=\"text-align: right;\">\n",
              "      <th></th>\n",
              "      <th>name</th>\n",
              "      <th>height</th>\n",
              "    </tr>\n",
              "  </thead>\n",
              "  <tbody>\n",
              "    <tr>\n",
              "      <th>0</th>\n",
              "      <td>Stefanie</td>\n",
              "      <td>162</td>\n",
              "    </tr>\n",
              "    <tr>\n",
              "      <th>2</th>\n",
              "      <td>Stefanie</td>\n",
              "      <td>163</td>\n",
              "    </tr>\n",
              "  </tbody>\n",
              "</table>\n",
              "</div>"
            ],
            "text/plain": [
              "       name  height\n",
              "0  Stefanie     162\n",
              "2  Stefanie     163"
            ]
          },
          "execution_count": 143,
          "metadata": {},
          "output_type": "execute_result"
        }
      ],
      "source": [
        "df.iloc[[0, 2], [0, 2]]"
      ]
    },
    {
      "cell_type": "markdown",
      "metadata": {
        "id": "PamkhXolSoAJ"
      },
      "source": [
        "For slicing rows explicitly:"
      ]
    },
    {
      "cell_type": "code",
      "execution_count": null,
      "metadata": {
        "id": "a17BgVIdSoAK",
        "outputId": "6c2855f7-f3fd-4cbf-e10e-071770a534f3"
      },
      "outputs": [
        {
          "data": {
            "text/html": [
              "<div>\n",
              "<style scoped>\n",
              "    .dataframe tbody tr th:only-of-type {\n",
              "        vertical-align: middle;\n",
              "    }\n",
              "\n",
              "    .dataframe tbody tr th {\n",
              "        vertical-align: top;\n",
              "    }\n",
              "\n",
              "    .dataframe thead th {\n",
              "        text-align: right;\n",
              "    }\n",
              "</style>\n",
              "<table border=\"1\" class=\"dataframe\">\n",
              "  <thead>\n",
              "    <tr style=\"text-align: right;\">\n",
              "      <th></th>\n",
              "      <th>name</th>\n",
              "      <th>id</th>\n",
              "      <th>height</th>\n",
              "      <th>average_height_parents</th>\n",
              "      <th>gender</th>\n",
              "      <th>number</th>\n",
              "      <th>height_m</th>\n",
              "      <th>weight</th>\n",
              "      <th>bmi</th>\n",
              "      <th>date</th>\n",
              "    </tr>\n",
              "  </thead>\n",
              "  <tbody>\n",
              "    <tr>\n",
              "      <th>1</th>\n",
              "      <td>Peter</td>\n",
              "      <td>2</td>\n",
              "      <td>163</td>\n",
              "      <td>163.5</td>\n",
              "      <td>male</td>\n",
              "      <td>42</td>\n",
              "      <td>1.63</td>\n",
              "      <td>79.50</td>\n",
              "      <td>29.92</td>\n",
              "      <td>2022-03-25</td>\n",
              "    </tr>\n",
              "    <tr>\n",
              "      <th>2</th>\n",
              "      <td>Stefanie</td>\n",
              "      <td>3</td>\n",
              "      <td>163</td>\n",
              "      <td>163.2</td>\n",
              "      <td>female</td>\n",
              "      <td>42</td>\n",
              "      <td>1.63</td>\n",
              "      <td>68.41</td>\n",
              "      <td>25.75</td>\n",
              "      <td>2022-03-25</td>\n",
              "    </tr>\n",
              "  </tbody>\n",
              "</table>\n",
              "</div>"
            ],
            "text/plain": [
              "       name id  height  average_height_parents  gender  number  height_m  \\\n",
              "1     Peter  2     163                   163.5    male      42      1.63   \n",
              "2  Stefanie  3     163                   163.2  female      42      1.63   \n",
              "\n",
              "   weight    bmi        date  \n",
              "1   79.50  29.92  2022-03-25  \n",
              "2   68.41  25.75  2022-03-25  "
            ]
          },
          "execution_count": 144,
          "metadata": {},
          "output_type": "execute_result"
        }
      ],
      "source": [
        "df.iloc[1:3, :]"
      ]
    },
    {
      "cell_type": "markdown",
      "metadata": {
        "id": "tePXDhU9SoAK"
      },
      "source": [
        "For slicing columns explicitly:"
      ]
    },
    {
      "cell_type": "code",
      "execution_count": null,
      "metadata": {
        "id": "-OY_6JpESoAK",
        "outputId": "38b1c8d4-d12d-471d-ba71-fd25d7b7cc4d"
      },
      "outputs": [
        {
          "data": {
            "text/html": [
              "<div>\n",
              "<style scoped>\n",
              "    .dataframe tbody tr th:only-of-type {\n",
              "        vertical-align: middle;\n",
              "    }\n",
              "\n",
              "    .dataframe tbody tr th {\n",
              "        vertical-align: top;\n",
              "    }\n",
              "\n",
              "    .dataframe thead th {\n",
              "        text-align: right;\n",
              "    }\n",
              "</style>\n",
              "<table border=\"1\" class=\"dataframe\">\n",
              "  <thead>\n",
              "    <tr style=\"text-align: right;\">\n",
              "      <th></th>\n",
              "      <th>id</th>\n",
              "      <th>height</th>\n",
              "    </tr>\n",
              "  </thead>\n",
              "  <tbody>\n",
              "    <tr>\n",
              "      <th>0</th>\n",
              "      <td>1</td>\n",
              "      <td>162</td>\n",
              "    </tr>\n",
              "    <tr>\n",
              "      <th>1</th>\n",
              "      <td>2</td>\n",
              "      <td>163</td>\n",
              "    </tr>\n",
              "    <tr>\n",
              "      <th>2</th>\n",
              "      <td>3</td>\n",
              "      <td>163</td>\n",
              "    </tr>\n",
              "    <tr>\n",
              "      <th>3</th>\n",
              "      <td>4</td>\n",
              "      <td>164</td>\n",
              "    </tr>\n",
              "    <tr>\n",
              "      <th>4</th>\n",
              "      <td>5</td>\n",
              "      <td>164</td>\n",
              "    </tr>\n",
              "    <tr>\n",
              "      <th>5</th>\n",
              "      <td>6</td>\n",
              "      <td>164</td>\n",
              "    </tr>\n",
              "    <tr>\n",
              "      <th>6</th>\n",
              "      <td>7</td>\n",
              "      <td>164</td>\n",
              "    </tr>\n",
              "    <tr>\n",
              "      <th>7</th>\n",
              "      <td>8</td>\n",
              "      <td>165</td>\n",
              "    </tr>\n",
              "    <tr>\n",
              "      <th>8</th>\n",
              "      <td>9</td>\n",
              "      <td>165</td>\n",
              "    </tr>\n",
              "    <tr>\n",
              "      <th>9</th>\n",
              "      <td>10</td>\n",
              "      <td>165</td>\n",
              "    </tr>\n",
              "    <tr>\n",
              "      <th>10</th>\n",
              "      <td>11</td>\n",
              "      <td>165</td>\n",
              "    </tr>\n",
              "    <tr>\n",
              "      <th>11</th>\n",
              "      <td>12</td>\n",
              "      <td>165</td>\n",
              "    </tr>\n",
              "    <tr>\n",
              "      <th>12</th>\n",
              "      <td>13</td>\n",
              "      <td>165</td>\n",
              "    </tr>\n",
              "    <tr>\n",
              "      <th>13</th>\n",
              "      <td>14</td>\n",
              "      <td>166</td>\n",
              "    </tr>\n",
              "    <tr>\n",
              "      <th>14</th>\n",
              "      <td>15</td>\n",
              "      <td>166</td>\n",
              "    </tr>\n",
              "    <tr>\n",
              "      <th>15</th>\n",
              "      <td>16</td>\n",
              "      <td>166</td>\n",
              "    </tr>\n",
              "    <tr>\n",
              "      <th>16</th>\n",
              "      <td>17</td>\n",
              "      <td>166</td>\n",
              "    </tr>\n",
              "    <tr>\n",
              "      <th>17</th>\n",
              "      <td>18</td>\n",
              "      <td>167</td>\n",
              "    </tr>\n",
              "    <tr>\n",
              "      <th>18</th>\n",
              "      <td>19</td>\n",
              "      <td>167</td>\n",
              "    </tr>\n",
              "    <tr>\n",
              "      <th>19</th>\n",
              "      <td>20</td>\n",
              "      <td>168</td>\n",
              "    </tr>\n",
              "  </tbody>\n",
              "</table>\n",
              "</div>"
            ],
            "text/plain": [
              "    id  height\n",
              "0    1     162\n",
              "1    2     163\n",
              "2    3     163\n",
              "3    4     164\n",
              "4    5     164\n",
              "5    6     164\n",
              "6    7     164\n",
              "7    8     165\n",
              "8    9     165\n",
              "9   10     165\n",
              "10  11     165\n",
              "11  12     165\n",
              "12  13     165\n",
              "13  14     166\n",
              "14  15     166\n",
              "15  16     166\n",
              "16  17     166\n",
              "17  18     167\n",
              "18  19     167\n",
              "19  20     168"
            ]
          },
          "execution_count": 145,
          "metadata": {},
          "output_type": "execute_result"
        }
      ],
      "source": [
        "df.iloc[:, 1:3]"
      ]
    },
    {
      "cell_type": "markdown",
      "metadata": {
        "id": "dekk2UjYSoAL"
      },
      "source": [
        "For getting a value explicitly:"
      ]
    },
    {
      "cell_type": "code",
      "execution_count": null,
      "metadata": {
        "id": "RYiObJdCSoAM",
        "outputId": "fdc80c22-835c-4213-cff0-cbf90455c548"
      },
      "outputs": [
        {
          "data": {
            "text/plain": [
              "'Stefanie'"
            ]
          },
          "execution_count": 146,
          "metadata": {},
          "output_type": "execute_result"
        }
      ],
      "source": [
        "df.iloc[0, 0]"
      ]
    },
    {
      "cell_type": "markdown",
      "metadata": {
        "id": "Ne56OOFGSoAO"
      },
      "source": [
        "## Filter (boolean indexing)\n",
        "\n",
        "Using a single column’s values to select data."
      ]
    },
    {
      "cell_type": "code",
      "execution_count": 119,
      "metadata": {
        "id": "yIbLijIbSoAO",
        "outputId": "09a5bcc6-22a1-4f9d-f2fa-4c807c80f53d"
      },
      "outputs": [],
      "source": [
        "df_greater_165 = df[df[\"height\"] > 165]"
      ]
    },
    {
      "cell_type": "markdown",
      "metadata": {
        "id": "vGgsITTKSoAP"
      },
      "source": [
        "Using the [isin()](https://pandas.pydata.org/docs/reference/api/pandas.Series.isin.html#pandas.Series.isin) method for filtering:"
      ]
    },
    {
      "cell_type": "code",
      "execution_count": 120,
      "metadata": {
        "id": "3GZOEy3VSoAQ",
        "outputId": "b4fa1146-77a8-46e8-d730-87947d5b3645"
      },
      "outputs": [
        {
          "data": {
            "text/html": [
              "<div>\n",
              "<style scoped>\n",
              "    .dataframe tbody tr th:only-of-type {\n",
              "        vertical-align: middle;\n",
              "    }\n",
              "\n",
              "    .dataframe tbody tr th {\n",
              "        vertical-align: top;\n",
              "    }\n",
              "\n",
              "    .dataframe thead th {\n",
              "        text-align: right;\n",
              "    }\n",
              "</style>\n",
              "<table border=\"1\" class=\"dataframe\">\n",
              "  <thead>\n",
              "    <tr style=\"text-align: right;\">\n",
              "      <th></th>\n",
              "      <th>name</th>\n",
              "      <th>id</th>\n",
              "      <th>height</th>\n",
              "      <th>averageheightparents</th>\n",
              "      <th>gender</th>\n",
              "      <th>number</th>\n",
              "      <th>height_m</th>\n",
              "      <th>weight</th>\n",
              "      <th>bmi</th>\n",
              "      <th>date</th>\n",
              "    </tr>\n",
              "  </thead>\n",
              "  <tbody>\n",
              "    <tr>\n",
              "      <th>17</th>\n",
              "      <td>Tom</td>\n",
              "      <td>18</td>\n",
              "      <td>167</td>\n",
              "      <td>166.2</td>\n",
              "      <td>male</td>\n",
              "      <td>2</td>\n",
              "      <td>1.67</td>\n",
              "      <td>81.14</td>\n",
              "      <td>29.09</td>\n",
              "      <td>2022-03-30</td>\n",
              "    </tr>\n",
              "  </tbody>\n",
              "</table>\n",
              "</div>"
            ],
            "text/plain": [
              "   name  id  height  averageheightparents gender  number  height_m  weight  \\\n",
              "17  Tom  18     167                 166.2   male       2      1.67   81.14   \n",
              "\n",
              "      bmi        date  \n",
              "17  29.09  2022-03-30  "
            ]
          },
          "execution_count": 120,
          "metadata": {},
          "output_type": "execute_result"
        }
      ],
      "source": [
        "df[df[\"name\"].isin([\"Tom\", \"Lisa\"])]"
      ]
    },
    {
      "cell_type": "markdown",
      "metadata": {
        "id": "SgdR0q4tSoAQ"
      },
      "source": [
        "## Grouping\n",
        "\n",
        "By “group by” we are referring to a process involving one or more of the following steps:\n",
        "\n",
        "- **Splitting** the data into groups based on some criteria\n",
        "\n",
        "- **Applying** a function to each group independently\n",
        "\n",
        "- **Combining** the results into a data structure"
      ]
    },
    {
      "cell_type": "markdown",
      "metadata": {
        "id": "9prk2XgmSoAR"
      },
      "source": [
        "Grouping and then applying the mean() function to the resulting groups."
      ]
    },
    {
      "cell_type": "code",
      "execution_count": null,
      "metadata": {
        "id": "3s2b3hAISoAR",
        "outputId": "3de61b10-42aa-47b4-b0f7-aa4bd4812345"
      },
      "outputs": [
        {
          "data": {
            "text/html": [
              "<div>\n",
              "<style scoped>\n",
              "    .dataframe tbody tr th:only-of-type {\n",
              "        vertical-align: middle;\n",
              "    }\n",
              "\n",
              "    .dataframe tbody tr th {\n",
              "        vertical-align: top;\n",
              "    }\n",
              "\n",
              "    .dataframe thead th {\n",
              "        text-align: right;\n",
              "    }\n",
              "</style>\n",
              "<table border=\"1\" class=\"dataframe\">\n",
              "  <thead>\n",
              "    <tr style=\"text-align: right;\">\n",
              "      <th>gender</th>\n",
              "      <th>female</th>\n",
              "      <th>male</th>\n",
              "    </tr>\n",
              "  </thead>\n",
              "  <tbody>\n",
              "    <tr>\n",
              "      <th>height</th>\n",
              "      <td>164.363636</td>\n",
              "      <td>165.777778</td>\n",
              "    </tr>\n",
              "    <tr>\n",
              "      <th>average_height_parents</th>\n",
              "      <td>164.863636</td>\n",
              "      <td>165.944444</td>\n",
              "    </tr>\n",
              "    <tr>\n",
              "      <th>number</th>\n",
              "      <td>42.000000</td>\n",
              "      <td>42.000000</td>\n",
              "    </tr>\n",
              "    <tr>\n",
              "      <th>height_m</th>\n",
              "      <td>1.643636</td>\n",
              "      <td>1.657778</td>\n",
              "    </tr>\n",
              "    <tr>\n",
              "      <th>weight</th>\n",
              "      <td>74.890909</td>\n",
              "      <td>72.501111</td>\n",
              "    </tr>\n",
              "    <tr>\n",
              "      <th>bmi</th>\n",
              "      <td>27.729091</td>\n",
              "      <td>26.393333</td>\n",
              "    </tr>\n",
              "  </tbody>\n",
              "</table>\n",
              "</div>"
            ],
            "text/plain": [
              "gender                      female        male\n",
              "height                  164.363636  165.777778\n",
              "average_height_parents  164.863636  165.944444\n",
              "number                   42.000000   42.000000\n",
              "height_m                  1.643636    1.657778\n",
              "weight                   74.890909   72.501111\n",
              "bmi                      27.729091   26.393333"
            ]
          },
          "execution_count": 149,
          "metadata": {},
          "output_type": "execute_result"
        }
      ],
      "source": [
        "df.groupby(\"___\").mean().T"
      ]
    },
    {
      "cell_type": "markdown",
      "metadata": {
        "id": "Uv0TcnFtSoAR"
      },
      "source": [
        "## Segment data into bins"
      ]
    },
    {
      "cell_type": "markdown",
      "metadata": {
        "id": "F8C6twozSoAS"
      },
      "source": [
        "Use the function [cut](https://pandas.pydata.org/docs/reference/api/pandas.cut.html) when you need to segment and sort data values into bins. This function is also useful for going from a continuous variable to a categorical variable. \n",
        "\n",
        "In our example, we create a body mass index category. The standard weight status categories associated with BMI ranges for adults are shown in the following table:\n",
        "\n",
        "BMI\t| Weight Status\n",
        "---| ---\n",
        "Below 18.5 |\tUnderweight\n",
        "18.5 - 24.9 |\tNormal or Healthy Weight\n",
        "25.0 - 29.9 |\tOverweight\n",
        "30.0 and Above |\tObese\n",
        "\n",
        "Source: [U.S. Department of Health & Human Services](https://www.cdc.gov/healthyweight/assessing/bmi/adult_bmi/index.html)\n",
        "\n",
        "In our function, we discretize the variable `bmi` into four bins according to the table above:\n",
        "\n",
        "- The bins [0, 18.5, 25, 30, float('inf')] indicate (0,18.5], (18.5,25], (25,30], (30, float('inf))\n",
        "- `float('inf')` is used for setting  variable with an infinitely large value"
      ]
    },
    {
      "cell_type": "code",
      "execution_count": 121,
      "metadata": {
        "id": "qBpKdy5QSoAS"
      },
      "outputs": [],
      "source": [
        "df['bmi_category'] = pd.cut(df['bmi'], \n",
        "                            bins=[0, 18.5, 25, 30, float('inf')], \n",
        "                            labels=['underweight', 'normal', 'overweight', \"obese\"])"
      ]
    },
    {
      "cell_type": "code",
      "execution_count": 123,
      "metadata": {
        "id": "lrFvf9tPSoAS",
        "outputId": "08927f9a-c208-4dba-ef4f-12426548ec55"
      },
      "outputs": [
        {
          "data": {
            "text/html": [
              "<div>\n",
              "<style scoped>\n",
              "    .dataframe tbody tr th:only-of-type {\n",
              "        vertical-align: middle;\n",
              "    }\n",
              "\n",
              "    .dataframe tbody tr th {\n",
              "        vertical-align: top;\n",
              "    }\n",
              "\n",
              "    .dataframe thead th {\n",
              "        text-align: right;\n",
              "    }\n",
              "</style>\n",
              "<table border=\"1\" class=\"dataframe\">\n",
              "  <thead>\n",
              "    <tr style=\"text-align: right;\">\n",
              "      <th></th>\n",
              "      <th>name</th>\n",
              "      <th>id</th>\n",
              "      <th>height</th>\n",
              "      <th>averageheightparents</th>\n",
              "      <th>gender</th>\n",
              "      <th>number</th>\n",
              "      <th>height_m</th>\n",
              "      <th>weight</th>\n",
              "      <th>bmi</th>\n",
              "      <th>date</th>\n",
              "      <th>bmi_category</th>\n",
              "    </tr>\n",
              "  </thead>\n",
              "  <tbody>\n",
              "    <tr>\n",
              "      <th>0</th>\n",
              "      <td>Stefanie</td>\n",
              "      <td>1</td>\n",
              "      <td>162</td>\n",
              "      <td>161.5</td>\n",
              "      <td>female</td>\n",
              "      <td>2</td>\n",
              "      <td>1.62</td>\n",
              "      <td>90.07</td>\n",
              "      <td>34.32</td>\n",
              "      <td>2022-03-30</td>\n",
              "      <td>obese</td>\n",
              "    </tr>\n",
              "    <tr>\n",
              "      <th>1</th>\n",
              "      <td>Peter</td>\n",
              "      <td>2</td>\n",
              "      <td>163</td>\n",
              "      <td>163.5</td>\n",
              "      <td>male</td>\n",
              "      <td>2</td>\n",
              "      <td>1.63</td>\n",
              "      <td>71.53</td>\n",
              "      <td>26.92</td>\n",
              "      <td>2022-03-30</td>\n",
              "      <td>overweight</td>\n",
              "    </tr>\n",
              "    <tr>\n",
              "      <th>2</th>\n",
              "      <td>Stefanie</td>\n",
              "      <td>3</td>\n",
              "      <td>163</td>\n",
              "      <td>163.2</td>\n",
              "      <td>female</td>\n",
              "      <td>2</td>\n",
              "      <td>1.63</td>\n",
              "      <td>78.31</td>\n",
              "      <td>29.47</td>\n",
              "      <td>2022-03-30</td>\n",
              "      <td>overweight</td>\n",
              "    </tr>\n",
              "    <tr>\n",
              "      <th>3</th>\n",
              "      <td>Manuela</td>\n",
              "      <td>4</td>\n",
              "      <td>164</td>\n",
              "      <td>165.1</td>\n",
              "      <td>female</td>\n",
              "      <td>2</td>\n",
              "      <td>1.64</td>\n",
              "      <td>65.02</td>\n",
              "      <td>24.17</td>\n",
              "      <td>2022-03-30</td>\n",
              "      <td>normal</td>\n",
              "    </tr>\n",
              "    <tr>\n",
              "      <th>4</th>\n",
              "      <td>Simon</td>\n",
              "      <td>5</td>\n",
              "      <td>164</td>\n",
              "      <td>163.2</td>\n",
              "      <td>male</td>\n",
              "      <td>2</td>\n",
              "      <td>1.64</td>\n",
              "      <td>71.56</td>\n",
              "      <td>26.61</td>\n",
              "      <td>2022-03-30</td>\n",
              "      <td>overweight</td>\n",
              "    </tr>\n",
              "    <tr>\n",
              "      <th>5</th>\n",
              "      <td>Sophia</td>\n",
              "      <td>6</td>\n",
              "      <td>164</td>\n",
              "      <td>164.4</td>\n",
              "      <td>female</td>\n",
              "      <td>2</td>\n",
              "      <td>1.64</td>\n",
              "      <td>82.21</td>\n",
              "      <td>30.57</td>\n",
              "      <td>2022-03-30</td>\n",
              "      <td>obese</td>\n",
              "    </tr>\n",
              "    <tr>\n",
              "      <th>6</th>\n",
              "      <td>Ellen</td>\n",
              "      <td>7</td>\n",
              "      <td>164</td>\n",
              "      <td>164.0</td>\n",
              "      <td>female</td>\n",
              "      <td>2</td>\n",
              "      <td>1.64</td>\n",
              "      <td>87.86</td>\n",
              "      <td>32.67</td>\n",
              "      <td>2022-03-30</td>\n",
              "      <td>obese</td>\n",
              "    </tr>\n",
              "    <tr>\n",
              "      <th>7</th>\n",
              "      <td>Emilia</td>\n",
              "      <td>8</td>\n",
              "      <td>165</td>\n",
              "      <td>165.2</td>\n",
              "      <td>female</td>\n",
              "      <td>2</td>\n",
              "      <td>1.65</td>\n",
              "      <td>66.48</td>\n",
              "      <td>24.42</td>\n",
              "      <td>2022-03-30</td>\n",
              "      <td>normal</td>\n",
              "    </tr>\n",
              "    <tr>\n",
              "      <th>8</th>\n",
              "      <td>Lina</td>\n",
              "      <td>9</td>\n",
              "      <td>165</td>\n",
              "      <td>165.2</td>\n",
              "      <td>female</td>\n",
              "      <td>2</td>\n",
              "      <td>1.65</td>\n",
              "      <td>85.03</td>\n",
              "      <td>31.23</td>\n",
              "      <td>2022-03-30</td>\n",
              "      <td>obese</td>\n",
              "    </tr>\n",
              "    <tr>\n",
              "      <th>9</th>\n",
              "      <td>Marie</td>\n",
              "      <td>10</td>\n",
              "      <td>165</td>\n",
              "      <td>165.1</td>\n",
              "      <td>female</td>\n",
              "      <td>2</td>\n",
              "      <td>1.65</td>\n",
              "      <td>73.83</td>\n",
              "      <td>27.12</td>\n",
              "      <td>2022-03-30</td>\n",
              "      <td>overweight</td>\n",
              "    </tr>\n",
              "    <tr>\n",
              "      <th>10</th>\n",
              "      <td>Lena</td>\n",
              "      <td>11</td>\n",
              "      <td>165</td>\n",
              "      <td>166.3</td>\n",
              "      <td>female</td>\n",
              "      <td>2</td>\n",
              "      <td>1.65</td>\n",
              "      <td>74.35</td>\n",
              "      <td>27.31</td>\n",
              "      <td>2022-03-30</td>\n",
              "      <td>overweight</td>\n",
              "    </tr>\n",
              "    <tr>\n",
              "      <th>11</th>\n",
              "      <td>Mila</td>\n",
              "      <td>12</td>\n",
              "      <td>165</td>\n",
              "      <td>167.4</td>\n",
              "      <td>female</td>\n",
              "      <td>2</td>\n",
              "      <td>1.65</td>\n",
              "      <td>79.23</td>\n",
              "      <td>29.10</td>\n",
              "      <td>2022-03-30</td>\n",
              "      <td>overweight</td>\n",
              "    </tr>\n",
              "    <tr>\n",
              "      <th>12</th>\n",
              "      <td>Fin</td>\n",
              "      <td>13</td>\n",
              "      <td>165</td>\n",
              "      <td>165.5</td>\n",
              "      <td>male</td>\n",
              "      <td>2</td>\n",
              "      <td>1.65</td>\n",
              "      <td>86.64</td>\n",
              "      <td>31.82</td>\n",
              "      <td>2022-03-30</td>\n",
              "      <td>obese</td>\n",
              "    </tr>\n",
              "    <tr>\n",
              "      <th>13</th>\n",
              "      <td>Eric</td>\n",
              "      <td>14</td>\n",
              "      <td>166</td>\n",
              "      <td>166.2</td>\n",
              "      <td>male</td>\n",
              "      <td>2</td>\n",
              "      <td>1.66</td>\n",
              "      <td>74.22</td>\n",
              "      <td>26.93</td>\n",
              "      <td>2022-03-30</td>\n",
              "      <td>overweight</td>\n",
              "    </tr>\n",
              "    <tr>\n",
              "      <th>14</th>\n",
              "      <td>Pia</td>\n",
              "      <td>15</td>\n",
              "      <td>166</td>\n",
              "      <td>166.1</td>\n",
              "      <td>female</td>\n",
              "      <td>2</td>\n",
              "      <td>1.66</td>\n",
              "      <td>64.14</td>\n",
              "      <td>23.28</td>\n",
              "      <td>2022-03-30</td>\n",
              "      <td>normal</td>\n",
              "    </tr>\n",
              "    <tr>\n",
              "      <th>15</th>\n",
              "      <td>Marc</td>\n",
              "      <td>16</td>\n",
              "      <td>166</td>\n",
              "      <td>166.5</td>\n",
              "      <td>male</td>\n",
              "      <td>2</td>\n",
              "      <td>1.66</td>\n",
              "      <td>73.18</td>\n",
              "      <td>26.56</td>\n",
              "      <td>2022-03-30</td>\n",
              "      <td>overweight</td>\n",
              "    </tr>\n",
              "    <tr>\n",
              "      <th>16</th>\n",
              "      <td>Ralph</td>\n",
              "      <td>17</td>\n",
              "      <td>166</td>\n",
              "      <td>166.6</td>\n",
              "      <td>male</td>\n",
              "      <td>2</td>\n",
              "      <td>1.66</td>\n",
              "      <td>74.12</td>\n",
              "      <td>26.90</td>\n",
              "      <td>2022-03-30</td>\n",
              "      <td>overweight</td>\n",
              "    </tr>\n",
              "    <tr>\n",
              "      <th>17</th>\n",
              "      <td>Tom</td>\n",
              "      <td>18</td>\n",
              "      <td>167</td>\n",
              "      <td>166.2</td>\n",
              "      <td>male</td>\n",
              "      <td>2</td>\n",
              "      <td>1.67</td>\n",
              "      <td>81.14</td>\n",
              "      <td>29.09</td>\n",
              "      <td>2022-03-30</td>\n",
              "      <td>overweight</td>\n",
              "    </tr>\n",
              "    <tr>\n",
              "      <th>18</th>\n",
              "      <td>Steven</td>\n",
              "      <td>19</td>\n",
              "      <td>167</td>\n",
              "      <td>167.3</td>\n",
              "      <td>male</td>\n",
              "      <td>2</td>\n",
              "      <td>1.67</td>\n",
              "      <td>78.06</td>\n",
              "      <td>27.99</td>\n",
              "      <td>2022-03-30</td>\n",
              "      <td>overweight</td>\n",
              "    </tr>\n",
              "    <tr>\n",
              "      <th>19</th>\n",
              "      <td>Emanuel</td>\n",
              "      <td>20</td>\n",
              "      <td>168</td>\n",
              "      <td>168.5</td>\n",
              "      <td>male</td>\n",
              "      <td>2</td>\n",
              "      <td>1.68</td>\n",
              "      <td>74.48</td>\n",
              "      <td>26.39</td>\n",
              "      <td>2022-03-30</td>\n",
              "      <td>overweight</td>\n",
              "    </tr>\n",
              "  </tbody>\n",
              "</table>\n",
              "</div>"
            ],
            "text/plain": [
              "        name  id  height  averageheightparents  gender  number  height_m  \\\n",
              "0   Stefanie   1     162                 161.5  female       2      1.62   \n",
              "1      Peter   2     163                 163.5    male       2      1.63   \n",
              "2   Stefanie   3     163                 163.2  female       2      1.63   \n",
              "3    Manuela   4     164                 165.1  female       2      1.64   \n",
              "4      Simon   5     164                 163.2    male       2      1.64   \n",
              "5     Sophia   6     164                 164.4  female       2      1.64   \n",
              "6      Ellen   7     164                 164.0  female       2      1.64   \n",
              "7     Emilia   8     165                 165.2  female       2      1.65   \n",
              "8       Lina   9     165                 165.2  female       2      1.65   \n",
              "9      Marie  10     165                 165.1  female       2      1.65   \n",
              "10      Lena  11     165                 166.3  female       2      1.65   \n",
              "11      Mila  12     165                 167.4  female       2      1.65   \n",
              "12       Fin  13     165                 165.5    male       2      1.65   \n",
              "13      Eric  14     166                 166.2    male       2      1.66   \n",
              "14       Pia  15     166                 166.1  female       2      1.66   \n",
              "15      Marc  16     166                 166.5    male       2      1.66   \n",
              "16     Ralph  17     166                 166.6    male       2      1.66   \n",
              "17       Tom  18     167                 166.2    male       2      1.67   \n",
              "18    Steven  19     167                 167.3    male       2      1.67   \n",
              "19   Emanuel  20     168                 168.5    male       2      1.68   \n",
              "\n",
              "    weight    bmi        date bmi_category  \n",
              "0    90.07  34.32  2022-03-30        obese  \n",
              "1    71.53  26.92  2022-03-30   overweight  \n",
              "2    78.31  29.47  2022-03-30   overweight  \n",
              "3    65.02  24.17  2022-03-30       normal  \n",
              "4    71.56  26.61  2022-03-30   overweight  \n",
              "5    82.21  30.57  2022-03-30        obese  \n",
              "6    87.86  32.67  2022-03-30        obese  \n",
              "7    66.48  24.42  2022-03-30       normal  \n",
              "8    85.03  31.23  2022-03-30        obese  \n",
              "9    73.83  27.12  2022-03-30   overweight  \n",
              "10   74.35  27.31  2022-03-30   overweight  \n",
              "11   79.23  29.10  2022-03-30   overweight  \n",
              "12   86.64  31.82  2022-03-30        obese  \n",
              "13   74.22  26.93  2022-03-30   overweight  \n",
              "14   64.14  23.28  2022-03-30       normal  \n",
              "15   73.18  26.56  2022-03-30   overweight  \n",
              "16   74.12  26.90  2022-03-30   overweight  \n",
              "17   81.14  29.09  2022-03-30   overweight  \n",
              "18   78.06  27.99  2022-03-30   overweight  \n",
              "19   74.48  26.39  2022-03-30   overweight  "
            ]
          },
          "execution_count": 123,
          "metadata": {},
          "output_type": "execute_result"
        }
      ],
      "source": [
        "df"
      ]
    },
    {
      "cell_type": "code",
      "execution_count": null,
      "metadata": {},
      "outputs": [],
      "source": []
    }
  ],
  "metadata": {
    "colab": {
      "name": "pandas-intro-short-c.ipynb",
      "provenance": []
    },
    "interpreter": {
      "hash": "40d3a090f54c6569ab1632332b64b2c03c39dcf918b08424e98f38b5ae0af88f"
    },
    "kernelspec": {
      "display_name": "Python 3.7.13 ('base')",
      "language": "python",
      "name": "python3"
    },
    "language_info": {
      "codemirror_mode": {
        "name": "ipython",
        "version": 3
      },
      "file_extension": ".py",
      "mimetype": "text/x-python",
      "name": "python",
      "nbconvert_exporter": "python",
      "pygments_lexer": "ipython3",
      "version": "3.7.13"
    },
    "orig_nbformat": 4
  },
  "nbformat": 4,
  "nbformat_minor": 0
}
