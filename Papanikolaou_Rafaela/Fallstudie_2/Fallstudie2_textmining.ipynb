{
 "cells": [
  {
   "cell_type": "code",
   "execution_count": 2,
   "metadata": {},
   "outputs": [
    {
     "data": {
      "text/html": [
       "<div>\n",
       "<style scoped>\n",
       "    .dataframe tbody tr th:only-of-type {\n",
       "        vertical-align: middle;\n",
       "    }\n",
       "\n",
       "    .dataframe tbody tr th {\n",
       "        vertical-align: top;\n",
       "    }\n",
       "\n",
       "    .dataframe thead th {\n",
       "        text-align: right;\n",
       "    }\n",
       "</style>\n",
       "<table border=\"1\" class=\"dataframe\">\n",
       "  <thead>\n",
       "    <tr style=\"text-align: right;\">\n",
       "      <th></th>\n",
       "      <th>Unnamed: 0</th>\n",
       "      <th>text</th>\n",
       "      <th>id</th>\n",
       "      <th>author_id</th>\n",
       "      <th>created_at</th>\n",
       "    </tr>\n",
       "  </thead>\n",
       "  <tbody>\n",
       "    <tr>\n",
       "      <th>0</th>\n",
       "      <td>0</td>\n",
       "      <td>Jumping on someone podcast soon. Maybe my own 🤔</td>\n",
       "      <td>1533632259755896832</td>\n",
       "      <td>23083404</td>\n",
       "      <td>2022-06-06T02:09:58.000Z</td>\n",
       "    </tr>\n",
       "    <tr>\n",
       "      <th>1</th>\n",
       "      <td>1</td>\n",
       "      <td>It's so funny to me how many basketball expert...</td>\n",
       "      <td>1533632033972310016</td>\n",
       "      <td>23083404</td>\n",
       "      <td>2022-06-06T02:09:05.000Z</td>\n",
       "    </tr>\n",
       "    <tr>\n",
       "      <th>2</th>\n",
       "      <td>2</td>\n",
       "      <td>We need to come together and help do whatever ...</td>\n",
       "      <td>1533599792701378560</td>\n",
       "      <td>23083404</td>\n",
       "      <td>2022-06-06T00:00:58.000Z</td>\n",
       "    </tr>\n",
       "    <tr>\n",
       "      <th>3</th>\n",
       "      <td>3</td>\n",
       "      <td>Our condolences goes out to the family who los...</td>\n",
       "      <td>1532754469728837633</td>\n",
       "      <td>23083404</td>\n",
       "      <td>2022-06-03T16:01:57.000Z</td>\n",
       "    </tr>\n",
       "    <tr>\n",
       "      <th>4</th>\n",
       "      <td>4</td>\n",
       "      <td>YES WE DID!!! https://t.co/OiWm2GEt18</td>\n",
       "      <td>1532225483596738560</td>\n",
       "      <td>23083404</td>\n",
       "      <td>2022-06-02T04:59:57.000Z</td>\n",
       "    </tr>\n",
       "    <tr>\n",
       "      <th>5</th>\n",
       "      <td>5</td>\n",
       "      <td>🤔. “In the face of impossible odds, people who...</td>\n",
       "      <td>1531837452591042561</td>\n",
       "      <td>23083404</td>\n",
       "      <td>2022-06-01T03:18:03.000Z</td>\n",
       "    </tr>\n",
       "    <tr>\n",
       "      <th>6</th>\n",
       "      <td>6</td>\n",
       "      <td>Congratulations brother!!! 👏🏾👏🏾👏🏾👏🏾 🙏🏾✊🏾🤎👑 htt...</td>\n",
       "      <td>1531784889279795201</td>\n",
       "      <td>23083404</td>\n",
       "      <td>2022-05-31T23:49:11.000Z</td>\n",
       "    </tr>\n",
       "    <tr>\n",
       "      <th>7</th>\n",
       "      <td>7</td>\n",
       "      <td>Ayyyyyeeee!!!! 😤😤😤 https://t.co/gxj6zf0dHh</td>\n",
       "      <td>1531260582657138688</td>\n",
       "      <td>23083404</td>\n",
       "      <td>2022-05-30T13:05:47.000Z</td>\n",
       "    </tr>\n",
       "  </tbody>\n",
       "</table>\n",
       "</div>"
      ],
      "text/plain": [
       "   Unnamed: 0                                               text  \\\n",
       "0           0    Jumping on someone podcast soon. Maybe my own 🤔   \n",
       "1           1  It's so funny to me how many basketball expert...   \n",
       "2           2  We need to come together and help do whatever ...   \n",
       "3           3  Our condolences goes out to the family who los...   \n",
       "4           4              YES WE DID!!! https://t.co/OiWm2GEt18   \n",
       "5           5  🤔. “In the face of impossible odds, people who...   \n",
       "6           6  Congratulations brother!!! 👏🏾👏🏾👏🏾👏🏾 🙏🏾✊🏾🤎👑 htt...   \n",
       "7           7         Ayyyyyeeee!!!! 😤😤😤 https://t.co/gxj6zf0dHh   \n",
       "\n",
       "                    id  author_id                created_at  \n",
       "0  1533632259755896832   23083404  2022-06-06T02:09:58.000Z  \n",
       "1  1533632033972310016   23083404  2022-06-06T02:09:05.000Z  \n",
       "2  1533599792701378560   23083404  2022-06-06T00:00:58.000Z  \n",
       "3  1532754469728837633   23083404  2022-06-03T16:01:57.000Z  \n",
       "4  1532225483596738560   23083404  2022-06-02T04:59:57.000Z  \n",
       "5  1531837452591042561   23083404  2022-06-01T03:18:03.000Z  \n",
       "6  1531784889279795201   23083404  2022-05-31T23:49:11.000Z  \n",
       "7  1531260582657138688   23083404  2022-05-30T13:05:47.000Z  "
      ]
     },
     "execution_count": 2,
     "metadata": {},
     "output_type": "execute_result"
    }
   ],
   "source": [
    "import pandas as pd\n",
    "\n",
    "\n",
    "# Importieren der Daten: \n",
    "df = pd.read_csv(\"tweets_Fallstudie.csv\")\n",
    "\n",
    "df\n",
    "\n"
   ]
  },
  {
   "cell_type": "code",
   "execution_count": 3,
   "metadata": {},
   "outputs": [
    {
     "name": "stdout",
     "output_type": "stream",
     "text": [
      "<class 'pandas.core.frame.DataFrame'>\n",
      "RangeIndex: 8 entries, 0 to 7\n",
      "Data columns (total 5 columns):\n",
      " #   Column      Non-Null Count  Dtype \n",
      "---  ------      --------------  ----- \n",
      " 0   Unnamed: 0  8 non-null      int64 \n",
      " 1   text        8 non-null      object\n",
      " 2   id          8 non-null      int64 \n",
      " 3   author_id   8 non-null      int64 \n",
      " 4   created_at  8 non-null      object\n",
      "dtypes: int64(3), object(2)\n",
      "memory usage: 448.0+ bytes\n"
     ]
    }
   ],
   "source": [
    "# Wir schauen uns zuerst die Informationen des Dataframes an \n",
    "df.info()"
   ]
  },
  {
   "cell_type": "code",
   "execution_count": 4,
   "metadata": {},
   "outputs": [],
   "source": [
    "# Wir transformieren alles in der Spalte text in Kleinbuchstaben, da es so einfacher ist damit zu arbeiten. \n",
    "df['text'] = df['text'].astype(str).str.lower()\n"
   ]
  },
  {
   "cell_type": "code",
   "execution_count": 5,
   "metadata": {},
   "outputs": [
    {
     "data": {
      "text/html": [
       "<div>\n",
       "<style scoped>\n",
       "    .dataframe tbody tr th:only-of-type {\n",
       "        vertical-align: middle;\n",
       "    }\n",
       "\n",
       "    .dataframe tbody tr th {\n",
       "        vertical-align: top;\n",
       "    }\n",
       "\n",
       "    .dataframe thead th {\n",
       "        text-align: right;\n",
       "    }\n",
       "</style>\n",
       "<table border=\"1\" class=\"dataframe\">\n",
       "  <thead>\n",
       "    <tr style=\"text-align: right;\">\n",
       "      <th></th>\n",
       "      <th>Unnamed: 0</th>\n",
       "      <th>text</th>\n",
       "      <th>id</th>\n",
       "      <th>author_id</th>\n",
       "      <th>created_at</th>\n",
       "      <th>text_token</th>\n",
       "    </tr>\n",
       "  </thead>\n",
       "  <tbody>\n",
       "    <tr>\n",
       "      <th>0</th>\n",
       "      <td>0</td>\n",
       "      <td>jumping on someone podcast soon. maybe my own 🤔</td>\n",
       "      <td>1533632259755896832</td>\n",
       "      <td>23083404</td>\n",
       "      <td>2022-06-06T02:09:58.000Z</td>\n",
       "      <td>[jumping, on, someone, podcast, soon, maybe, m...</td>\n",
       "    </tr>\n",
       "    <tr>\n",
       "      <th>1</th>\n",
       "      <td>1</td>\n",
       "      <td>it's so funny to me how many basketball expert...</td>\n",
       "      <td>1533632033972310016</td>\n",
       "      <td>23083404</td>\n",
       "      <td>2022-06-06T02:09:05.000Z</td>\n",
       "      <td>[it, s, so, funny, to, me, how, many, basketba...</td>\n",
       "    </tr>\n",
       "    <tr>\n",
       "      <th>2</th>\n",
       "      <td>2</td>\n",
       "      <td>we need to come together and help do whatever ...</td>\n",
       "      <td>1533599792701378560</td>\n",
       "      <td>23083404</td>\n",
       "      <td>2022-06-06T00:00:58.000Z</td>\n",
       "      <td>[we, need, to, come, together, and, help, do, ...</td>\n",
       "    </tr>\n",
       "    <tr>\n",
       "      <th>3</th>\n",
       "      <td>3</td>\n",
       "      <td>our condolences goes out to the family who los...</td>\n",
       "      <td>1532754469728837633</td>\n",
       "      <td>23083404</td>\n",
       "      <td>2022-06-03T16:01:57.000Z</td>\n",
       "      <td>[our, condolences, goes, out, to, the, family,...</td>\n",
       "    </tr>\n",
       "    <tr>\n",
       "      <th>4</th>\n",
       "      <td>4</td>\n",
       "      <td>yes we did!!! https://t.co/oiwm2get18</td>\n",
       "      <td>1532225483596738560</td>\n",
       "      <td>23083404</td>\n",
       "      <td>2022-06-02T04:59:57.000Z</td>\n",
       "      <td>[yes, we, did, https, t, co, oiwm2get18]</td>\n",
       "    </tr>\n",
       "    <tr>\n",
       "      <th>5</th>\n",
       "      <td>5</td>\n",
       "      <td>🤔. “in the face of impossible odds, people who...</td>\n",
       "      <td>1531837452591042561</td>\n",
       "      <td>23083404</td>\n",
       "      <td>2022-06-01T03:18:03.000Z</td>\n",
       "      <td>[in, the, face, of, impossible, odds, people, ...</td>\n",
       "    </tr>\n",
       "    <tr>\n",
       "      <th>6</th>\n",
       "      <td>6</td>\n",
       "      <td>congratulations brother!!! 👏🏾👏🏾👏🏾👏🏾 🙏🏾✊🏾🤎👑 htt...</td>\n",
       "      <td>1531784889279795201</td>\n",
       "      <td>23083404</td>\n",
       "      <td>2022-05-31T23:49:11.000Z</td>\n",
       "      <td>[congratulations, brother, https, t, co, 1ac2o...</td>\n",
       "    </tr>\n",
       "    <tr>\n",
       "      <th>7</th>\n",
       "      <td>7</td>\n",
       "      <td>ayyyyyeeee!!!! 😤😤😤 https://t.co/gxj6zf0dhh</td>\n",
       "      <td>1531260582657138688</td>\n",
       "      <td>23083404</td>\n",
       "      <td>2022-05-30T13:05:47.000Z</td>\n",
       "      <td>[ayyyyyeeee, https, t, co, gxj6zf0dhh]</td>\n",
       "    </tr>\n",
       "  </tbody>\n",
       "</table>\n",
       "</div>"
      ],
      "text/plain": [
       "   Unnamed: 0                                               text  \\\n",
       "0           0    jumping on someone podcast soon. maybe my own 🤔   \n",
       "1           1  it's so funny to me how many basketball expert...   \n",
       "2           2  we need to come together and help do whatever ...   \n",
       "3           3  our condolences goes out to the family who los...   \n",
       "4           4              yes we did!!! https://t.co/oiwm2get18   \n",
       "5           5  🤔. “in the face of impossible odds, people who...   \n",
       "6           6  congratulations brother!!! 👏🏾👏🏾👏🏾👏🏾 🙏🏾✊🏾🤎👑 htt...   \n",
       "7           7         ayyyyyeeee!!!! 😤😤😤 https://t.co/gxj6zf0dhh   \n",
       "\n",
       "                    id  author_id                created_at  \\\n",
       "0  1533632259755896832   23083404  2022-06-06T02:09:58.000Z   \n",
       "1  1533632033972310016   23083404  2022-06-06T02:09:05.000Z   \n",
       "2  1533599792701378560   23083404  2022-06-06T00:00:58.000Z   \n",
       "3  1532754469728837633   23083404  2022-06-03T16:01:57.000Z   \n",
       "4  1532225483596738560   23083404  2022-06-02T04:59:57.000Z   \n",
       "5  1531837452591042561   23083404  2022-06-01T03:18:03.000Z   \n",
       "6  1531784889279795201   23083404  2022-05-31T23:49:11.000Z   \n",
       "7  1531260582657138688   23083404  2022-05-30T13:05:47.000Z   \n",
       "\n",
       "                                          text_token  \n",
       "0  [jumping, on, someone, podcast, soon, maybe, m...  \n",
       "1  [it, s, so, funny, to, me, how, many, basketba...  \n",
       "2  [we, need, to, come, together, and, help, do, ...  \n",
       "3  [our, condolences, goes, out, to, the, family,...  \n",
       "4           [yes, we, did, https, t, co, oiwm2get18]  \n",
       "5  [in, the, face, of, impossible, odds, people, ...  \n",
       "6  [congratulations, brother, https, t, co, 1ac2o...  \n",
       "7             [ayyyyyeeee, https, t, co, gxj6zf0dhh]  "
      ]
     },
     "execution_count": 5,
     "metadata": {},
     "output_type": "execute_result"
    }
   ],
   "source": [
    "# Wir zerlegen die Zeichenkette (=Text) mit Hilfe eines regulären Ausdrucks un Teilzeichenkette (=text_toxen)\n",
    "\n",
    "\n",
    "from nltk.tokenize import RegexpTokenizer\n",
    "\n",
    "regexp = RegexpTokenizer('\\w+') \n",
    "df['text_token']=df['text'].apply(regexp.tokenize)\n",
    "\n",
    "df\n",
    "\n"
   ]
  },
  {
   "cell_type": "code",
   "execution_count": 6,
   "metadata": {},
   "outputs": [
    {
     "name": "stderr",
     "output_type": "stream",
     "text": [
      "[nltk_data] Downloading package stopwords to\n",
      "[nltk_data]     /Users/rafaela/nltk_data...\n",
      "[nltk_data]   Package stopwords is already up-to-date!\n"
     ]
    },
    {
     "data": {
      "text/plain": [
       "True"
      ]
     },
     "execution_count": 6,
     "metadata": {},
     "output_type": "execute_result"
    }
   ],
   "source": [
    "# wir importieren das natural language toolkit der Standford University, um Textmining zu betreiben und die Erkenntnisse zu visualisieren. \n",
    "import nltk\n",
    "nltk.download('stopwords')"
   ]
  },
  {
   "cell_type": "code",
   "execution_count": 7,
   "metadata": {},
   "outputs": [],
   "source": [
    "# wir importieren das Paket \"stopwords\", welches wichtig ist, um Wörter entfernen zu können. Das Paket beinhaltet typische Wörter wie “the”, “of”, “to”.\n",
    "import nltk\n",
    "from nltk.corpus import stopwords\n",
    "stopwords = nltk.corpus.stopwords.words(\"english\")\n",
    "\n",
    "# Wir erstellen eine Liste mit den Wörtern die wir entfernen wollen: \n",
    "my_stopwords = ['https',\"t\",\"co\",\"1ac2oyfv6m\",\"2chzznfrjx\",\"oiwm2get18\",\"bpq5qsonfo\",\"2gwv3ff81p\", \"gxj6zf0dhh\"]\n",
    "\n",
    "\n",
    "stopwords.extend(my_stopwords)"
   ]
  },
  {
   "cell_type": "code",
   "execution_count": 8,
   "metadata": {},
   "outputs": [
    {
     "data": {
      "text/html": [
       "<div>\n",
       "<style scoped>\n",
       "    .dataframe tbody tr th:only-of-type {\n",
       "        vertical-align: middle;\n",
       "    }\n",
       "\n",
       "    .dataframe tbody tr th {\n",
       "        vertical-align: top;\n",
       "    }\n",
       "\n",
       "    .dataframe thead th {\n",
       "        text-align: right;\n",
       "    }\n",
       "</style>\n",
       "<table border=\"1\" class=\"dataframe\">\n",
       "  <thead>\n",
       "    <tr style=\"text-align: right;\">\n",
       "      <th></th>\n",
       "      <th>Unnamed: 0</th>\n",
       "      <th>text</th>\n",
       "      <th>id</th>\n",
       "      <th>author_id</th>\n",
       "      <th>created_at</th>\n",
       "      <th>text_token</th>\n",
       "      <th>text_token_stopwords</th>\n",
       "    </tr>\n",
       "  </thead>\n",
       "  <tbody>\n",
       "    <tr>\n",
       "      <th>0</th>\n",
       "      <td>0</td>\n",
       "      <td>jumping on someone podcast soon. maybe my own 🤔</td>\n",
       "      <td>1533632259755896832</td>\n",
       "      <td>23083404</td>\n",
       "      <td>2022-06-06T02:09:58.000Z</td>\n",
       "      <td>[jumping, on, someone, podcast, soon, maybe, m...</td>\n",
       "      <td>[jumping, someone, podcast, soon, maybe]</td>\n",
       "    </tr>\n",
       "    <tr>\n",
       "      <th>1</th>\n",
       "      <td>1</td>\n",
       "      <td>it's so funny to me how many basketball expert...</td>\n",
       "      <td>1533632033972310016</td>\n",
       "      <td>23083404</td>\n",
       "      <td>2022-06-06T02:09:05.000Z</td>\n",
       "      <td>[it, s, so, funny, to, me, how, many, basketba...</td>\n",
       "      <td>[funny, many, basketball, experts, app, everyb...</td>\n",
       "    </tr>\n",
       "    <tr>\n",
       "      <th>2</th>\n",
       "      <td>2</td>\n",
       "      <td>we need to come together and help do whatever ...</td>\n",
       "      <td>1533599792701378560</td>\n",
       "      <td>23083404</td>\n",
       "      <td>2022-06-06T00:00:58.000Z</td>\n",
       "      <td>[we, need, to, come, together, and, help, do, ...</td>\n",
       "      <td>[need, come, together, help, whatever, possibl...</td>\n",
       "    </tr>\n",
       "    <tr>\n",
       "      <th>3</th>\n",
       "      <td>3</td>\n",
       "      <td>our condolences goes out to the family who los...</td>\n",
       "      <td>1532754469728837633</td>\n",
       "      <td>23083404</td>\n",
       "      <td>2022-06-03T16:01:57.000Z</td>\n",
       "      <td>[our, condolences, goes, out, to, the, family,...</td>\n",
       "      <td>[condolences, goes, family, lost, loved, one, ...</td>\n",
       "    </tr>\n",
       "    <tr>\n",
       "      <th>4</th>\n",
       "      <td>4</td>\n",
       "      <td>yes we did!!! https://t.co/oiwm2get18</td>\n",
       "      <td>1532225483596738560</td>\n",
       "      <td>23083404</td>\n",
       "      <td>2022-06-02T04:59:57.000Z</td>\n",
       "      <td>[yes, we, did, https, t, co, oiwm2get18]</td>\n",
       "      <td>[yes]</td>\n",
       "    </tr>\n",
       "    <tr>\n",
       "      <th>5</th>\n",
       "      <td>5</td>\n",
       "      <td>🤔. “in the face of impossible odds, people who...</td>\n",
       "      <td>1531837452591042561</td>\n",
       "      <td>23083404</td>\n",
       "      <td>2022-06-01T03:18:03.000Z</td>\n",
       "      <td>[in, the, face, of, impossible, odds, people, ...</td>\n",
       "      <td>[face, impossible, odds, people, love, country...</td>\n",
       "    </tr>\n",
       "    <tr>\n",
       "      <th>6</th>\n",
       "      <td>6</td>\n",
       "      <td>congratulations brother!!! 👏🏾👏🏾👏🏾👏🏾 🙏🏾✊🏾🤎👑 htt...</td>\n",
       "      <td>1531784889279795201</td>\n",
       "      <td>23083404</td>\n",
       "      <td>2022-05-31T23:49:11.000Z</td>\n",
       "      <td>[congratulations, brother, https, t, co, 1ac2o...</td>\n",
       "      <td>[congratulations, brother]</td>\n",
       "    </tr>\n",
       "    <tr>\n",
       "      <th>7</th>\n",
       "      <td>7</td>\n",
       "      <td>ayyyyyeeee!!!! 😤😤😤 https://t.co/gxj6zf0dhh</td>\n",
       "      <td>1531260582657138688</td>\n",
       "      <td>23083404</td>\n",
       "      <td>2022-05-30T13:05:47.000Z</td>\n",
       "      <td>[ayyyyyeeee, https, t, co, gxj6zf0dhh]</td>\n",
       "      <td>[ayyyyyeeee]</td>\n",
       "    </tr>\n",
       "  </tbody>\n",
       "</table>\n",
       "</div>"
      ],
      "text/plain": [
       "   Unnamed: 0                                               text  \\\n",
       "0           0    jumping on someone podcast soon. maybe my own 🤔   \n",
       "1           1  it's so funny to me how many basketball expert...   \n",
       "2           2  we need to come together and help do whatever ...   \n",
       "3           3  our condolences goes out to the family who los...   \n",
       "4           4              yes we did!!! https://t.co/oiwm2get18   \n",
       "5           5  🤔. “in the face of impossible odds, people who...   \n",
       "6           6  congratulations brother!!! 👏🏾👏🏾👏🏾👏🏾 🙏🏾✊🏾🤎👑 htt...   \n",
       "7           7         ayyyyyeeee!!!! 😤😤😤 https://t.co/gxj6zf0dhh   \n",
       "\n",
       "                    id  author_id                created_at  \\\n",
       "0  1533632259755896832   23083404  2022-06-06T02:09:58.000Z   \n",
       "1  1533632033972310016   23083404  2022-06-06T02:09:05.000Z   \n",
       "2  1533599792701378560   23083404  2022-06-06T00:00:58.000Z   \n",
       "3  1532754469728837633   23083404  2022-06-03T16:01:57.000Z   \n",
       "4  1532225483596738560   23083404  2022-06-02T04:59:57.000Z   \n",
       "5  1531837452591042561   23083404  2022-06-01T03:18:03.000Z   \n",
       "6  1531784889279795201   23083404  2022-05-31T23:49:11.000Z   \n",
       "7  1531260582657138688   23083404  2022-05-30T13:05:47.000Z   \n",
       "\n",
       "                                          text_token  \\\n",
       "0  [jumping, on, someone, podcast, soon, maybe, m...   \n",
       "1  [it, s, so, funny, to, me, how, many, basketba...   \n",
       "2  [we, need, to, come, together, and, help, do, ...   \n",
       "3  [our, condolences, goes, out, to, the, family,...   \n",
       "4           [yes, we, did, https, t, co, oiwm2get18]   \n",
       "5  [in, the, face, of, impossible, odds, people, ...   \n",
       "6  [congratulations, brother, https, t, co, 1ac2o...   \n",
       "7             [ayyyyyeeee, https, t, co, gxj6zf0dhh]   \n",
       "\n",
       "                                text_token_stopwords  \n",
       "0           [jumping, someone, podcast, soon, maybe]  \n",
       "1  [funny, many, basketball, experts, app, everyb...  \n",
       "2  [need, come, together, help, whatever, possibl...  \n",
       "3  [condolences, goes, family, lost, loved, one, ...  \n",
       "4                                              [yes]  \n",
       "5  [face, impossible, odds, people, love, country...  \n",
       "6                         [congratulations, brother]  \n",
       "7                                       [ayyyyyeeee]  "
      ]
     },
     "execution_count": 8,
     "metadata": {},
     "output_type": "execute_result"
    }
   ],
   "source": [
    "# Entfernt die Stopwords \n",
    "df['text_token_stopwords'] = df['text_token'].apply(lambda x: [item for item in x if item not in stopwords])\n",
    "\n",
    "df"
   ]
  },
  {
   "cell_type": "code",
   "execution_count": 9,
   "metadata": {},
   "outputs": [
    {
     "data": {
      "text/plain": [
       "'jumping someone podcast soon maybefunny many basketball experts app everybody dr james naismith fascinatingneed come together help whatever possibly bring bg home quickly safely voice athletes stronger together uninterrupted wearebgcondolences goes family lost loved one heavens watch tragedy pray communityyesface impossible odds people love country change barack obamacongratulations brotherayyyyyeeee'"
      ]
     },
     "execution_count": 9,
     "metadata": {},
     "output_type": "execute_result"
    }
   ],
   "source": [
    "# Alle Wörter werden zu einem String \n",
    "\n",
    "df['text_string'] = df['text_token_stopwords'].apply(lambda x: ' '.join([item for item in x if len(item)>1]))\n",
    "\n",
    "all_words = ''.join([word for word in df[\"text_string\"]])\n",
    "\n",
    "all_words"
   ]
  },
  {
   "cell_type": "code",
   "execution_count": 10,
   "metadata": {},
   "outputs": [],
   "source": [
    "# wir machen aus dem String eine Liste \n",
    "tokenized_words = nltk.tokenize.word_tokenize(all_words)"
   ]
  },
  {
   "cell_type": "code",
   "execution_count": 11,
   "metadata": {},
   "outputs": [
    {
     "data": {
      "text/plain": [
       "FreqDist({'together': 2, 'jumping': 1, 'someone': 1, 'podcast': 1, 'soon': 1, 'maybefunny': 1, 'many': 1, 'basketball': 1, 'experts': 1, 'app': 1, ...})"
      ]
     },
     "execution_count": 11,
     "metadata": {},
     "output_type": "execute_result"
    }
   ],
   "source": [
    "# mit FreqDist erstellen wir eine Häufikeitsverteilung; Wir zählen wie oft die Wörter vorkommen \n",
    "from nltk.probability import FreqDist\n",
    "\n",
    "fdist = FreqDist(tokenized_words)\n",
    "fdist"
   ]
  },
  {
   "cell_type": "code",
   "execution_count": 12,
   "metadata": {},
   "outputs": [
    {
     "data": {
      "text/html": [
       "<div>\n",
       "<style scoped>\n",
       "    .dataframe tbody tr th:only-of-type {\n",
       "        vertical-align: middle;\n",
       "    }\n",
       "\n",
       "    .dataframe tbody tr th {\n",
       "        vertical-align: top;\n",
       "    }\n",
       "\n",
       "    .dataframe thead th {\n",
       "        text-align: right;\n",
       "    }\n",
       "</style>\n",
       "<table border=\"1\" class=\"dataframe\">\n",
       "  <thead>\n",
       "    <tr style=\"text-align: right;\">\n",
       "      <th></th>\n",
       "      <th>Unnamed: 0</th>\n",
       "      <th>text</th>\n",
       "      <th>id</th>\n",
       "      <th>author_id</th>\n",
       "      <th>created_at</th>\n",
       "      <th>text_token</th>\n",
       "      <th>text_token_stopwords</th>\n",
       "      <th>text_string</th>\n",
       "      <th>text_string_fdist</th>\n",
       "    </tr>\n",
       "  </thead>\n",
       "  <tbody>\n",
       "    <tr>\n",
       "      <th>0</th>\n",
       "      <td>0</td>\n",
       "      <td>jumping on someone podcast soon. maybe my own 🤔</td>\n",
       "      <td>1533632259755896832</td>\n",
       "      <td>23083404</td>\n",
       "      <td>2022-06-06T02:09:58.000Z</td>\n",
       "      <td>[jumping, on, someone, podcast, soon, maybe, m...</td>\n",
       "      <td>[jumping, someone, podcast, soon, maybe]</td>\n",
       "      <td>jumping someone podcast soon maybe</td>\n",
       "      <td>jumping someone podcast soon</td>\n",
       "    </tr>\n",
       "    <tr>\n",
       "      <th>1</th>\n",
       "      <td>1</td>\n",
       "      <td>it's so funny to me how many basketball expert...</td>\n",
       "      <td>1533632033972310016</td>\n",
       "      <td>23083404</td>\n",
       "      <td>2022-06-06T02:09:05.000Z</td>\n",
       "      <td>[it, s, so, funny, to, me, how, many, basketba...</td>\n",
       "      <td>[funny, many, basketball, experts, app, everyb...</td>\n",
       "      <td>funny many basketball experts app everybody dr...</td>\n",
       "      <td>many basketball experts app everybody dr james...</td>\n",
       "    </tr>\n",
       "    <tr>\n",
       "      <th>2</th>\n",
       "      <td>2</td>\n",
       "      <td>we need to come together and help do whatever ...</td>\n",
       "      <td>1533599792701378560</td>\n",
       "      <td>23083404</td>\n",
       "      <td>2022-06-06T00:00:58.000Z</td>\n",
       "      <td>[we, need, to, come, together, and, help, do, ...</td>\n",
       "      <td>[need, come, together, help, whatever, possibl...</td>\n",
       "      <td>need come together help whatever possibly brin...</td>\n",
       "      <td>come together help whatever possibly bring bg ...</td>\n",
       "    </tr>\n",
       "    <tr>\n",
       "      <th>3</th>\n",
       "      <td>3</td>\n",
       "      <td>our condolences goes out to the family who los...</td>\n",
       "      <td>1532754469728837633</td>\n",
       "      <td>23083404</td>\n",
       "      <td>2022-06-03T16:01:57.000Z</td>\n",
       "      <td>[our, condolences, goes, out, to, the, family,...</td>\n",
       "      <td>[condolences, goes, family, lost, loved, one, ...</td>\n",
       "      <td>condolences goes family lost loved one heavens...</td>\n",
       "      <td>goes family lost loved one heavens watch trage...</td>\n",
       "    </tr>\n",
       "    <tr>\n",
       "      <th>4</th>\n",
       "      <td>4</td>\n",
       "      <td>yes we did!!! https://t.co/oiwm2get18</td>\n",
       "      <td>1532225483596738560</td>\n",
       "      <td>23083404</td>\n",
       "      <td>2022-06-02T04:59:57.000Z</td>\n",
       "      <td>[yes, we, did, https, t, co, oiwm2get18]</td>\n",
       "      <td>[yes]</td>\n",
       "      <td>yes</td>\n",
       "      <td></td>\n",
       "    </tr>\n",
       "    <tr>\n",
       "      <th>5</th>\n",
       "      <td>5</td>\n",
       "      <td>🤔. “in the face of impossible odds, people who...</td>\n",
       "      <td>1531837452591042561</td>\n",
       "      <td>23083404</td>\n",
       "      <td>2022-06-01T03:18:03.000Z</td>\n",
       "      <td>[in, the, face, of, impossible, odds, people, ...</td>\n",
       "      <td>[face, impossible, odds, people, love, country...</td>\n",
       "      <td>face impossible odds people love country chang...</td>\n",
       "      <td>impossible odds people love country change barack</td>\n",
       "    </tr>\n",
       "    <tr>\n",
       "      <th>6</th>\n",
       "      <td>6</td>\n",
       "      <td>congratulations brother!!! 👏🏾👏🏾👏🏾👏🏾 🙏🏾✊🏾🤎👑 htt...</td>\n",
       "      <td>1531784889279795201</td>\n",
       "      <td>23083404</td>\n",
       "      <td>2022-05-31T23:49:11.000Z</td>\n",
       "      <td>[congratulations, brother, https, t, co, 1ac2o...</td>\n",
       "      <td>[congratulations, brother]</td>\n",
       "      <td>congratulations brother</td>\n",
       "      <td></td>\n",
       "    </tr>\n",
       "    <tr>\n",
       "      <th>7</th>\n",
       "      <td>7</td>\n",
       "      <td>ayyyyyeeee!!!! 😤😤😤 https://t.co/gxj6zf0dhh</td>\n",
       "      <td>1531260582657138688</td>\n",
       "      <td>23083404</td>\n",
       "      <td>2022-05-30T13:05:47.000Z</td>\n",
       "      <td>[ayyyyyeeee, https, t, co, gxj6zf0dhh]</td>\n",
       "      <td>[ayyyyyeeee]</td>\n",
       "      <td>ayyyyyeeee</td>\n",
       "      <td></td>\n",
       "    </tr>\n",
       "  </tbody>\n",
       "</table>\n",
       "</div>"
      ],
      "text/plain": [
       "   Unnamed: 0                                               text  \\\n",
       "0           0    jumping on someone podcast soon. maybe my own 🤔   \n",
       "1           1  it's so funny to me how many basketball expert...   \n",
       "2           2  we need to come together and help do whatever ...   \n",
       "3           3  our condolences goes out to the family who los...   \n",
       "4           4              yes we did!!! https://t.co/oiwm2get18   \n",
       "5           5  🤔. “in the face of impossible odds, people who...   \n",
       "6           6  congratulations brother!!! 👏🏾👏🏾👏🏾👏🏾 🙏🏾✊🏾🤎👑 htt...   \n",
       "7           7         ayyyyyeeee!!!! 😤😤😤 https://t.co/gxj6zf0dhh   \n",
       "\n",
       "                    id  author_id                created_at  \\\n",
       "0  1533632259755896832   23083404  2022-06-06T02:09:58.000Z   \n",
       "1  1533632033972310016   23083404  2022-06-06T02:09:05.000Z   \n",
       "2  1533599792701378560   23083404  2022-06-06T00:00:58.000Z   \n",
       "3  1532754469728837633   23083404  2022-06-03T16:01:57.000Z   \n",
       "4  1532225483596738560   23083404  2022-06-02T04:59:57.000Z   \n",
       "5  1531837452591042561   23083404  2022-06-01T03:18:03.000Z   \n",
       "6  1531784889279795201   23083404  2022-05-31T23:49:11.000Z   \n",
       "7  1531260582657138688   23083404  2022-05-30T13:05:47.000Z   \n",
       "\n",
       "                                          text_token  \\\n",
       "0  [jumping, on, someone, podcast, soon, maybe, m...   \n",
       "1  [it, s, so, funny, to, me, how, many, basketba...   \n",
       "2  [we, need, to, come, together, and, help, do, ...   \n",
       "3  [our, condolences, goes, out, to, the, family,...   \n",
       "4           [yes, we, did, https, t, co, oiwm2get18]   \n",
       "5  [in, the, face, of, impossible, odds, people, ...   \n",
       "6  [congratulations, brother, https, t, co, 1ac2o...   \n",
       "7             [ayyyyyeeee, https, t, co, gxj6zf0dhh]   \n",
       "\n",
       "                                text_token_stopwords  \\\n",
       "0           [jumping, someone, podcast, soon, maybe]   \n",
       "1  [funny, many, basketball, experts, app, everyb...   \n",
       "2  [need, come, together, help, whatever, possibl...   \n",
       "3  [condolences, goes, family, lost, loved, one, ...   \n",
       "4                                              [yes]   \n",
       "5  [face, impossible, odds, people, love, country...   \n",
       "6                         [congratulations, brother]   \n",
       "7                                       [ayyyyyeeee]   \n",
       "\n",
       "                                         text_string  \\\n",
       "0                 jumping someone podcast soon maybe   \n",
       "1  funny many basketball experts app everybody dr...   \n",
       "2  need come together help whatever possibly brin...   \n",
       "3  condolences goes family lost loved one heavens...   \n",
       "4                                                yes   \n",
       "5  face impossible odds people love country chang...   \n",
       "6                            congratulations brother   \n",
       "7                                         ayyyyyeeee   \n",
       "\n",
       "                                   text_string_fdist  \n",
       "0                       jumping someone podcast soon  \n",
       "1  many basketball experts app everybody dr james...  \n",
       "2  come together help whatever possibly bring bg ...  \n",
       "3  goes family lost loved one heavens watch trage...  \n",
       "4                                                     \n",
       "5  impossible odds people love country change barack  \n",
       "6                                                     \n",
       "7                                                     "
      ]
     },
     "execution_count": 12,
     "metadata": {},
     "output_type": "execute_result"
    }
   ],
   "source": [
    "# Wir filtern nun die Wörter raus, welche mehr als 1 Mal vorkommen \n",
    "df['text_string_fdist'] = df['text_token_stopwords'].apply(lambda x: ' '.join([item for item in x if fdist[item] >= 1 ]))\n",
    "\n",
    "df"
   ]
  },
  {
   "cell_type": "code",
   "execution_count": 13,
   "metadata": {},
   "outputs": [
    {
     "name": "stderr",
     "output_type": "stream",
     "text": [
      "[nltk_data] Downloading package wordnet to /Users/rafaela/nltk_data...\n",
      "[nltk_data]   Package wordnet is already up-to-date!\n",
      "[nltk_data] Downloading package omw-1.4 to /Users/rafaela/nltk_data...\n",
      "[nltk_data]   Package omw-1.4 is already up-to-date!\n"
     ]
    },
    {
     "data": {
      "text/plain": [
       "True"
      ]
     },
     "execution_count": 13,
     "metadata": {},
     "output_type": "execute_result"
    }
   ],
   "source": [
    "# Wordnet ist eine Art Wortdatenbank mit englischen Substantiven, Adjektiven, Adverbien und Verben, welche in eine Reihe von kognitiven Synonymen gruppiert\n",
    "nltk.download('wordnet')\n",
    "nltk.download('omw-1.4')"
   ]
  },
  {
   "cell_type": "code",
   "execution_count": 14,
   "metadata": {},
   "outputs": [],
   "source": [
    "# Mit Lemmatizer kann man Wörter welche aus der gleichen Wortfamilie stammen, gruppieren.\n",
    "from nltk.stem import WordNetLemmatizer\n",
    "\n",
    "wordnet_lem = WordNetLemmatizer()\n",
    "\n",
    "df['text_string_lem'] = df['text_string_fdist'].apply(wordnet_lem.lemmatize)\n"
   ]
  },
  {
   "cell_type": "code",
   "execution_count": 15,
   "metadata": {},
   "outputs": [
    {
     "data": {
      "text/plain": [
       "True    8\n",
       "Name: is_equal, dtype: int64"
      ]
     },
     "execution_count": 15,
     "metadata": {},
     "output_type": "execute_result"
    }
   ],
   "source": [
    "# Manchmal gibt es keine Wörter aus der gleichen Wortfamilie, deswegen prüfen wir, ob es in unserem Datensatz welche gibt: \n",
    "\n",
    "df['is_equal']= (df['text_string_fdist']==df['text_string_lem'])\n",
    "\n",
    "# Es wurden 8 gleiche Wörter gefunden \n",
    "df.is_equal.value_counts()\n",
    "\n"
   ]
  },
  {
   "cell_type": "code",
   "execution_count": 16,
   "metadata": {},
   "outputs": [
    {
     "data": {
      "text/html": [
       "<div>\n",
       "<style scoped>\n",
       "    .dataframe tbody tr th:only-of-type {\n",
       "        vertical-align: middle;\n",
       "    }\n",
       "\n",
       "    .dataframe tbody tr th {\n",
       "        vertical-align: top;\n",
       "    }\n",
       "\n",
       "    .dataframe thead th {\n",
       "        text-align: right;\n",
       "    }\n",
       "</style>\n",
       "<table border=\"1\" class=\"dataframe\">\n",
       "  <thead>\n",
       "    <tr style=\"text-align: right;\">\n",
       "      <th></th>\n",
       "      <th>Unnamed: 0</th>\n",
       "      <th>text</th>\n",
       "      <th>id</th>\n",
       "      <th>author_id</th>\n",
       "      <th>created_at</th>\n",
       "      <th>text_token</th>\n",
       "      <th>text_token_stopwords</th>\n",
       "      <th>text_string</th>\n",
       "      <th>text_string_fdist</th>\n",
       "      <th>text_string_lem</th>\n",
       "      <th>is_equal</th>\n",
       "    </tr>\n",
       "  </thead>\n",
       "  <tbody>\n",
       "    <tr>\n",
       "      <th>0</th>\n",
       "      <td>0</td>\n",
       "      <td>jumping on someone podcast soon. maybe my own 🤔</td>\n",
       "      <td>1533632259755896832</td>\n",
       "      <td>23083404</td>\n",
       "      <td>2022-06-06T02:09:58.000Z</td>\n",
       "      <td>[jumping, on, someone, podcast, soon, maybe, m...</td>\n",
       "      <td>[jumping, someone, podcast, soon, maybe]</td>\n",
       "      <td>jumping someone podcast soon maybe</td>\n",
       "      <td>jumping someone podcast soon</td>\n",
       "      <td>jumping someone podcast soon</td>\n",
       "      <td>True</td>\n",
       "    </tr>\n",
       "    <tr>\n",
       "      <th>1</th>\n",
       "      <td>1</td>\n",
       "      <td>it's so funny to me how many basketball expert...</td>\n",
       "      <td>1533632033972310016</td>\n",
       "      <td>23083404</td>\n",
       "      <td>2022-06-06T02:09:05.000Z</td>\n",
       "      <td>[it, s, so, funny, to, me, how, many, basketba...</td>\n",
       "      <td>[funny, many, basketball, experts, app, everyb...</td>\n",
       "      <td>funny many basketball experts app everybody dr...</td>\n",
       "      <td>many basketball experts app everybody dr james...</td>\n",
       "      <td>many basketball experts app everybody dr james...</td>\n",
       "      <td>True</td>\n",
       "    </tr>\n",
       "    <tr>\n",
       "      <th>2</th>\n",
       "      <td>2</td>\n",
       "      <td>we need to come together and help do whatever ...</td>\n",
       "      <td>1533599792701378560</td>\n",
       "      <td>23083404</td>\n",
       "      <td>2022-06-06T00:00:58.000Z</td>\n",
       "      <td>[we, need, to, come, together, and, help, do, ...</td>\n",
       "      <td>[need, come, together, help, whatever, possibl...</td>\n",
       "      <td>need come together help whatever possibly brin...</td>\n",
       "      <td>come together help whatever possibly bring bg ...</td>\n",
       "      <td>come together help whatever possibly bring bg ...</td>\n",
       "      <td>True</td>\n",
       "    </tr>\n",
       "    <tr>\n",
       "      <th>3</th>\n",
       "      <td>3</td>\n",
       "      <td>our condolences goes out to the family who los...</td>\n",
       "      <td>1532754469728837633</td>\n",
       "      <td>23083404</td>\n",
       "      <td>2022-06-03T16:01:57.000Z</td>\n",
       "      <td>[our, condolences, goes, out, to, the, family,...</td>\n",
       "      <td>[condolences, goes, family, lost, loved, one, ...</td>\n",
       "      <td>condolences goes family lost loved one heavens...</td>\n",
       "      <td>goes family lost loved one heavens watch trage...</td>\n",
       "      <td>goes family lost loved one heavens watch trage...</td>\n",
       "      <td>True</td>\n",
       "    </tr>\n",
       "    <tr>\n",
       "      <th>4</th>\n",
       "      <td>4</td>\n",
       "      <td>yes we did!!! https://t.co/oiwm2get18</td>\n",
       "      <td>1532225483596738560</td>\n",
       "      <td>23083404</td>\n",
       "      <td>2022-06-02T04:59:57.000Z</td>\n",
       "      <td>[yes, we, did, https, t, co, oiwm2get18]</td>\n",
       "      <td>[yes]</td>\n",
       "      <td>yes</td>\n",
       "      <td></td>\n",
       "      <td></td>\n",
       "      <td>True</td>\n",
       "    </tr>\n",
       "    <tr>\n",
       "      <th>5</th>\n",
       "      <td>5</td>\n",
       "      <td>🤔. “in the face of impossible odds, people who...</td>\n",
       "      <td>1531837452591042561</td>\n",
       "      <td>23083404</td>\n",
       "      <td>2022-06-01T03:18:03.000Z</td>\n",
       "      <td>[in, the, face, of, impossible, odds, people, ...</td>\n",
       "      <td>[face, impossible, odds, people, love, country...</td>\n",
       "      <td>face impossible odds people love country chang...</td>\n",
       "      <td>impossible odds people love country change barack</td>\n",
       "      <td>impossible odds people love country change barack</td>\n",
       "      <td>True</td>\n",
       "    </tr>\n",
       "    <tr>\n",
       "      <th>6</th>\n",
       "      <td>6</td>\n",
       "      <td>congratulations brother!!! 👏🏾👏🏾👏🏾👏🏾 🙏🏾✊🏾🤎👑 htt...</td>\n",
       "      <td>1531784889279795201</td>\n",
       "      <td>23083404</td>\n",
       "      <td>2022-05-31T23:49:11.000Z</td>\n",
       "      <td>[congratulations, brother, https, t, co, 1ac2o...</td>\n",
       "      <td>[congratulations, brother]</td>\n",
       "      <td>congratulations brother</td>\n",
       "      <td></td>\n",
       "      <td></td>\n",
       "      <td>True</td>\n",
       "    </tr>\n",
       "    <tr>\n",
       "      <th>7</th>\n",
       "      <td>7</td>\n",
       "      <td>ayyyyyeeee!!!! 😤😤😤 https://t.co/gxj6zf0dhh</td>\n",
       "      <td>1531260582657138688</td>\n",
       "      <td>23083404</td>\n",
       "      <td>2022-05-30T13:05:47.000Z</td>\n",
       "      <td>[ayyyyyeeee, https, t, co, gxj6zf0dhh]</td>\n",
       "      <td>[ayyyyyeeee]</td>\n",
       "      <td>ayyyyyeeee</td>\n",
       "      <td></td>\n",
       "      <td></td>\n",
       "      <td>True</td>\n",
       "    </tr>\n",
       "  </tbody>\n",
       "</table>\n",
       "</div>"
      ],
      "text/plain": [
       "   Unnamed: 0                                               text  \\\n",
       "0           0    jumping on someone podcast soon. maybe my own 🤔   \n",
       "1           1  it's so funny to me how many basketball expert...   \n",
       "2           2  we need to come together and help do whatever ...   \n",
       "3           3  our condolences goes out to the family who los...   \n",
       "4           4              yes we did!!! https://t.co/oiwm2get18   \n",
       "5           5  🤔. “in the face of impossible odds, people who...   \n",
       "6           6  congratulations brother!!! 👏🏾👏🏾👏🏾👏🏾 🙏🏾✊🏾🤎👑 htt...   \n",
       "7           7         ayyyyyeeee!!!! 😤😤😤 https://t.co/gxj6zf0dhh   \n",
       "\n",
       "                    id  author_id                created_at  \\\n",
       "0  1533632259755896832   23083404  2022-06-06T02:09:58.000Z   \n",
       "1  1533632033972310016   23083404  2022-06-06T02:09:05.000Z   \n",
       "2  1533599792701378560   23083404  2022-06-06T00:00:58.000Z   \n",
       "3  1532754469728837633   23083404  2022-06-03T16:01:57.000Z   \n",
       "4  1532225483596738560   23083404  2022-06-02T04:59:57.000Z   \n",
       "5  1531837452591042561   23083404  2022-06-01T03:18:03.000Z   \n",
       "6  1531784889279795201   23083404  2022-05-31T23:49:11.000Z   \n",
       "7  1531260582657138688   23083404  2022-05-30T13:05:47.000Z   \n",
       "\n",
       "                                          text_token  \\\n",
       "0  [jumping, on, someone, podcast, soon, maybe, m...   \n",
       "1  [it, s, so, funny, to, me, how, many, basketba...   \n",
       "2  [we, need, to, come, together, and, help, do, ...   \n",
       "3  [our, condolences, goes, out, to, the, family,...   \n",
       "4           [yes, we, did, https, t, co, oiwm2get18]   \n",
       "5  [in, the, face, of, impossible, odds, people, ...   \n",
       "6  [congratulations, brother, https, t, co, 1ac2o...   \n",
       "7             [ayyyyyeeee, https, t, co, gxj6zf0dhh]   \n",
       "\n",
       "                                text_token_stopwords  \\\n",
       "0           [jumping, someone, podcast, soon, maybe]   \n",
       "1  [funny, many, basketball, experts, app, everyb...   \n",
       "2  [need, come, together, help, whatever, possibl...   \n",
       "3  [condolences, goes, family, lost, loved, one, ...   \n",
       "4                                              [yes]   \n",
       "5  [face, impossible, odds, people, love, country...   \n",
       "6                         [congratulations, brother]   \n",
       "7                                       [ayyyyyeeee]   \n",
       "\n",
       "                                         text_string  \\\n",
       "0                 jumping someone podcast soon maybe   \n",
       "1  funny many basketball experts app everybody dr...   \n",
       "2  need come together help whatever possibly brin...   \n",
       "3  condolences goes family lost loved one heavens...   \n",
       "4                                                yes   \n",
       "5  face impossible odds people love country chang...   \n",
       "6                            congratulations brother   \n",
       "7                                         ayyyyyeeee   \n",
       "\n",
       "                                   text_string_fdist  \\\n",
       "0                       jumping someone podcast soon   \n",
       "1  many basketball experts app everybody dr james...   \n",
       "2  come together help whatever possibly bring bg ...   \n",
       "3  goes family lost loved one heavens watch trage...   \n",
       "4                                                      \n",
       "5  impossible odds people love country change barack   \n",
       "6                                                      \n",
       "7                                                      \n",
       "\n",
       "                                     text_string_lem  is_equal  \n",
       "0                       jumping someone podcast soon      True  \n",
       "1  many basketball experts app everybody dr james...      True  \n",
       "2  come together help whatever possibly bring bg ...      True  \n",
       "3  goes family lost loved one heavens watch trage...      True  \n",
       "4                                                         True  \n",
       "5  impossible odds people love country change barack      True  \n",
       "6                                                         True  \n",
       "7                                                         True  "
      ]
     },
     "execution_count": 16,
     "metadata": {},
     "output_type": "execute_result"
    }
   ],
   "source": [
    "df"
   ]
  },
  {
   "cell_type": "code",
   "execution_count": 17,
   "metadata": {},
   "outputs": [
    {
     "name": "stdout",
     "output_type": "stream",
     "text": [
      "Collecting package metadata (current_repodata.json): done\n",
      "Solving environment: done\n",
      "\n",
      "# All requested packages already installed.\n",
      "\n",
      "\n",
      "Note: you may need to restart the kernel to use updated packages.\n"
     ]
    }
   ],
   "source": [
    "conda install -c conda-forge wordcloud"
   ]
  },
  {
   "cell_type": "code",
   "execution_count": 18,
   "metadata": {},
   "outputs": [],
   "source": [
    "# wir schaffen eine Wortcloud:\n",
    "\n",
    "all_words_lem = ' '.join([word for word in df['text_string_lem']])"
   ]
  },
  {
   "cell_type": "code",
   "execution_count": 19,
   "metadata": {},
   "outputs": [
    {
     "data": {
      "image/png": "[encoded data removed]",
      "text/plain": [
       "<Figure size 720x504 with 1 Axes>"
      ]
     },
     "metadata": {
      "needs_background": "light"
     },
     "output_type": "display_data"
    }
   ],
   "source": [
    "%matplotlib inline\n",
    "import matplotlib.pyplot as plt\n",
    "from wordcloud import WordCloud\n",
    "\n",
    "wordcloud = WordCloud(width=400, \n",
    "                     height=125, \n",
    "                     random_state=2, \n",
    "                     max_font_size=100).generate(all_words_lem)\n",
    "\n",
    "plt.figure(figsize=(10, 7))\n",
    "plt.imshow(wordcloud, interpolation='bilinear')\n",
    "plt.axis('off');"
   ]
  },
  {
   "cell_type": "code",
   "execution_count": 20,
   "metadata": {},
   "outputs": [
    {
     "data": {
      "image/png": "[encoded data removed]",
      "text/plain": [
       "<Figure size 432x288 with 1 Axes>"
      ]
     },
     "metadata": {
      "needs_background": "light"
     },
     "output_type": "display_data"
    }
   ],
   "source": [
    "import numpy as np\n",
    "\n",
    "x, y = np.ogrid[:300, :300]\n",
    "mask = (x - 150) ** 2 + (y - 150) ** 2 > 130 ** 2\n",
    "mask = 255 * mask.astype(int)\n",
    "\n",
    "wc = WordCloud(background_color=\"white\", repeat=True, mask=mask)\n",
    "wc.generate(all_words)\n",
    "\n",
    "plt.axis(\"off\")\n",
    "plt.imshow(wc, interpolation=\"bilinear\");"
   ]
  },
  {
   "cell_type": "code",
   "execution_count": 21,
   "metadata": {},
   "outputs": [
    {
     "name": "stderr",
     "output_type": "stream",
     "text": [
      "[nltk_data] Downloading package punkt to /Users/rafaela/nltk_data...\n",
      "[nltk_data]   Package punkt is already up-to-date!\n"
     ]
    },
    {
     "data": {
      "text/plain": [
       "True"
      ]
     },
     "execution_count": 21,
     "metadata": {},
     "output_type": "execute_result"
    }
   ],
   "source": [
    "# “Punkt\" ist ein Teil der Tokenization\n",
    "nltk.download('punkt')"
   ]
  },
  {
   "cell_type": "code",
   "execution_count": 22,
   "metadata": {},
   "outputs": [],
   "source": [
    "from nltk.tokenize import word_tokenize\n",
    "from nltk.probability import FreqDist\n",
    "\n",
    "words = nltk.word_tokenize(all_words_lem)\n",
    "fd = FreqDist(words)"
   ]
  },
  {
   "cell_type": "code",
   "execution_count": 23,
   "metadata": {},
   "outputs": [
    {
     "data": {
      "text/plain": [
       "[('together', 2), ('jumping', 1), ('someone', 1)]"
      ]
     },
     "execution_count": 23,
     "metadata": {},
     "output_type": "execute_result"
    }
   ],
   "source": [
    "# wir geben die drei Wörter aus die am meisten vorkommen \n",
    "fd.most_common(3)"
   ]
  },
  {
   "cell_type": "code",
   "execution_count": 24,
   "metadata": {},
   "outputs": [
    {
     "name": "stdout",
     "output_type": "stream",
     "text": [
      "together  jumping  someone \n",
      "       2        1        1 \n"
     ]
    }
   ],
   "source": [
    "# wir geben die drei Wörter aus welche am meisten vorkommen in Form einer Tabelle \n",
    "fd.tabulate(3)"
   ]
  },
  {
   "cell_type": "code",
   "execution_count": 25,
   "metadata": {},
   "outputs": [
    {
     "data": {
      "text/plain": [
       "[('together', 2),\n",
       " ('jumping', 1),\n",
       " ('someone', 1),\n",
       " ('podcast', 1),\n",
       " ('soon', 1),\n",
       " ('many', 1),\n",
       " ('basketball', 1),\n",
       " ('experts', 1),\n",
       " ('app', 1),\n",
       " ('everybody', 1)]"
      ]
     },
     "execution_count": 25,
     "metadata": {},
     "output_type": "execute_result"
    }
   ],
   "source": [
    "# Wir geben die drei Wörter aus welche am meisten vorkommen und speichern sie in der Variable top_10 \n",
    "top_10 = fd.most_common(10)\n",
    "\n",
    "# Wir erstellen eine Panda-Serie, um einen Plot zu erstellen \n",
    "fdist = pd.Series(dict(top_10))\n",
    "\n",
    "top_10"
   ]
  },
  {
   "cell_type": "code",
   "execution_count": 26,
   "metadata": {},
   "outputs": [
    {
     "data": {
      "image/png": "[encoded data removed]",
      "text/plain": [
       "<Figure size 432x288 with 1 Axes>"
      ]
     },
     "metadata": {},
     "output_type": "display_data"
    }
   ],
   "source": [
    "# mit Seaborn können wir Plots erstellen \n",
    "\n",
    "import seaborn as sns\n",
    "sns.set_theme(style=\"ticks\")\n",
    "\n",
    "sns.barplot(y=fdist.index, x=fdist.values, color='blue');"
   ]
  },
  {
   "cell_type": "code",
   "execution_count": 27,
   "metadata": {},
   "outputs": [
    {
     "data": {
      "application/vnd.plotly.v1+json": {
       "config": {
        "plotlyServerURL": "https://plot.ly"
       },
       "data": [
        {
         "alignmentgroup": "True",
         "hovertemplate": "x=%{x}<br>y=%{y}<extra></extra>",
         "legendgroup": "",
         "marker": {
          "color": "#636efa",
          "pattern": {
           "shape": ""
          }
         },
         "name": "",
         "offsetgroup": "",
         "orientation": "h",
         "showlegend": false,
         "textposition": "auto",
         "type": "bar",
         "x": [
          2,
          1,
          1,
          1,
          1,
          1,
          1,
          1,
          1,
          1
         ],
         "xaxis": "x",
         "y": [
          "together",
          "jumping",
          "someone",
          "podcast",
          "soon",
          "many",
          "basketball",
          "experts",
          "app",
          "everybody"
         ],
         "yaxis": "y"
        }
       ],
       "layout": {
        "barmode": "stack",
        "legend": {
         "tracegroupgap": 0
        },
        "margin": {
         "t": 60
        },
        "template": {
         "data": {
          "bar": [
           {
            "error_x": {
             "color": "#2a3f5f"
            },
            "error_y": {
             "color": "#2a3f5f"
            },
            "marker": {
             "line": {
              "color": "#E5ECF6",
              "width": 0.5
             },
             "pattern": {
              "fillmode": "overlay",
              "size": 10,
              "solidity": 0.2
             }
            },
            "type": "bar"
           }
          ],
          "barpolar": [
           {
            "marker": {
             "line": {
              "color": "#E5ECF6",
              "width": 0.5
             },
             "pattern": {
              "fillmode": "overlay",
              "size": 10,
              "solidity": 0.2
             }
            },
            "type": "barpolar"
           }
          ],
          "carpet": [
           {
            "aaxis": {
             "endlinecolor": "#2a3f5f",
             "gridcolor": "white",
             "linecolor": "white",
             "minorgridcolor": "white",
             "startlinecolor": "#2a3f5f"
            },
            "baxis": {
             "endlinecolor": "#2a3f5f",
             "gridcolor": "white",
             "linecolor": "white",
             "minorgridcolor": "white",
             "startlinecolor": "#2a3f5f"
            },
            "type": "carpet"
           }
          ],
          "choropleth": [
           {
            "colorbar": {
             "outlinewidth": 0,
             "ticks": ""
            },
            "type": "choropleth"
           }
          ],
          "contour": [
           {
            "colorbar": {
             "outlinewidth": 0,
             "ticks": ""
            },
            "colorscale": [
             [
              0,
              "#0d0887"
             ],
             [
              0.1111111111111111,
              "#46039f"
             ],
             [
              0.2222222222222222,
              "#7201a8"
             ],
             [
              0.3333333333333333,
              "#9c179e"
             ],
             [
              0.4444444444444444,
              "#bd3786"
             ],
             [
              0.5555555555555556,
              "#d8576b"
             ],
             [
              0.6666666666666666,
              "#ed7953"
             ],
             [
              0.7777777777777778,
              "#fb9f3a"
             ],
             [
              0.8888888888888888,
              "#fdca26"
             ],
             [
              1,
              "#f0f921"
             ]
            ],
            "type": "contour"
           }
          ],
          "contourcarpet": [
           {
            "colorbar": {
             "outlinewidth": 0,
             "ticks": ""
            },
            "type": "contourcarpet"
           }
          ],
          "heatmap": [
           {
            "colorbar": {
             "outlinewidth": 0,
             "ticks": ""
            },
            "colorscale": [
             [
              0,
              "#0d0887"
             ],
             [
              0.1111111111111111,
              "#46039f"
             ],
             [
              0.2222222222222222,
              "#7201a8"
             ],
             [
              0.3333333333333333,
              "#9c179e"
             ],
             [
              0.4444444444444444,
              "#bd3786"
             ],
             [
              0.5555555555555556,
              "#d8576b"
             ],
             [
              0.6666666666666666,
              "#ed7953"
             ],
             [
              0.7777777777777778,
              "#fb9f3a"
             ],
             [
              0.8888888888888888,
              "#fdca26"
             ],
             [
              1,
              "#f0f921"
             ]
            ],
            "type": "heatmap"
           }
          ],
          "heatmapgl": [
           {
            "colorbar": {
             "outlinewidth": 0,
             "ticks": ""
            },
            "colorscale": [
             [
              0,
              "#0d0887"
             ],
             [
              0.1111111111111111,
              "#46039f"
             ],
             [
              0.2222222222222222,
              "#7201a8"
             ],
             [
              0.3333333333333333,
              "#9c179e"
             ],
             [
              0.4444444444444444,
              "#bd3786"
             ],
             [
              0.5555555555555556,
              "#d8576b"
             ],
             [
              0.6666666666666666,
              "#ed7953"
             ],
             [
              0.7777777777777778,
              "#fb9f3a"
             ],
             [
              0.8888888888888888,
              "#fdca26"
             ],
             [
              1,
              "#f0f921"
             ]
            ],
            "type": "heatmapgl"
           }
          ],
          "histogram": [
           {
            "marker": {
             "pattern": {
              "fillmode": "overlay",
              "size": 10,
              "solidity": 0.2
             }
            },
            "type": "histogram"
           }
          ],
          "histogram2d": [
           {
            "colorbar": {
             "outlinewidth": 0,
             "ticks": ""
            },
            "colorscale": [
             [
              0,
              "#0d0887"
             ],
             [
              0.1111111111111111,
              "#46039f"
             ],
             [
              0.2222222222222222,
              "#7201a8"
             ],
             [
              0.3333333333333333,
              "#9c179e"
             ],
             [
              0.4444444444444444,
              "#bd3786"
             ],
             [
              0.5555555555555556,
              "#d8576b"
             ],
             [
              0.6666666666666666,
              "#ed7953"
             ],
             [
              0.7777777777777778,
              "#fb9f3a"
             ],
             [
              0.8888888888888888,
              "#fdca26"
             ],
             [
              1,
              "#f0f921"
             ]
            ],
            "type": "histogram2d"
           }
          ],
          "histogram2dcontour": [
           {
            "colorbar": {
             "outlinewidth": 0,
             "ticks": ""
            },
            "colorscale": [
             [
              0,
              "#0d0887"
             ],
             [
              0.1111111111111111,
              "#46039f"
             ],
             [
              0.2222222222222222,
              "#7201a8"
             ],
             [
              0.3333333333333333,
              "#9c179e"
             ],
             [
              0.4444444444444444,
              "#bd3786"
             ],
             [
              0.5555555555555556,
              "#d8576b"
             ],
             [
              0.6666666666666666,
              "#ed7953"
             ],
             [
              0.7777777777777778,
              "#fb9f3a"
             ],
             [
              0.8888888888888888,
              "#fdca26"
             ],
             [
              1,
              "#f0f921"
             ]
            ],
            "type": "histogram2dcontour"
           }
          ],
          "mesh3d": [
           {
            "colorbar": {
             "outlinewidth": 0,
             "ticks": ""
            },
            "type": "mesh3d"
           }
          ],
          "parcoords": [
           {
            "line": {
             "colorbar": {
              "outlinewidth": 0,
              "ticks": ""
             }
            },
            "type": "parcoords"
           }
          ],
          "pie": [
           {
            "automargin": true,
            "type": "pie"
           }
          ],
          "scatter": [
           {
            "marker": {
             "colorbar": {
              "outlinewidth": 0,
              "ticks": ""
             }
            },
            "type": "scatter"
           }
          ],
          "scatter3d": [
           {
            "line": {
             "colorbar": {
              "outlinewidth": 0,
              "ticks": ""
             }
            },
            "marker": {
             "colorbar": {
              "outlinewidth": 0,
              "ticks": ""
             }
            },
            "type": "scatter3d"
           }
          ],
          "scattercarpet": [
           {
            "marker": {
             "colorbar": {
              "outlinewidth": 0,
              "ticks": ""
             }
            },
            "type": "scattercarpet"
           }
          ],
          "scattergeo": [
           {
            "marker": {
             "colorbar": {
              "outlinewidth": 0,
              "ticks": ""
             }
            },
            "type": "scattergeo"
           }
          ],
          "scattergl": [
           {
            "marker": {
             "colorbar": {
              "outlinewidth": 0,
              "ticks": ""
             }
            },
            "type": "scattergl"
           }
          ],
          "scattermapbox": [
           {
            "marker": {
             "colorbar": {
              "outlinewidth": 0,
              "ticks": ""
             }
            },
            "type": "scattermapbox"
           }
          ],
          "scatterpolar": [
           {
            "marker": {
             "colorbar": {
              "outlinewidth": 0,
              "ticks": ""
             }
            },
            "type": "scatterpolar"
           }
          ],
          "scatterpolargl": [
           {
            "marker": {
             "colorbar": {
              "outlinewidth": 0,
              "ticks": ""
             }
            },
            "type": "scatterpolargl"
           }
          ],
          "scatterternary": [
           {
            "marker": {
             "colorbar": {
              "outlinewidth": 0,
              "ticks": ""
             }
            },
            "type": "scatterternary"
           }
          ],
          "surface": [
           {
            "colorbar": {
             "outlinewidth": 0,
             "ticks": ""
            },
            "colorscale": [
             [
              0,
              "#0d0887"
             ],
             [
              0.1111111111111111,
              "#46039f"
             ],
             [
              0.2222222222222222,
              "#7201a8"
             ],
             [
              0.3333333333333333,
              "#9c179e"
             ],
             [
              0.4444444444444444,
              "#bd3786"
             ],
             [
              0.5555555555555556,
              "#d8576b"
             ],
             [
              0.6666666666666666,
              "#ed7953"
             ],
             [
              0.7777777777777778,
              "#fb9f3a"
             ],
             [
              0.8888888888888888,
              "#fdca26"
             ],
             [
              1,
              "#f0f921"
             ]
            ],
            "type": "surface"
           }
          ],
          "table": [
           {
            "cells": {
             "fill": {
              "color": "#EBF0F8"
             },
             "line": {
              "color": "white"
             }
            },
            "header": {
             "fill": {
              "color": "#C8D4E3"
             },
             "line": {
              "color": "white"
             }
            },
            "type": "table"
           }
          ]
         },
         "layout": {
          "annotationdefaults": {
           "arrowcolor": "#2a3f5f",
           "arrowhead": 0,
           "arrowwidth": 1
          },
          "autotypenumbers": "strict",
          "coloraxis": {
           "colorbar": {
            "outlinewidth": 0,
            "ticks": ""
           }
          },
          "colorscale": {
           "diverging": [
            [
             0,
             "#8e0152"
            ],
            [
             0.1,
             "#c51b7d"
            ],
            [
             0.2,
             "#de77ae"
            ],
            [
             0.3,
             "#f1b6da"
            ],
            [
             0.4,
             "#fde0ef"
            ],
            [
             0.5,
             "#f7f7f7"
            ],
            [
             0.6,
             "#e6f5d0"
            ],
            [
             0.7,
             "#b8e186"
            ],
            [
             0.8,
             "#7fbc41"
            ],
            [
             0.9,
             "#4d9221"
            ],
            [
             1,
             "#276419"
            ]
           ],
           "sequential": [
            [
             0,
             "#0d0887"
            ],
            [
             0.1111111111111111,
             "#46039f"
            ],
            [
             0.2222222222222222,
             "#7201a8"
            ],
            [
             0.3333333333333333,
             "#9c179e"
            ],
            [
             0.4444444444444444,
             "#bd3786"
            ],
            [
             0.5555555555555556,
             "#d8576b"
            ],
            [
             0.6666666666666666,
             "#ed7953"
            ],
            [
             0.7777777777777778,
             "#fb9f3a"
            ],
            [
             0.8888888888888888,
             "#fdca26"
            ],
            [
             1,
             "#f0f921"
            ]
           ],
           "sequentialminus": [
            [
             0,
             "#0d0887"
            ],
            [
             0.1111111111111111,
             "#46039f"
            ],
            [
             0.2222222222222222,
             "#7201a8"
            ],
            [
             0.3333333333333333,
             "#9c179e"
            ],
            [
             0.4444444444444444,
             "#bd3786"
            ],
            [
             0.5555555555555556,
             "#d8576b"
            ],
            [
             0.6666666666666666,
             "#ed7953"
            ],
            [
             0.7777777777777778,
             "#fb9f3a"
            ],
            [
             0.8888888888888888,
             "#fdca26"
            ],
            [
             1,
             "#f0f921"
            ]
           ]
          },
          "colorway": [
           "#636efa",
           "#EF553B",
           "#00cc96",
           "#ab63fa",
           "#FFA15A",
           "#19d3f3",
           "#FF6692",
           "#B6E880",
           "#FF97FF",
           "#FECB52"
          ],
          "font": {
           "color": "#2a3f5f"
          },
          "geo": {
           "bgcolor": "white",
           "lakecolor": "white",
           "landcolor": "#E5ECF6",
           "showlakes": true,
           "showland": true,
           "subunitcolor": "white"
          },
          "hoverlabel": {
           "align": "left"
          },
          "hovermode": "closest",
          "mapbox": {
           "style": "light"
          },
          "paper_bgcolor": "white",
          "plot_bgcolor": "#E5ECF6",
          "polar": {
           "angularaxis": {
            "gridcolor": "white",
            "linecolor": "white",
            "ticks": ""
           },
           "bgcolor": "#E5ECF6",
           "radialaxis": {
            "gridcolor": "white",
            "linecolor": "white",
            "ticks": ""
           }
          },
          "scene": {
           "xaxis": {
            "backgroundcolor": "#E5ECF6",
            "gridcolor": "white",
            "gridwidth": 2,
            "linecolor": "white",
            "showbackground": true,
            "ticks": "",
            "zerolinecolor": "white"
           },
           "yaxis": {
            "backgroundcolor": "#E5ECF6",
            "gridcolor": "white",
            "gridwidth": 2,
            "linecolor": "white",
            "showbackground": true,
            "ticks": "",
            "zerolinecolor": "white"
           },
           "zaxis": {
            "backgroundcolor": "#E5ECF6",
            "gridcolor": "white",
            "gridwidth": 2,
            "linecolor": "white",
            "showbackground": true,
            "ticks": "",
            "zerolinecolor": "white"
           }
          },
          "shapedefaults": {
           "line": {
            "color": "#2a3f5f"
           }
          },
          "ternary": {
           "aaxis": {
            "gridcolor": "white",
            "linecolor": "white",
            "ticks": ""
           },
           "baxis": {
            "gridcolor": "white",
            "linecolor": "white",
            "ticks": ""
           },
           "bgcolor": "#E5ECF6",
           "caxis": {
            "gridcolor": "white",
            "linecolor": "white",
            "ticks": ""
           }
          },
          "title": {
           "x": 0.05
          },
          "xaxis": {
           "automargin": true,
           "gridcolor": "white",
           "linecolor": "white",
           "ticks": "",
           "title": {
            "standoff": 15
           },
           "zerolinecolor": "white",
           "zerolinewidth": 2
          },
          "yaxis": {
           "automargin": true,
           "gridcolor": "white",
           "linecolor": "white",
           "ticks": "",
           "title": {
            "standoff": 15
           },
           "zerolinecolor": "white",
           "zerolinewidth": 2
          }
         }
        },
        "xaxis": {
         "anchor": "y",
         "domain": [
          0,
          1
         ],
         "title": {
          "text": "x"
         }
        },
        "yaxis": {
         "anchor": "x",
         "categoryorder": "total ascending",
         "domain": [
          0,
          1
         ],
         "title": {
          "text": "y"
         }
        }
       }
      }
     },
     "metadata": {},
     "output_type": "display_data"
    }
   ],
   "source": [
    "# andere Möglichkeit Plots zu erstellen \n",
    "import plotly.express as px\n",
    "\n",
    "fig = px.bar(y=fdist.index, x=fdist.values)\n",
    "\n",
    "# sortieren nach Häufigkeit \n",
    "fig.update_layout(barmode='stack', yaxis={'categoryorder':'total ascending'})\n",
    "\n",
    "# Zeige Plot an \n",
    "fig.show()"
   ]
  },
  {
   "cell_type": "code",
   "execution_count": 28,
   "metadata": {},
   "outputs": [
    {
     "data": {
      "text/plain": [
       "2"
      ]
     },
     "execution_count": 28,
     "metadata": {},
     "output_type": "execute_result"
    }
   ],
   "source": [
    "# gibt die Häufigkeit von \"toghether\" aus\n",
    "fd[\"together\"]"
   ]
  },
  {
   "cell_type": "code",
   "execution_count": 29,
   "metadata": {},
   "outputs": [
    {
     "name": "stderr",
     "output_type": "stream",
     "text": [
      "[nltk_data] Downloading package vader_lexicon to\n",
      "[nltk_data]     /Users/rafaela/nltk_data...\n",
      "[nltk_data]   Package vader_lexicon is already up-to-date!\n"
     ]
    },
    {
     "data": {
      "text/plain": [
       "True"
      ]
     },
     "execution_count": 29,
     "metadata": {},
     "output_type": "execute_result"
    }
   ],
   "source": [
    "# Vader = Valence Aware Dictionary and sEntiment Reasoner analysiert Stimmungen bzw. die Polaritäten positiv/negativ/neutral \n",
    "nltk.download('vader_lexicon')"
   ]
  },
  {
   "cell_type": "code",
   "execution_count": 30,
   "metadata": {},
   "outputs": [],
   "source": [
    "from nltk.sentiment import SentimentIntensityAnalyzer\n",
    "\n",
    "analyzer = SentimentIntensityAnalyzer()"
   ]
  },
  {
   "cell_type": "code",
   "execution_count": 31,
   "metadata": {},
   "outputs": [
    {
     "data": {
      "text/html": [
       "<div>\n",
       "<style scoped>\n",
       "    .dataframe tbody tr th:only-of-type {\n",
       "        vertical-align: middle;\n",
       "    }\n",
       "\n",
       "    .dataframe tbody tr th {\n",
       "        vertical-align: top;\n",
       "    }\n",
       "\n",
       "    .dataframe thead th {\n",
       "        text-align: right;\n",
       "    }\n",
       "</style>\n",
       "<table border=\"1\" class=\"dataframe\">\n",
       "  <thead>\n",
       "    <tr style=\"text-align: right;\">\n",
       "      <th></th>\n",
       "      <th>Unnamed: 0</th>\n",
       "      <th>text</th>\n",
       "      <th>id</th>\n",
       "      <th>author_id</th>\n",
       "      <th>created_at</th>\n",
       "      <th>text_token</th>\n",
       "      <th>text_token_stopwords</th>\n",
       "      <th>text_string</th>\n",
       "      <th>text_string_fdist</th>\n",
       "      <th>text_string_lem</th>\n",
       "      <th>is_equal</th>\n",
       "      <th>polarity</th>\n",
       "    </tr>\n",
       "  </thead>\n",
       "  <tbody>\n",
       "    <tr>\n",
       "      <th>0</th>\n",
       "      <td>0</td>\n",
       "      <td>jumping on someone podcast soon. maybe my own 🤔</td>\n",
       "      <td>1533632259755896832</td>\n",
       "      <td>23083404</td>\n",
       "      <td>2022-06-06T02:09:58.000Z</td>\n",
       "      <td>[jumping, on, someone, podcast, soon, maybe, m...</td>\n",
       "      <td>[jumping, someone, podcast, soon, maybe]</td>\n",
       "      <td>jumping someone podcast soon maybe</td>\n",
       "      <td>jumping someone podcast soon</td>\n",
       "      <td>jumping someone podcast soon</td>\n",
       "      <td>True</td>\n",
       "      <td>{'neg': 0.0, 'neu': 1.0, 'pos': 0.0, 'compound...</td>\n",
       "    </tr>\n",
       "    <tr>\n",
       "      <th>1</th>\n",
       "      <td>1</td>\n",
       "      <td>it's so funny to me how many basketball expert...</td>\n",
       "      <td>1533632033972310016</td>\n",
       "      <td>23083404</td>\n",
       "      <td>2022-06-06T02:09:05.000Z</td>\n",
       "      <td>[it, s, so, funny, to, me, how, many, basketba...</td>\n",
       "      <td>[funny, many, basketball, experts, app, everyb...</td>\n",
       "      <td>funny many basketball experts app everybody dr...</td>\n",
       "      <td>many basketball experts app everybody dr james...</td>\n",
       "      <td>many basketball experts app everybody dr james...</td>\n",
       "      <td>True</td>\n",
       "      <td>{'neg': 0.0, 'neu': 1.0, 'pos': 0.0, 'compound...</td>\n",
       "    </tr>\n",
       "    <tr>\n",
       "      <th>2</th>\n",
       "      <td>2</td>\n",
       "      <td>we need to come together and help do whatever ...</td>\n",
       "      <td>1533599792701378560</td>\n",
       "      <td>23083404</td>\n",
       "      <td>2022-06-06T00:00:58.000Z</td>\n",
       "      <td>[we, need, to, come, together, and, help, do, ...</td>\n",
       "      <td>[need, come, together, help, whatever, possibl...</td>\n",
       "      <td>need come together help whatever possibly brin...</td>\n",
       "      <td>come together help whatever possibly bring bg ...</td>\n",
       "      <td>come together help whatever possibly bring bg ...</td>\n",
       "      <td>True</td>\n",
       "      <td>{'neg': 0.0, 'neu': 0.585, 'pos': 0.415, 'comp...</td>\n",
       "    </tr>\n",
       "    <tr>\n",
       "      <th>3</th>\n",
       "      <td>3</td>\n",
       "      <td>our condolences goes out to the family who los...</td>\n",
       "      <td>1532754469728837633</td>\n",
       "      <td>23083404</td>\n",
       "      <td>2022-06-03T16:01:57.000Z</td>\n",
       "      <td>[our, condolences, goes, out, to, the, family,...</td>\n",
       "      <td>[condolences, goes, family, lost, loved, one, ...</td>\n",
       "      <td>condolences goes family lost loved one heavens...</td>\n",
       "      <td>goes family lost loved one heavens watch trage...</td>\n",
       "      <td>goes family lost loved one heavens watch trage...</td>\n",
       "      <td>True</td>\n",
       "      <td>{'neg': 0.342, 'neu': 0.204, 'pos': 0.454, 'co...</td>\n",
       "    </tr>\n",
       "    <tr>\n",
       "      <th>4</th>\n",
       "      <td>4</td>\n",
       "      <td>yes we did!!! https://t.co/oiwm2get18</td>\n",
       "      <td>1532225483596738560</td>\n",
       "      <td>23083404</td>\n",
       "      <td>2022-06-02T04:59:57.000Z</td>\n",
       "      <td>[yes, we, did, https, t, co, oiwm2get18]</td>\n",
       "      <td>[yes]</td>\n",
       "      <td>yes</td>\n",
       "      <td></td>\n",
       "      <td></td>\n",
       "      <td>True</td>\n",
       "      <td>{'neg': 0.0, 'neu': 0.0, 'pos': 0.0, 'compound...</td>\n",
       "    </tr>\n",
       "    <tr>\n",
       "      <th>5</th>\n",
       "      <td>5</td>\n",
       "      <td>🤔. “in the face of impossible odds, people who...</td>\n",
       "      <td>1531837452591042561</td>\n",
       "      <td>23083404</td>\n",
       "      <td>2022-06-01T03:18:03.000Z</td>\n",
       "      <td>[in, the, face, of, impossible, odds, people, ...</td>\n",
       "      <td>[face, impossible, odds, people, love, country...</td>\n",
       "      <td>face impossible odds people love country chang...</td>\n",
       "      <td>impossible odds people love country change barack</td>\n",
       "      <td>impossible odds people love country change barack</td>\n",
       "      <td>True</td>\n",
       "      <td>{'neg': 0.0, 'neu': 0.588, 'pos': 0.412, 'comp...</td>\n",
       "    </tr>\n",
       "    <tr>\n",
       "      <th>6</th>\n",
       "      <td>6</td>\n",
       "      <td>congratulations brother!!! 👏🏾👏🏾👏🏾👏🏾 🙏🏾✊🏾🤎👑 htt...</td>\n",
       "      <td>1531784889279795201</td>\n",
       "      <td>23083404</td>\n",
       "      <td>2022-05-31T23:49:11.000Z</td>\n",
       "      <td>[congratulations, brother, https, t, co, 1ac2o...</td>\n",
       "      <td>[congratulations, brother]</td>\n",
       "      <td>congratulations brother</td>\n",
       "      <td></td>\n",
       "      <td></td>\n",
       "      <td>True</td>\n",
       "      <td>{'neg': 0.0, 'neu': 0.0, 'pos': 0.0, 'compound...</td>\n",
       "    </tr>\n",
       "    <tr>\n",
       "      <th>7</th>\n",
       "      <td>7</td>\n",
       "      <td>ayyyyyeeee!!!! 😤😤😤 https://t.co/gxj6zf0dhh</td>\n",
       "      <td>1531260582657138688</td>\n",
       "      <td>23083404</td>\n",
       "      <td>2022-05-30T13:05:47.000Z</td>\n",
       "      <td>[ayyyyyeeee, https, t, co, gxj6zf0dhh]</td>\n",
       "      <td>[ayyyyyeeee]</td>\n",
       "      <td>ayyyyyeeee</td>\n",
       "      <td></td>\n",
       "      <td></td>\n",
       "      <td>True</td>\n",
       "      <td>{'neg': 0.0, 'neu': 0.0, 'pos': 0.0, 'compound...</td>\n",
       "    </tr>\n",
       "  </tbody>\n",
       "</table>\n",
       "</div>"
      ],
      "text/plain": [
       "   Unnamed: 0                                               text  \\\n",
       "0           0    jumping on someone podcast soon. maybe my own 🤔   \n",
       "1           1  it's so funny to me how many basketball expert...   \n",
       "2           2  we need to come together and help do whatever ...   \n",
       "3           3  our condolences goes out to the family who los...   \n",
       "4           4              yes we did!!! https://t.co/oiwm2get18   \n",
       "5           5  🤔. “in the face of impossible odds, people who...   \n",
       "6           6  congratulations brother!!! 👏🏾👏🏾👏🏾👏🏾 🙏🏾✊🏾🤎👑 htt...   \n",
       "7           7         ayyyyyeeee!!!! 😤😤😤 https://t.co/gxj6zf0dhh   \n",
       "\n",
       "                    id  author_id                created_at  \\\n",
       "0  1533632259755896832   23083404  2022-06-06T02:09:58.000Z   \n",
       "1  1533632033972310016   23083404  2022-06-06T02:09:05.000Z   \n",
       "2  1533599792701378560   23083404  2022-06-06T00:00:58.000Z   \n",
       "3  1532754469728837633   23083404  2022-06-03T16:01:57.000Z   \n",
       "4  1532225483596738560   23083404  2022-06-02T04:59:57.000Z   \n",
       "5  1531837452591042561   23083404  2022-06-01T03:18:03.000Z   \n",
       "6  1531784889279795201   23083404  2022-05-31T23:49:11.000Z   \n",
       "7  1531260582657138688   23083404  2022-05-30T13:05:47.000Z   \n",
       "\n",
       "                                          text_token  \\\n",
       "0  [jumping, on, someone, podcast, soon, maybe, m...   \n",
       "1  [it, s, so, funny, to, me, how, many, basketba...   \n",
       "2  [we, need, to, come, together, and, help, do, ...   \n",
       "3  [our, condolences, goes, out, to, the, family,...   \n",
       "4           [yes, we, did, https, t, co, oiwm2get18]   \n",
       "5  [in, the, face, of, impossible, odds, people, ...   \n",
       "6  [congratulations, brother, https, t, co, 1ac2o...   \n",
       "7             [ayyyyyeeee, https, t, co, gxj6zf0dhh]   \n",
       "\n",
       "                                text_token_stopwords  \\\n",
       "0           [jumping, someone, podcast, soon, maybe]   \n",
       "1  [funny, many, basketball, experts, app, everyb...   \n",
       "2  [need, come, together, help, whatever, possibl...   \n",
       "3  [condolences, goes, family, lost, loved, one, ...   \n",
       "4                                              [yes]   \n",
       "5  [face, impossible, odds, people, love, country...   \n",
       "6                         [congratulations, brother]   \n",
       "7                                       [ayyyyyeeee]   \n",
       "\n",
       "                                         text_string  \\\n",
       "0                 jumping someone podcast soon maybe   \n",
       "1  funny many basketball experts app everybody dr...   \n",
       "2  need come together help whatever possibly brin...   \n",
       "3  condolences goes family lost loved one heavens...   \n",
       "4                                                yes   \n",
       "5  face impossible odds people love country chang...   \n",
       "6                            congratulations brother   \n",
       "7                                         ayyyyyeeee   \n",
       "\n",
       "                                   text_string_fdist  \\\n",
       "0                       jumping someone podcast soon   \n",
       "1  many basketball experts app everybody dr james...   \n",
       "2  come together help whatever possibly bring bg ...   \n",
       "3  goes family lost loved one heavens watch trage...   \n",
       "4                                                      \n",
       "5  impossible odds people love country change barack   \n",
       "6                                                      \n",
       "7                                                      \n",
       "\n",
       "                                     text_string_lem  is_equal  \\\n",
       "0                       jumping someone podcast soon      True   \n",
       "1  many basketball experts app everybody dr james...      True   \n",
       "2  come together help whatever possibly bring bg ...      True   \n",
       "3  goes family lost loved one heavens watch trage...      True   \n",
       "4                                                         True   \n",
       "5  impossible odds people love country change barack      True   \n",
       "6                                                         True   \n",
       "7                                                         True   \n",
       "\n",
       "                                            polarity  \n",
       "0  {'neg': 0.0, 'neu': 1.0, 'pos': 0.0, 'compound...  \n",
       "1  {'neg': 0.0, 'neu': 1.0, 'pos': 0.0, 'compound...  \n",
       "2  {'neg': 0.0, 'neu': 0.585, 'pos': 0.415, 'comp...  \n",
       "3  {'neg': 0.342, 'neu': 0.204, 'pos': 0.454, 'co...  \n",
       "4  {'neg': 0.0, 'neu': 0.0, 'pos': 0.0, 'compound...  \n",
       "5  {'neg': 0.0, 'neu': 0.588, 'pos': 0.412, 'comp...  \n",
       "6  {'neg': 0.0, 'neu': 0.0, 'pos': 0.0, 'compound...  \n",
       "7  {'neg': 0.0, 'neu': 0.0, 'pos': 0.0, 'compound...  "
      ]
     },
     "execution_count": 31,
     "metadata": {},
     "output_type": "execute_result"
    }
   ],
   "source": [
    "# wir erzeugen eine neue Spalte, um die Polirität zu sehen \n",
    "\n",
    "df['polarity'] = df['text_string_lem'].apply(lambda x: analyzer.polarity_scores(x))\n",
    "\n",
    "\n",
    "df"
   ]
  },
  {
   "cell_type": "code",
   "execution_count": 32,
   "metadata": {},
   "outputs": [],
   "source": [
    "# Verändern des Dataframes und gibt die Polairät jeder einzelner Spalte aus \n",
    "df = pd.concat(\n",
    "    [df.drop(['Unnamed: 0', 'id', 'author_id', 'polarity'], axis=1), \n",
    "     df['polarity'].apply(pd.Series)], axis=1)\n",
    "\n"
   ]
  },
  {
   "cell_type": "code",
   "execution_count": 33,
   "metadata": {},
   "outputs": [
    {
     "data": {
      "text/html": [
       "<div>\n",
       "<style scoped>\n",
       "    .dataframe tbody tr th:only-of-type {\n",
       "        vertical-align: middle;\n",
       "    }\n",
       "\n",
       "    .dataframe tbody tr th {\n",
       "        vertical-align: top;\n",
       "    }\n",
       "\n",
       "    .dataframe thead th {\n",
       "        text-align: right;\n",
       "    }\n",
       "</style>\n",
       "<table border=\"1\" class=\"dataframe\">\n",
       "  <thead>\n",
       "    <tr style=\"text-align: right;\">\n",
       "      <th></th>\n",
       "      <th>text</th>\n",
       "      <th>created_at</th>\n",
       "      <th>text_token</th>\n",
       "      <th>text_token_stopwords</th>\n",
       "      <th>text_string</th>\n",
       "      <th>text_string_fdist</th>\n",
       "      <th>text_string_lem</th>\n",
       "      <th>is_equal</th>\n",
       "      <th>neg</th>\n",
       "      <th>neu</th>\n",
       "      <th>pos</th>\n",
       "      <th>compound</th>\n",
       "      <th>sentiment</th>\n",
       "    </tr>\n",
       "  </thead>\n",
       "  <tbody>\n",
       "    <tr>\n",
       "      <th>0</th>\n",
       "      <td>jumping on someone podcast soon. maybe my own 🤔</td>\n",
       "      <td>2022-06-06T02:09:58.000Z</td>\n",
       "      <td>[jumping, on, someone, podcast, soon, maybe, m...</td>\n",
       "      <td>[jumping, someone, podcast, soon, maybe]</td>\n",
       "      <td>jumping someone podcast soon maybe</td>\n",
       "      <td>jumping someone podcast soon</td>\n",
       "      <td>jumping someone podcast soon</td>\n",
       "      <td>True</td>\n",
       "      <td>0.000</td>\n",
       "      <td>1.000</td>\n",
       "      <td>0.000</td>\n",
       "      <td>0.0000</td>\n",
       "      <td>negative</td>\n",
       "    </tr>\n",
       "    <tr>\n",
       "      <th>1</th>\n",
       "      <td>it's so funny to me how many basketball expert...</td>\n",
       "      <td>2022-06-06T02:09:05.000Z</td>\n",
       "      <td>[it, s, so, funny, to, me, how, many, basketba...</td>\n",
       "      <td>[funny, many, basketball, experts, app, everyb...</td>\n",
       "      <td>funny many basketball experts app everybody dr...</td>\n",
       "      <td>many basketball experts app everybody dr james...</td>\n",
       "      <td>many basketball experts app everybody dr james...</td>\n",
       "      <td>True</td>\n",
       "      <td>0.000</td>\n",
       "      <td>1.000</td>\n",
       "      <td>0.000</td>\n",
       "      <td>0.0000</td>\n",
       "      <td>negative</td>\n",
       "    </tr>\n",
       "    <tr>\n",
       "      <th>2</th>\n",
       "      <td>we need to come together and help do whatever ...</td>\n",
       "      <td>2022-06-06T00:00:58.000Z</td>\n",
       "      <td>[we, need, to, come, together, and, help, do, ...</td>\n",
       "      <td>[need, come, together, help, whatever, possibl...</td>\n",
       "      <td>need come together help whatever possibly brin...</td>\n",
       "      <td>come together help whatever possibly bring bg ...</td>\n",
       "      <td>come together help whatever possibly bring bg ...</td>\n",
       "      <td>True</td>\n",
       "      <td>0.000</td>\n",
       "      <td>0.585</td>\n",
       "      <td>0.415</td>\n",
       "      <td>0.8176</td>\n",
       "      <td>positive</td>\n",
       "    </tr>\n",
       "    <tr>\n",
       "      <th>3</th>\n",
       "      <td>our condolences goes out to the family who los...</td>\n",
       "      <td>2022-06-03T16:01:57.000Z</td>\n",
       "      <td>[our, condolences, goes, out, to, the, family,...</td>\n",
       "      <td>[condolences, goes, family, lost, loved, one, ...</td>\n",
       "      <td>condolences goes family lost loved one heavens...</td>\n",
       "      <td>goes family lost loved one heavens watch trage...</td>\n",
       "      <td>goes family lost loved one heavens watch trage...</td>\n",
       "      <td>True</td>\n",
       "      <td>0.342</td>\n",
       "      <td>0.204</td>\n",
       "      <td>0.454</td>\n",
       "      <td>0.2960</td>\n",
       "      <td>positive</td>\n",
       "    </tr>\n",
       "    <tr>\n",
       "      <th>4</th>\n",
       "      <td>yes we did!!! https://t.co/oiwm2get18</td>\n",
       "      <td>2022-06-02T04:59:57.000Z</td>\n",
       "      <td>[yes, we, did, https, t, co, oiwm2get18]</td>\n",
       "      <td>[yes]</td>\n",
       "      <td>yes</td>\n",
       "      <td></td>\n",
       "      <td></td>\n",
       "      <td>True</td>\n",
       "      <td>0.000</td>\n",
       "      <td>0.000</td>\n",
       "      <td>0.000</td>\n",
       "      <td>0.0000</td>\n",
       "      <td>negative</td>\n",
       "    </tr>\n",
       "    <tr>\n",
       "      <th>5</th>\n",
       "      <td>🤔. “in the face of impossible odds, people who...</td>\n",
       "      <td>2022-06-01T03:18:03.000Z</td>\n",
       "      <td>[in, the, face, of, impossible, odds, people, ...</td>\n",
       "      <td>[face, impossible, odds, people, love, country...</td>\n",
       "      <td>face impossible odds people love country chang...</td>\n",
       "      <td>impossible odds people love country change barack</td>\n",
       "      <td>impossible odds people love country change barack</td>\n",
       "      <td>True</td>\n",
       "      <td>0.000</td>\n",
       "      <td>0.588</td>\n",
       "      <td>0.412</td>\n",
       "      <td>0.6369</td>\n",
       "      <td>positive</td>\n",
       "    </tr>\n",
       "    <tr>\n",
       "      <th>6</th>\n",
       "      <td>congratulations brother!!! 👏🏾👏🏾👏🏾👏🏾 🙏🏾✊🏾🤎👑 htt...</td>\n",
       "      <td>2022-05-31T23:49:11.000Z</td>\n",
       "      <td>[congratulations, brother, https, t, co, 1ac2o...</td>\n",
       "      <td>[congratulations, brother]</td>\n",
       "      <td>congratulations brother</td>\n",
       "      <td></td>\n",
       "      <td></td>\n",
       "      <td>True</td>\n",
       "      <td>0.000</td>\n",
       "      <td>0.000</td>\n",
       "      <td>0.000</td>\n",
       "      <td>0.0000</td>\n",
       "      <td>negative</td>\n",
       "    </tr>\n",
       "    <tr>\n",
       "      <th>7</th>\n",
       "      <td>ayyyyyeeee!!!! 😤😤😤 https://t.co/gxj6zf0dhh</td>\n",
       "      <td>2022-05-30T13:05:47.000Z</td>\n",
       "      <td>[ayyyyyeeee, https, t, co, gxj6zf0dhh]</td>\n",
       "      <td>[ayyyyyeeee]</td>\n",
       "      <td>ayyyyyeeee</td>\n",
       "      <td></td>\n",
       "      <td></td>\n",
       "      <td>True</td>\n",
       "      <td>0.000</td>\n",
       "      <td>0.000</td>\n",
       "      <td>0.000</td>\n",
       "      <td>0.0000</td>\n",
       "      <td>negative</td>\n",
       "    </tr>\n",
       "  </tbody>\n",
       "</table>\n",
       "</div>"
      ],
      "text/plain": [
       "                                                text  \\\n",
       "0    jumping on someone podcast soon. maybe my own 🤔   \n",
       "1  it's so funny to me how many basketball expert...   \n",
       "2  we need to come together and help do whatever ...   \n",
       "3  our condolences goes out to the family who los...   \n",
       "4              yes we did!!! https://t.co/oiwm2get18   \n",
       "5  🤔. “in the face of impossible odds, people who...   \n",
       "6  congratulations brother!!! 👏🏾👏🏾👏🏾👏🏾 🙏🏾✊🏾🤎👑 htt...   \n",
       "7         ayyyyyeeee!!!! 😤😤😤 https://t.co/gxj6zf0dhh   \n",
       "\n",
       "                 created_at  \\\n",
       "0  2022-06-06T02:09:58.000Z   \n",
       "1  2022-06-06T02:09:05.000Z   \n",
       "2  2022-06-06T00:00:58.000Z   \n",
       "3  2022-06-03T16:01:57.000Z   \n",
       "4  2022-06-02T04:59:57.000Z   \n",
       "5  2022-06-01T03:18:03.000Z   \n",
       "6  2022-05-31T23:49:11.000Z   \n",
       "7  2022-05-30T13:05:47.000Z   \n",
       "\n",
       "                                          text_token  \\\n",
       "0  [jumping, on, someone, podcast, soon, maybe, m...   \n",
       "1  [it, s, so, funny, to, me, how, many, basketba...   \n",
       "2  [we, need, to, come, together, and, help, do, ...   \n",
       "3  [our, condolences, goes, out, to, the, family,...   \n",
       "4           [yes, we, did, https, t, co, oiwm2get18]   \n",
       "5  [in, the, face, of, impossible, odds, people, ...   \n",
       "6  [congratulations, brother, https, t, co, 1ac2o...   \n",
       "7             [ayyyyyeeee, https, t, co, gxj6zf0dhh]   \n",
       "\n",
       "                                text_token_stopwords  \\\n",
       "0           [jumping, someone, podcast, soon, maybe]   \n",
       "1  [funny, many, basketball, experts, app, everyb...   \n",
       "2  [need, come, together, help, whatever, possibl...   \n",
       "3  [condolences, goes, family, lost, loved, one, ...   \n",
       "4                                              [yes]   \n",
       "5  [face, impossible, odds, people, love, country...   \n",
       "6                         [congratulations, brother]   \n",
       "7                                       [ayyyyyeeee]   \n",
       "\n",
       "                                         text_string  \\\n",
       "0                 jumping someone podcast soon maybe   \n",
       "1  funny many basketball experts app everybody dr...   \n",
       "2  need come together help whatever possibly brin...   \n",
       "3  condolences goes family lost loved one heavens...   \n",
       "4                                                yes   \n",
       "5  face impossible odds people love country chang...   \n",
       "6                            congratulations brother   \n",
       "7                                         ayyyyyeeee   \n",
       "\n",
       "                                   text_string_fdist  \\\n",
       "0                       jumping someone podcast soon   \n",
       "1  many basketball experts app everybody dr james...   \n",
       "2  come together help whatever possibly bring bg ...   \n",
       "3  goes family lost loved one heavens watch trage...   \n",
       "4                                                      \n",
       "5  impossible odds people love country change barack   \n",
       "6                                                      \n",
       "7                                                      \n",
       "\n",
       "                                     text_string_lem  is_equal    neg    neu  \\\n",
       "0                       jumping someone podcast soon      True  0.000  1.000   \n",
       "1  many basketball experts app everybody dr james...      True  0.000  1.000   \n",
       "2  come together help whatever possibly bring bg ...      True  0.000  0.585   \n",
       "3  goes family lost loved one heavens watch trage...      True  0.342  0.204   \n",
       "4                                                         True  0.000  0.000   \n",
       "5  impossible odds people love country change barack      True  0.000  0.588   \n",
       "6                                                         True  0.000  0.000   \n",
       "7                                                         True  0.000  0.000   \n",
       "\n",
       "     pos  compound sentiment  \n",
       "0  0.000    0.0000  negative  \n",
       "1  0.000    0.0000  negative  \n",
       "2  0.415    0.8176  positive  \n",
       "3  0.454    0.2960  positive  \n",
       "4  0.000    0.0000  negative  \n",
       "5  0.412    0.6369  positive  \n",
       "6  0.000    0.0000  negative  \n",
       "7  0.000    0.0000  negative  "
      ]
     },
     "execution_count": 33,
     "metadata": {},
     "output_type": "execute_result"
    }
   ],
   "source": [
    "# Wir erstellen eine neue Variable \"sentiment\"\n",
    "\n",
    "df['sentiment'] = df['compound'].apply(lambda x: 'positive' if x >0 else 'negative' if x==0 else 'neutral')\n",
    "\n",
    "df\n",
    "\n"
   ]
  },
  {
   "cell_type": "code",
   "execution_count": 34,
   "metadata": {},
   "outputs": [
    {
     "data": {
      "text/plain": [
       "array(['we need to come together and help do whatever we possibly can to bring bg home quickly and safely!! 🙏🏾 our voice as athletes is stronger together. @uninterrupted 👑 #wearebg https://t.co/2gwv3ff81p',\n",
       "       '2022-06-06T00:00:58.000Z',\n",
       "       list(['we', 'need', 'to', 'come', 'together', 'and', 'help', 'do', 'whatever', 'we', 'possibly', 'can', 'to', 'bring', 'bg', 'home', 'quickly', 'and', 'safely', 'our', 'voice', 'as', 'athletes', 'is', 'stronger', 'together', 'uninterrupted', 'wearebg', 'https', 't', 'co', '2gwv3ff81p']),\n",
       "       list(['need', 'come', 'together', 'help', 'whatever', 'possibly', 'bring', 'bg', 'home', 'quickly', 'safely', 'voice', 'athletes', 'stronger', 'together', 'uninterrupted', 'wearebg']),\n",
       "       'need come together help whatever possibly bring bg home quickly safely voice athletes stronger together uninterrupted wearebg',\n",
       "       'come together help whatever possibly bring bg home quickly safely voice athletes stronger together uninterrupted',\n",
       "       'come together help whatever possibly bring bg home quickly safely voice athletes stronger together uninterrupted',\n",
       "       True, 0.0, 0.585, 0.415, 0.8176, 'positive'], dtype=object)"
      ]
     },
     "execution_count": 34,
     "metadata": {},
     "output_type": "execute_result"
    }
   ],
   "source": [
    "# Tweet mit höchstem postivien Sentiment\n",
    "df.loc[df['compound'].idxmax()].values"
   ]
  },
  {
   "cell_type": "code",
   "execution_count": 35,
   "metadata": {},
   "outputs": [
    {
     "data": {
      "text/plain": [
       "array(['jumping on someone podcast soon. maybe my own 🤔',\n",
       "       '2022-06-06T02:09:58.000Z',\n",
       "       list(['jumping', 'on', 'someone', 'podcast', 'soon', 'maybe', 'my', 'own']),\n",
       "       list(['jumping', 'someone', 'podcast', 'soon', 'maybe']),\n",
       "       'jumping someone podcast soon maybe',\n",
       "       'jumping someone podcast soon', 'jumping someone podcast soon',\n",
       "       True, 0.0, 1.0, 0.0, 0.0, 'negative'], dtype=object)"
      ]
     },
     "execution_count": 35,
     "metadata": {},
     "output_type": "execute_result"
    }
   ],
   "source": [
    "# Tweet mit hächstem negativen Sentiment\n",
    "df.loc[df['compound'].idxmin()].values"
   ]
  },
  {
   "cell_type": "code",
   "execution_count": 36,
   "metadata": {},
   "outputs": [
    {
     "data": {
      "image/png": "[encoded data removed]",
      "text/plain": [
       "<Figure size 432x288 with 1 Axes>"
      ]
     },
     "metadata": {},
     "output_type": "display_data"
    }
   ],
   "source": [
    "# Plot in welchem gezählt wird, wie oft Tweets positiv bzw. negativ sind \n",
    "sns.countplot(y='sentiment', \n",
    "             data= df, \n",
    "             palette=['#b2d8d8',\"#008080\", '#db3d13']\n",
    "             );"
   ]
  },
  {
   "cell_type": "code",
   "execution_count": 37,
   "metadata": {},
   "outputs": [
    {
     "data": {
      "image/png": "[encoded data removed]",
      "text/plain": [
       "<Figure size 432x288 with 1 Axes>"
      ]
     },
     "metadata": {},
     "output_type": "display_data"
    }
   ],
   "source": [
    "# Lineplot mit den verschiedenen Stimmungen \n",
    "g = sns.lineplot(x='created_at', y='compound', data=df)\n",
    "\n",
    "g.set(xticklabels=[]) \n",
    "g.set(title='Sentiment of Tweets')\n",
    "g.set(xlabel=\"Time\")\n",
    "g.set(ylabel=\"Sentiment\")\n",
    "g.tick_params(bottom=False)\n",
    "\n",
    "g.axhline(0, ls='--', c = 'grey');"
   ]
  },
  {
   "cell_type": "code",
   "execution_count": 38,
   "metadata": {},
   "outputs": [
    {
     "data": {
      "image/png": "[encoded data removed]",
      "text/plain": [
       "<Figure size 432x288 with 1 Axes>"
      ]
     },
     "metadata": {},
     "output_type": "display_data"
    }
   ],
   "source": [
    " \n",
    "sns.boxplot(y='compound', \n",
    "            x='sentiment',\n",
    "            palette=['#b2d8d8',\"#008080\", '#db3d13'], \n",
    "            data=df);"
   ]
  },
  {
   "cell_type": "code",
   "execution_count": 39,
   "metadata": {},
   "outputs": [],
   "source": [
    "df.to_csv(\"/Users/rafaela/test/streamlit-app/1-first-app/FallStudie2_Daten.csv\")"
   ]
  }
 ],
 "metadata": {
  "interpreter": {
   "hash": "40d3a090f54c6569ab1632332b64b2c03c39dcf918b08424e98f38b5ae0af88f"
  },
  "kernelspec": {
   "display_name": "Python 3.7.13 ('base')",
   "language": "python",
   "name": "python3"
  },
  "language_info": {
   "codemirror_mode": {
    "name": "ipython",
    "version": 3
   },
   "file_extension": ".py",
   "mimetype": "text/x-python",
   "name": "python",
   "nbconvert_exporter": "python",
   "pygments_lexer": "ipython3",
   "version": "3.7.13"
  },
  "orig_nbformat": 4
 },
 "nbformat": 4,
 "nbformat_minor": 2
}
