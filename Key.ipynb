{
 "cells": [
  {
   "cell_type": "code",
   "execution_count": 2,
   "metadata": {},
   "outputs": [],
   "source": [
    "consumer_key= \"O6S9Dqz59HcsTCmWqGt2I2UK0\"\n",
    "consumer_secret= \"P9sXknnuA2qVM1jh38asDlQZadnaBX1xh2Bc2ptQDXQhzpGXUL\"\n",
    "access_token= \"1457401307304706065-txNKnVEyeTJ0wPkNzMLRcWWNEPx8FX\"\n",
    "access_token_secret= \"O4Kz7tEGWIcCDtuvUJbwBOT0C3HznQjwAkwXcmWmRoZ2R\"\n",
    "bearer_token = \"AAAAAAAAAAAAAAAAAAAAAJuHWgEAAAAAZZzGNSewFObbzQNwrjafck36sAg%3DodSUJhWL4dV1kfQnu45S5QYyH08Txq0z15Ttc2PjMHuvSP0OG8\""
   ]
  }
 ],
 "metadata": {
  "interpreter": {
   "hash": "40d3a090f54c6569ab1632332b64b2c03c39dcf918b08424e98f38b5ae0af88f"
  },
  "kernelspec": {
   "display_name": "Python 3.7.11 ('base')",
   "language": "python",
   "name": "python3"
  },
  "language_info": {
   "codemirror_mode": {
    "name": "ipython",
    "version": 3
   },
   "file_extension": ".py",
   "mimetype": "text/x-python",
   "name": "python",
   "nbconvert_exporter": "python",
   "pygments_lexer": "ipython3",
   "version": "3.7.11"
  },
  "orig_nbformat": 4
 },
 "nbformat": 4,
 "nbformat_minor": 2
}
